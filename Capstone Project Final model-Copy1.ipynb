{
 "cells": [
  {
   "cell_type": "code",
   "execution_count": 1,
   "id": "9d1bd1f0-36d7-43cd-973e-c11841a46068",
   "metadata": {},
   "outputs": [],
   "source": [
    "import pandas as pd\n",
    "import numpy as np\n",
    "import seaborn as sb\n",
    "import datetime\n",
    "import matplotlib.pyplot as plt\n",
    "from sklearn.preprocessing import LabelEncoder, StandardScaler\n",
    "from sklearn.model_selection import train_test_split\n",
    "from sklearn.linear_model import LinearRegression, LogisticRegression"
   ]
  },
  {
   "cell_type": "code",
   "execution_count": 2,
   "id": "95a8ea52-4682-45ab-af7e-95209bdec4ea",
   "metadata": {},
   "outputs": [],
   "source": [
    "from warnings import filterwarnings\n",
    "filterwarnings('ignore')"
   ]
  },
  {
   "cell_type": "code",
   "execution_count": 3,
   "id": "150522d8-fbde-47e8-a5a9-84f43d9587b1",
   "metadata": {},
   "outputs": [],
   "source": [
    "import statsmodels.api as sm"
   ]
  },
  {
   "cell_type": "code",
   "execution_count": 4,
   "id": "8e5f476b-4d8a-4a21-aa96-41fb13195920",
   "metadata": {},
   "outputs": [],
   "source": [
    "from sklearn.metrics import classification_report"
   ]
  },
  {
   "cell_type": "code",
   "execution_count": 5,
   "id": "bd430fed-56f8-4676-9380-ed19e04e3ac1",
   "metadata": {},
   "outputs": [
    {
     "data": {
      "text/html": [
       "<div>\n",
       "<style scoped>\n",
       "    .dataframe tbody tr th:only-of-type {\n",
       "        vertical-align: middle;\n",
       "    }\n",
       "\n",
       "    .dataframe tbody tr th {\n",
       "        vertical-align: top;\n",
       "    }\n",
       "\n",
       "    .dataframe thead th {\n",
       "        text-align: right;\n",
       "    }\n",
       "</style>\n",
       "<table border=\"1\" class=\"dataframe\">\n",
       "  <thead>\n",
       "    <tr style=\"text-align: right;\">\n",
       "      <th></th>\n",
       "      <th>case_year</th>\n",
       "      <th>case_status</th>\n",
       "      <th>case_submitted</th>\n",
       "      <th>decision_date</th>\n",
       "      <th>emp_name</th>\n",
       "      <th>emp_city</th>\n",
       "      <th>emp_state</th>\n",
       "      <th>emp_zip</th>\n",
       "      <th>emp_country</th>\n",
       "      <th>job_title</th>\n",
       "      <th>...</th>\n",
       "      <th>pw_level</th>\n",
       "      <th>wage_from</th>\n",
       "      <th>wage_to</th>\n",
       "      <th>wage_unit</th>\n",
       "      <th>work_city</th>\n",
       "      <th>work_state</th>\n",
       "      <th>emp_h1b_dependent</th>\n",
       "      <th>emp_willful_violator</th>\n",
       "      <th>lat</th>\n",
       "      <th>lng</th>\n",
       "    </tr>\n",
       "  </thead>\n",
       "  <tbody>\n",
       "    <tr>\n",
       "      <th>0</th>\n",
       "      <td>2017</td>\n",
       "      <td>C</td>\n",
       "      <td>2017-02-06</td>\n",
       "      <td>2017-02-10</td>\n",
       "      <td>LAKELANDS NEPHROLOGY, PA</td>\n",
       "      <td>GREENWOOD</td>\n",
       "      <td>SC</td>\n",
       "      <td>29646</td>\n",
       "      <td>USA</td>\n",
       "      <td>NEPHROLOGIST</td>\n",
       "      <td>...</td>\n",
       "      <td>NaN</td>\n",
       "      <td>190000.00</td>\n",
       "      <td>0.0</td>\n",
       "      <td>Y</td>\n",
       "      <td>ABBEVILLE</td>\n",
       "      <td>SC</td>\n",
       "      <td>N</td>\n",
       "      <td>N</td>\n",
       "      <td>34.178172</td>\n",
       "      <td>-82.379015</td>\n",
       "    </tr>\n",
       "    <tr>\n",
       "      <th>1</th>\n",
       "      <td>2017</td>\n",
       "      <td>C</td>\n",
       "      <td>2017-03-21</td>\n",
       "      <td>2017-03-27</td>\n",
       "      <td>UNIVERSITY OF IDAHO</td>\n",
       "      <td>MOSCOW</td>\n",
       "      <td>ID</td>\n",
       "      <td>83844</td>\n",
       "      <td>USA</td>\n",
       "      <td>POST DOCTORAL FELLOW</td>\n",
       "      <td>...</td>\n",
       "      <td>Level I</td>\n",
       "      <td>47507.00</td>\n",
       "      <td>0.0</td>\n",
       "      <td>Y</td>\n",
       "      <td>ABERDEEN</td>\n",
       "      <td>ID</td>\n",
       "      <td>N</td>\n",
       "      <td>N</td>\n",
       "      <td>42.944078</td>\n",
       "      <td>-112.838326</td>\n",
       "    </tr>\n",
       "    <tr>\n",
       "      <th>2</th>\n",
       "      <td>2017</td>\n",
       "      <td>C</td>\n",
       "      <td>2017-03-17</td>\n",
       "      <td>2017-03-23</td>\n",
       "      <td>XPO SUPPLY CHAIN, INC.</td>\n",
       "      <td>HIGH POINT</td>\n",
       "      <td>NC</td>\n",
       "      <td>27265</td>\n",
       "      <td>USA</td>\n",
       "      <td>OPERATION ANALYST</td>\n",
       "      <td>...</td>\n",
       "      <td>Level I</td>\n",
       "      <td>65000.00</td>\n",
       "      <td>0.0</td>\n",
       "      <td>Y</td>\n",
       "      <td>ABERDEEN</td>\n",
       "      <td>MD</td>\n",
       "      <td>N</td>\n",
       "      <td>N</td>\n",
       "      <td>39.509556</td>\n",
       "      <td>-76.164120</td>\n",
       "    </tr>\n",
       "    <tr>\n",
       "      <th>3</th>\n",
       "      <td>2017</td>\n",
       "      <td>C</td>\n",
       "      <td>2017-03-10</td>\n",
       "      <td>2017-03-16</td>\n",
       "      <td>C AND S WHOLESALE GROCERS, INC.</td>\n",
       "      <td>KEENE</td>\n",
       "      <td>NH</td>\n",
       "      <td>03431</td>\n",
       "      <td>USA</td>\n",
       "      <td>SR. INDUSTRIAL ENGINEER</td>\n",
       "      <td>...</td>\n",
       "      <td>Level II</td>\n",
       "      <td>86988.15</td>\n",
       "      <td>0.0</td>\n",
       "      <td>Y</td>\n",
       "      <td>ABERDEEN</td>\n",
       "      <td>MD</td>\n",
       "      <td>N</td>\n",
       "      <td>N</td>\n",
       "      <td>39.509556</td>\n",
       "      <td>-76.164120</td>\n",
       "    </tr>\n",
       "    <tr>\n",
       "      <th>4</th>\n",
       "      <td>2017</td>\n",
       "      <td>C</td>\n",
       "      <td>2017-08-04</td>\n",
       "      <td>2017-08-10</td>\n",
       "      <td>SANFORD CLINIC</td>\n",
       "      <td>SIOUX FALLS</td>\n",
       "      <td>SD</td>\n",
       "      <td>57117</td>\n",
       "      <td>NaN</td>\n",
       "      <td>HEMATOLOGIST/ONCOLOGIST</td>\n",
       "      <td>...</td>\n",
       "      <td>NaN</td>\n",
       "      <td>450000.00</td>\n",
       "      <td>0.0</td>\n",
       "      <td>Y</td>\n",
       "      <td>ABERDEEN</td>\n",
       "      <td>SD</td>\n",
       "      <td>N</td>\n",
       "      <td>N</td>\n",
       "      <td>45.464698</td>\n",
       "      <td>-98.486483</td>\n",
       "    </tr>\n",
       "  </tbody>\n",
       "</table>\n",
       "<p>5 rows × 25 columns</p>\n",
       "</div>"
      ],
      "text/plain": [
       "   case_year case_status case_submitted decision_date  \\\n",
       "0       2017           C     2017-02-06    2017-02-10   \n",
       "1       2017           C     2017-03-21    2017-03-27   \n",
       "2       2017           C     2017-03-17    2017-03-23   \n",
       "3       2017           C     2017-03-10    2017-03-16   \n",
       "4       2017           C     2017-08-04    2017-08-10   \n",
       "\n",
       "                          emp_name     emp_city emp_state emp_zip emp_country  \\\n",
       "0         LAKELANDS NEPHROLOGY, PA    GREENWOOD        SC   29646         USA   \n",
       "1              UNIVERSITY OF IDAHO       MOSCOW        ID   83844         USA   \n",
       "2           XPO SUPPLY CHAIN, INC.   HIGH POINT        NC   27265         USA   \n",
       "3  C AND S WHOLESALE GROCERS, INC.        KEENE        NH   03431         USA   \n",
       "4                   SANFORD CLINIC  SIOUX FALLS        SD   57117         NaN   \n",
       "\n",
       "                 job_title  ...  pw_level  wage_from wage_to  wage_unit  \\\n",
       "0             NEPHROLOGIST  ...       NaN  190000.00     0.0          Y   \n",
       "1     POST DOCTORAL FELLOW  ...   Level I   47507.00     0.0          Y   \n",
       "2        OPERATION ANALYST  ...   Level I   65000.00     0.0          Y   \n",
       "3  SR. INDUSTRIAL ENGINEER  ...  Level II   86988.15     0.0          Y   \n",
       "4  HEMATOLOGIST/ONCOLOGIST  ...       NaN  450000.00     0.0          Y   \n",
       "\n",
       "   work_city work_state  emp_h1b_dependent  emp_willful_violator        lat  \\\n",
       "0  ABBEVILLE         SC                  N                     N  34.178172   \n",
       "1   ABERDEEN         ID                  N                     N  42.944078   \n",
       "2   ABERDEEN         MD                  N                     N  39.509556   \n",
       "3   ABERDEEN         MD                  N                     N  39.509556   \n",
       "4   ABERDEEN         SD                  N                     N  45.464698   \n",
       "\n",
       "          lng  \n",
       "0  -82.379015  \n",
       "1 -112.838326  \n",
       "2  -76.164120  \n",
       "3  -76.164120  \n",
       "4  -98.486483  \n",
       "\n",
       "[5 rows x 25 columns]"
      ]
     },
     "execution_count": 5,
     "metadata": {},
     "output_type": "execute_result"
    }
   ],
   "source": [
    "df = pd.read_csv('h1b_data.csv')\n",
    "df.head()"
   ]
  },
  {
   "cell_type": "code",
   "execution_count": 6,
   "id": "88b763e7-e7d1-42a0-8df2-586c8b3ed64e",
   "metadata": {},
   "outputs": [
    {
     "data": {
      "text/plain": [
       "(3360810, 25)"
      ]
     },
     "execution_count": 6,
     "metadata": {},
     "output_type": "execute_result"
    }
   ],
   "source": [
    "df.shape"
   ]
  },
  {
   "cell_type": "markdown",
   "id": "e5c5374f-8e55-4a83-9a48-6b9a55c5dfe5",
   "metadata": {},
   "source": [
    "### Since the dataset is quite massive, it is a good idea to work on a sample. The latest data we have is from the year 2017, so we will choose that."
   ]
  },
  {
   "cell_type": "code",
   "execution_count": 7,
   "id": "b9f7ba59-0fc9-4227-950d-a188590e4137",
   "metadata": {},
   "outputs": [],
   "source": [
    "df17 = df[df['case_year'] == 2017]"
   ]
  },
  {
   "cell_type": "code",
   "execution_count": 8,
   "id": "a157794f-0d90-4845-93b8-bbd0ea296b77",
   "metadata": {},
   "outputs": [
    {
     "data": {
      "text/plain": [
       "(579397, 25)"
      ]
     },
     "execution_count": 8,
     "metadata": {},
     "output_type": "execute_result"
    }
   ],
   "source": [
    "df17.shape"
   ]
  },
  {
   "cell_type": "markdown",
   "id": "d7b05c13-952b-4bed-b2d4-b3400d9368d4",
   "metadata": {},
   "source": [
    "### Since all the data in our sample dataset is from 2017, we can remove the case year column."
   ]
  },
  {
   "cell_type": "code",
   "execution_count": 9,
   "id": "65cdd226-5eb8-4c70-9ba8-4268e754f69d",
   "metadata": {},
   "outputs": [],
   "source": [
    "df17 = df17.drop('case_year', axis = 1)"
   ]
  },
  {
   "cell_type": "code",
   "execution_count": 10,
   "id": "8bd18cce-f7cb-48e3-879c-71ef10711ef7",
   "metadata": {},
   "outputs": [
    {
     "data": {
      "text/plain": [
       "case_status              0.000000\n",
       "case_submitted           0.000000\n",
       "decision_date            0.000000\n",
       "emp_name                 0.008630\n",
       "emp_city                 0.002071\n",
       "emp_state                0.002934\n",
       "emp_zip                  0.002416\n",
       "emp_country             15.271222\n",
       "job_title                0.000518\n",
       "soc_code                 0.000000\n",
       "soc_name                 0.000173\n",
       "full_time_position       0.000345\n",
       "prevailing_wage          0.000173\n",
       "pw_unit                  0.004833\n",
       "pw_level                19.596408\n",
       "wage_from                0.000000\n",
       "wage_to                  0.000000\n",
       "wage_unit                0.000690\n",
       "work_city                0.000000\n",
       "work_state               0.000000\n",
       "emp_h1b_dependent        0.000345\n",
       "emp_willful_violator     0.000345\n",
       "lat                      0.000000\n",
       "lng                      0.000000\n",
       "dtype: float64"
      ]
     },
     "execution_count": 10,
     "metadata": {},
     "output_type": "execute_result"
    }
   ],
   "source": [
    "df17.isnull().sum()/len(df17)*100"
   ]
  },
  {
   "cell_type": "markdown",
   "id": "eb7c952e-b961-439a-9d78-255b068a2380",
   "metadata": {},
   "source": [
    "### Since emp_country and pw_level have the most number of missing values, we will deal with them first."
   ]
  },
  {
   "cell_type": "code",
   "execution_count": 11,
   "id": "87a33a7c-f4ca-4042-8a2f-0965ce604cd5",
   "metadata": {},
   "outputs": [
    {
     "data": {
      "text/plain": [
       "USA          490905\n",
       "CANADA            7\n",
       "AUSTRALIA         2\n",
       "CAMBODIA          1\n",
       "CHINA             1\n",
       "Name: emp_country, dtype: int64"
      ]
     },
     "execution_count": 11,
     "metadata": {},
     "output_type": "execute_result"
    }
   ],
   "source": [
    "df17['emp_country'].value_counts()"
   ]
  },
  {
   "cell_type": "markdown",
   "id": "a6167ab6-9cfa-48cf-8f96-02fc9bf3a2ae",
   "metadata": {},
   "source": [
    "### From the output of the value_counts function, we can see that the emp_country column has a mode of USA. Since we have no other information about the missing values in the emp_country column, we can impute the mode of the column."
   ]
  },
  {
   "cell_type": "code",
   "execution_count": 12,
   "id": "93858fe7-da2e-4e97-8877-f1fbe7c03f43",
   "metadata": {},
   "outputs": [],
   "source": [
    "df17['emp_country'] = df17['emp_country'].fillna('USA', axis = 0)"
   ]
  },
  {
   "cell_type": "code",
   "execution_count": 13,
   "id": "91c28d62-c145-4619-a7c8-0a05d93f9cc7",
   "metadata": {},
   "outputs": [
    {
     "data": {
      "text/plain": [
       "0"
      ]
     },
     "execution_count": 13,
     "metadata": {},
     "output_type": "execute_result"
    }
   ],
   "source": [
    "df17['emp_country'].isnull().sum()"
   ]
  },
  {
   "cell_type": "code",
   "execution_count": 14,
   "id": "9a311cd8-4c17-4e02-bb7a-cb7374800616",
   "metadata": {},
   "outputs": [
    {
     "data": {
      "text/plain": [
       "Level I      206508\n",
       "Level II     167807\n",
       "Level III     58403\n",
       "Level IV      33138\n",
       "Name: pw_level, dtype: int64"
      ]
     },
     "execution_count": 14,
     "metadata": {},
     "output_type": "execute_result"
    }
   ],
   "source": [
    "df17['pw_level'].value_counts()"
   ]
  },
  {
   "cell_type": "markdown",
   "id": "03cc0a0b-51f9-417f-8e4c-9fd83372276f",
   "metadata": {},
   "source": [
    "### Since both Level I and Level II occur frequently, we are using bfill to fill null values."
   ]
  },
  {
   "cell_type": "code",
   "execution_count": 15,
   "id": "c9ba107f-bcb9-45ab-aded-f62d7966e3b8",
   "metadata": {},
   "outputs": [],
   "source": [
    "df17['pw_level'].fillna(method = 'bfill', inplace = True)"
   ]
  },
  {
   "cell_type": "code",
   "execution_count": 16,
   "id": "f22330ca-10d0-44e2-ad9a-c7b746137ac0",
   "metadata": {},
   "outputs": [],
   "source": [
    "df17['pw_level'].replace(np.nan, 'Level I', inplace = True)"
   ]
  },
  {
   "cell_type": "code",
   "execution_count": 17,
   "id": "ccd6aa7d-6c95-416e-b2ae-bc556b5b9195",
   "metadata": {},
   "outputs": [
    {
     "data": {
      "text/plain": [
       "0"
      ]
     },
     "execution_count": 17,
     "metadata": {},
     "output_type": "execute_result"
    }
   ],
   "source": [
    "df17['pw_level'].isnull().sum()"
   ]
  },
  {
   "cell_type": "code",
   "execution_count": 18,
   "id": "3974ca3b-0c87-45a2-a5c1-7a3f0c30053d",
   "metadata": {},
   "outputs": [
    {
     "data": {
      "text/plain": [
       "case_status              0\n",
       "case_submitted           0\n",
       "decision_date            0\n",
       "emp_name                50\n",
       "emp_city                12\n",
       "emp_state               17\n",
       "emp_zip                 14\n",
       "emp_country              0\n",
       "job_title                3\n",
       "soc_code                 0\n",
       "soc_name                 1\n",
       "full_time_position       2\n",
       "prevailing_wage          1\n",
       "pw_unit                 28\n",
       "pw_level                 0\n",
       "wage_from                0\n",
       "wage_to                  0\n",
       "wage_unit                4\n",
       "work_city                0\n",
       "work_state               0\n",
       "emp_h1b_dependent        2\n",
       "emp_willful_violator     2\n",
       "lat                      0\n",
       "lng                      0\n",
       "dtype: int64"
      ]
     },
     "execution_count": 18,
     "metadata": {},
     "output_type": "execute_result"
    }
   ],
   "source": [
    "df17.isnull().sum()"
   ]
  },
  {
   "cell_type": "code",
   "execution_count": 19,
   "id": "3bcea584-8952-410e-ac14-f4ee3c83eb42",
   "metadata": {},
   "outputs": [
    {
     "data": {
      "text/plain": [
       "CA    97300\n",
       "TX    83660\n",
       "NJ    69884\n",
       "IL    39083\n",
       "NY    36916\n",
       "MI    25719\n",
       "PA    24082\n",
       "MA    21954\n",
       "MD    20162\n",
       "WA    19806\n",
       "VA    18082\n",
       "FL    18007\n",
       "NC    17595\n",
       "GA    16081\n",
       "OH     9022\n",
       "CT     5591\n",
       "TN     4491\n",
       "MN     4391\n",
       "MO     4346\n",
       "AZ     3876\n",
       "CO     3723\n",
       "WI     3456\n",
       "IN     2700\n",
       "KY     2358\n",
       "DE     2272\n",
       "AR     2148\n",
       "IA     1986\n",
       "DC     1875\n",
       "UT     1821\n",
       "KS     1807\n",
       "NE     1706\n",
       "OR     1565\n",
       "SC     1448\n",
       "LA     1207\n",
       "AL     1126\n",
       "NH      979\n",
       "OK      940\n",
       "RI      930\n",
       "NV      853\n",
       "ID      600\n",
       "NM      593\n",
       "PR      549\n",
       "ME      435\n",
       "MS      412\n",
       "VT      385\n",
       "WV      367\n",
       "ND      301\n",
       "HI      280\n",
       "SD      217\n",
       "MT      111\n",
       "WY       88\n",
       "AK       74\n",
       "VI       19\n",
       "AS        1\n",
       "Name: emp_state, dtype: int64"
      ]
     },
     "execution_count": 19,
     "metadata": {},
     "output_type": "execute_result"
    }
   ],
   "source": [
    "df17['emp_state'].value_counts()"
   ]
  },
  {
   "cell_type": "code",
   "execution_count": 20,
   "id": "37fecc45-b49f-455b-82af-8aaa865a17c6",
   "metadata": {},
   "outputs": [
    {
     "data": {
      "text/plain": [
       "PLANO        32620\n",
       "NEW YORK     27014\n",
       "CHICAGO      24079\n",
       "ROCKVILLE    13824\n",
       "EDISON       11754\n",
       "             ...  \n",
       "DURAND           1\n",
       "OWOSSO           1\n",
       "MONACA           1\n",
       "DUNMORE          1\n",
       "PONDER           1\n",
       "Name: emp_city, Length: 4603, dtype: int64"
      ]
     },
     "execution_count": 20,
     "metadata": {},
     "output_type": "execute_result"
    }
   ],
   "source": [
    "df17['emp_city'].value_counts()"
   ]
  },
  {
   "cell_type": "code",
   "execution_count": 21,
   "id": "364d8770-2d80-4896-8989-6627c429dc13",
   "metadata": {},
   "outputs": [],
   "source": [
    "df17['emp_state'].replace(np.nan, 'CA', inplace = True)"
   ]
  },
  {
   "cell_type": "code",
   "execution_count": 22,
   "id": "dbdc74ba-17b6-4754-aab4-237e7e244376",
   "metadata": {},
   "outputs": [],
   "source": [
    "df17['emp_city'].replace(np.nan, 'PLANO', inplace = True)"
   ]
  },
  {
   "cell_type": "code",
   "execution_count": 23,
   "id": "db5b154d-ffa9-4eb5-a195-61d9462cbd18",
   "metadata": {},
   "outputs": [
    {
     "data": {
      "text/plain": [
       "75024         22282\n",
       "20850         13619\n",
       "27709         10896\n",
       "60606         10332\n",
       "19103          9900\n",
       "              ...  \n",
       "19801-5363        1\n",
       "32174             1\n",
       "92368             1\n",
       "83544             1\n",
       "33541             1\n",
       "Name: emp_zip, Length: 10328, dtype: int64"
      ]
     },
     "execution_count": 23,
     "metadata": {},
     "output_type": "execute_result"
    }
   ],
   "source": [
    "df17['emp_zip'].value_counts()"
   ]
  },
  {
   "cell_type": "code",
   "execution_count": 24,
   "id": "cb6f1805-f1a7-4ec7-a8b4-454df352588b",
   "metadata": {},
   "outputs": [],
   "source": [
    "df17['emp_zip'].replace(np.nan, '159573', inplace = True)"
   ]
  },
  {
   "cell_type": "code",
   "execution_count": 25,
   "id": "12519e0e-169f-4ca7-9145-b1f09e796eb1",
   "metadata": {},
   "outputs": [
    {
     "data": {
      "text/plain": [
       "PROGRAMMER ANALYST                                   44275\n",
       "SOFTWARE ENGINEER                                    26587\n",
       "SOFTWARE DEVELOPER                                   15188\n",
       "SYSTEMS ANALYST                                      10131\n",
       "BUSINESS ANALYST                                      6905\n",
       "                                                     ...  \n",
       "ATG SOFTWARE DEVELOPER                                   1\n",
       "SENIOR WEBSPHERE ENGINEER                                1\n",
       "UNIFIED COMMUNICATIONS TECHNICAL SUPPORT ENGINEER        1\n",
       "COMPUTER SYSTEM ANALYST. SENIOR.NET                      1\n",
       "LEAD DEVELOPER, STERLING OMS                             1\n",
       "Name: job_title, Length: 85633, dtype: int64"
      ]
     },
     "execution_count": 25,
     "metadata": {},
     "output_type": "execute_result"
    }
   ],
   "source": [
    "df17['job_title'].value_counts()"
   ]
  },
  {
   "cell_type": "code",
   "execution_count": 26,
   "id": "ed114b15-2cf6-46f5-9bde-eb932d1679c0",
   "metadata": {},
   "outputs": [],
   "source": [
    "df17['job_title'].replace(np.nan, 'PROGRAMMER ANALYST', inplace = True)"
   ]
  },
  {
   "cell_type": "code",
   "execution_count": 27,
   "id": "ef30c4b6-0c0c-437c-b20c-3469589390cf",
   "metadata": {},
   "outputs": [
    {
     "data": {
      "text/plain": [
       "SOFTWARE DEVELOPERS, APPLICATIONS                    118071\n",
       "COMPUTER SYSTEMS ANALYSTS                             88486\n",
       "COMPUTER PROGRAMMERS                                  62335\n",
       "COMPUTER OCCUPATIONS, ALL OTHER                       49762\n",
       "SOFTWARE DEVELOPERS, SYSTEMS SOFTWARE                 17573\n",
       "                                                      ...  \n",
       "BIOINFORMATICS TECHNICIANS                                1\n",
       "SOFTWARE QUALITY ANALYSTS, ENGINEERS AND TESTERS          1\n",
       "AGRICULTURAL INSPECTORS                                   1\n",
       "MEDICAL SCIENTISTS, EXCEPT EPIDEMIOLOGITS                 1\n",
       "ENGINEERING TECHNICIANS, EXCEPT DRAFTERS, ALL OTH         1\n",
       "Name: soc_name, Length: 824, dtype: int64"
      ]
     },
     "execution_count": 27,
     "metadata": {},
     "output_type": "execute_result"
    }
   ],
   "source": [
    "df17['soc_name'].value_counts()"
   ]
  },
  {
   "cell_type": "code",
   "execution_count": 28,
   "id": "6037c135-074e-4cce-b75c-6b55d714ba61",
   "metadata": {},
   "outputs": [],
   "source": [
    "df17['soc_name'].replace(np.nan, 'COMPUTER SYSTEMS ANALYSTS', inplace = True)"
   ]
  },
  {
   "cell_type": "code",
   "execution_count": 29,
   "id": "eaba68be-1923-4f2b-9ee6-ed87bb1ccc79",
   "metadata": {},
   "outputs": [
    {
     "data": {
      "text/plain": [
       "Y    567381\n",
       "N     12014\n",
       "Name: full_time_position, dtype: int64"
      ]
     },
     "execution_count": 29,
     "metadata": {},
     "output_type": "execute_result"
    }
   ],
   "source": [
    "df17['full_time_position'].value_counts()"
   ]
  },
  {
   "cell_type": "code",
   "execution_count": 30,
   "id": "0cb8f249-98e8-46bb-803c-b27f2eff258f",
   "metadata": {},
   "outputs": [],
   "source": [
    "df17['full_time_position'].replace(np.nan, 'Y', inplace = True)"
   ]
  },
  {
   "cell_type": "code",
   "execution_count": 31,
   "id": "c7d89bc1-abdb-42a7-b5ca-349de1134809",
   "metadata": {},
   "outputs": [
    {
     "data": {
      "text/plain": [
       "70221.0"
      ]
     },
     "execution_count": 31,
     "metadata": {},
     "output_type": "execute_result"
    }
   ],
   "source": [
    "df17['prevailing_wage'].median()"
   ]
  },
  {
   "cell_type": "code",
   "execution_count": 32,
   "id": "0e886047-d70c-4b99-af63-7622087999f9",
   "metadata": {},
   "outputs": [],
   "source": [
    "df17['prevailing_wage'].replace(np.nan, df['prevailing_wage'].median(), inplace = True)"
   ]
  },
  {
   "cell_type": "code",
   "execution_count": 33,
   "id": "1ebc28e2-5e1b-45b4-b765-87a6e684013a",
   "metadata": {},
   "outputs": [
    {
     "data": {
      "text/plain": [
       "Y     544764\n",
       "H      34183\n",
       "M        268\n",
       "W        110\n",
       "BW        44\n",
       "Name: pw_unit, dtype: int64"
      ]
     },
     "execution_count": 33,
     "metadata": {},
     "output_type": "execute_result"
    }
   ],
   "source": [
    "df17['pw_unit'].value_counts()"
   ]
  },
  {
   "cell_type": "code",
   "execution_count": 34,
   "id": "d5dbb235-8533-4c61-92fb-7830024bbeb5",
   "metadata": {},
   "outputs": [],
   "source": [
    "df17['pw_unit'].replace(np.nan, 'Y', inplace = True)"
   ]
  },
  {
   "cell_type": "code",
   "execution_count": 35,
   "id": "31026583-f2d7-4763-bfb8-7538cc058da5",
   "metadata": {},
   "outputs": [
    {
     "data": {
      "text/plain": [
       "Y     544804\n",
       "H      33976\n",
       "M        372\n",
       "W        144\n",
       "BW        97\n",
       "Name: wage_unit, dtype: int64"
      ]
     },
     "execution_count": 35,
     "metadata": {},
     "output_type": "execute_result"
    }
   ],
   "source": [
    "df17['wage_unit'].value_counts()"
   ]
  },
  {
   "cell_type": "code",
   "execution_count": 36,
   "id": "2bc666ba-e7d4-451c-b6a6-cc5359438ca3",
   "metadata": {},
   "outputs": [],
   "source": [
    "df17['wage_unit'].replace(np.nan, 'Y', inplace = True)"
   ]
  },
  {
   "cell_type": "code",
   "execution_count": 37,
   "id": "3be2ee58-db3b-410b-b3c9-c6f9f69e0eb9",
   "metadata": {},
   "outputs": [
    {
     "data": {
      "text/plain": [
       "N    358350\n",
       "Y    221045\n",
       "Name: emp_h1b_dependent, dtype: int64"
      ]
     },
     "execution_count": 37,
     "metadata": {},
     "output_type": "execute_result"
    }
   ],
   "source": [
    "df17['emp_h1b_dependent'].value_counts()"
   ]
  },
  {
   "cell_type": "code",
   "execution_count": 38,
   "id": "3a03c70d-d525-4a3b-95c2-1fa408a61d13",
   "metadata": {},
   "outputs": [],
   "source": [
    "df17['emp_h1b_dependent'].replace(np.nan, 'N', inplace = True)"
   ]
  },
  {
   "cell_type": "code",
   "execution_count": 39,
   "id": "793876a7-2201-4c03-93dd-05d93817d255",
   "metadata": {},
   "outputs": [
    {
     "data": {
      "text/plain": [
       "N    578970\n",
       "Y       425\n",
       "Name: emp_willful_violator, dtype: int64"
      ]
     },
     "execution_count": 39,
     "metadata": {},
     "output_type": "execute_result"
    }
   ],
   "source": [
    "df17['emp_willful_violator'].value_counts()"
   ]
  },
  {
   "cell_type": "code",
   "execution_count": 40,
   "id": "3c2e7d9f-a8c8-441a-952f-c33a133c4be0",
   "metadata": {},
   "outputs": [],
   "source": [
    "df17['emp_willful_violator'].replace(np.nan, 'N', inplace = True)"
   ]
  },
  {
   "cell_type": "code",
   "execution_count": 41,
   "id": "3f04cee5-4d3e-4820-9a42-1501df7eb908",
   "metadata": {},
   "outputs": [
    {
     "data": {
      "text/plain": [
       "INFOSYS LIMITED                                   20146\n",
       "TATA CONSULTANCY SERVICES LIMITED                 12897\n",
       "CAPGEMINI AMERICA INC                              8982\n",
       "IBM INDIA PRIVATE LIMITED                          8390\n",
       "DELOITTE CONSULTING LLP                            6833\n",
       "                                                  ...  \n",
       "MICROSOL RESOURCES CORPORATION                        1\n",
       "MONSE LLC                                             1\n",
       "HER JUSTICE                                           1\n",
       "STANDARD & POOR'S SECURITIES EVALUATIONS, INC.        1\n",
       "STULLER INC                                           1\n",
       "Name: emp_name, Length: 63715, dtype: int64"
      ]
     },
     "execution_count": 41,
     "metadata": {},
     "output_type": "execute_result"
    }
   ],
   "source": [
    "df17['emp_name'].value_counts()"
   ]
  },
  {
   "cell_type": "code",
   "execution_count": 42,
   "id": "ec1ac5c4-0e55-4c94-9e82-0d623cfe1c01",
   "metadata": {},
   "outputs": [],
   "source": [
    "df17['emp_name'].replace(np.nan, 'INFOSYS LIMITED', inplace = True)"
   ]
  },
  {
   "cell_type": "code",
   "execution_count": 43,
   "id": "89010db3-e145-4e67-ac9d-3eac68368bdd",
   "metadata": {},
   "outputs": [
    {
     "data": {
      "text/plain": [
       "case_status             0\n",
       "case_submitted          0\n",
       "decision_date           0\n",
       "emp_name                0\n",
       "emp_city                0\n",
       "emp_state               0\n",
       "emp_zip                 0\n",
       "emp_country             0\n",
       "job_title               0\n",
       "soc_code                0\n",
       "soc_name                0\n",
       "full_time_position      0\n",
       "prevailing_wage         0\n",
       "pw_unit                 0\n",
       "pw_level                0\n",
       "wage_from               0\n",
       "wage_to                 0\n",
       "wage_unit               0\n",
       "work_city               0\n",
       "work_state              0\n",
       "emp_h1b_dependent       0\n",
       "emp_willful_violator    0\n",
       "lat                     0\n",
       "lng                     0\n",
       "dtype: int64"
      ]
     },
     "execution_count": 43,
     "metadata": {},
     "output_type": "execute_result"
    }
   ],
   "source": [
    "df17.isnull().sum()"
   ]
  },
  {
   "cell_type": "code",
   "execution_count": 44,
   "id": "4cd94554-3c39-46f3-a2ae-2320960143d6",
   "metadata": {},
   "outputs": [
    {
     "name": "stdout",
     "output_type": "stream",
     "text": [
      "<class 'pandas.core.frame.DataFrame'>\n",
      "Int64Index: 579397 entries, 0 to 579396\n",
      "Data columns (total 24 columns):\n",
      " #   Column                Non-Null Count   Dtype  \n",
      "---  ------                --------------   -----  \n",
      " 0   case_status           579397 non-null  object \n",
      " 1   case_submitted        579397 non-null  object \n",
      " 2   decision_date         579397 non-null  object \n",
      " 3   emp_name              579397 non-null  object \n",
      " 4   emp_city              579397 non-null  object \n",
      " 5   emp_state             579397 non-null  object \n",
      " 6   emp_zip               579397 non-null  object \n",
      " 7   emp_country           579397 non-null  object \n",
      " 8   job_title             579397 non-null  object \n",
      " 9   soc_code              579397 non-null  object \n",
      " 10  soc_name              579397 non-null  object \n",
      " 11  full_time_position    579397 non-null  object \n",
      " 12  prevailing_wage       579397 non-null  float64\n",
      " 13  pw_unit               579397 non-null  object \n",
      " 14  pw_level              579397 non-null  object \n",
      " 15  wage_from             579397 non-null  float64\n",
      " 16  wage_to               579397 non-null  float64\n",
      " 17  wage_unit             579397 non-null  object \n",
      " 18  work_city             579397 non-null  object \n",
      " 19  work_state            579397 non-null  object \n",
      " 20  emp_h1b_dependent     579397 non-null  object \n",
      " 21  emp_willful_violator  579397 non-null  object \n",
      " 22  lat                   579397 non-null  float64\n",
      " 23  lng                   579397 non-null  float64\n",
      "dtypes: float64(5), object(19)\n",
      "memory usage: 110.5+ MB\n"
     ]
    }
   ],
   "source": [
    "df17.info()"
   ]
  },
  {
   "cell_type": "code",
   "execution_count": 45,
   "id": "58d1601e-8b4e-4a79-977e-9263a3788414",
   "metadata": {},
   "outputs": [],
   "source": [
    "df_num = df17.select_dtypes(exclude = 'object')\n",
    "df_cat = df17.select_dtypes(include = 'object')"
   ]
  },
  {
   "cell_type": "markdown",
   "id": "50f55a30",
   "metadata": {},
   "source": [
    "### Univariate Analysis"
   ]
  },
  {
   "cell_type": "markdown",
   "id": "90539d06",
   "metadata": {},
   "source": [
    "#### Categorical column"
   ]
  },
  {
   "cell_type": "code",
   "execution_count": 46,
   "id": "6ff56fb8",
   "metadata": {},
   "outputs": [
    {
     "data": {
      "image/png": "[encoded data removed]",
      "text/plain": [
       "<Figure size 576x432 with 1 Axes>"
      ]
     },
     "metadata": {
      "needs_background": "light"
     },
     "output_type": "display_data"
    }
   ],
   "source": [
    "import seaborn as sns\n",
    "import matplotlib.pyplot as plt\n",
    "# Get the top 10 categories by count\n",
    "top_10_categories = df17[\"emp_name\"].value_counts().nlargest(10)\n",
    "\n",
    "# Filter the data for the top 10 categories\n",
    "data_top_10 = df17[df17[\"emp_name\"].isin(top_10_categories.index)]\n",
    "\n",
    "# Plot a countplot of the top 10 categories\n",
    "plt.figure(figsize=(8, 6))\n",
    "sns.countplot(data=data_top_10, x= \"emp_name\", order=top_10_categories.index,)\n",
    "plt.title('Countplot of Top 10 ' + \"emp_name\")\n",
    "plt.xticks(rotation=90)\n",
    "plt.show()"
   ]
  },
  {
   "cell_type": "markdown",
   "id": "e8c65a1c",
   "metadata": {},
   "source": [
    "Based on the above graph we are able to understand that Infosys, TCS and Capgemini are the top employers submitting most number of visa application"
   ]
  },
  {
   "cell_type": "code",
   "execution_count": 47,
   "id": "376552cc",
   "metadata": {},
   "outputs": [
    {
     "data": {
      "image/png": "[encoded data removed]",
      "text/plain": [
       "<Figure size 576x432 with 1 Axes>"
      ]
     },
     "metadata": {
      "needs_background": "light"
     },
     "output_type": "display_data"
    }
   ],
   "source": [
    "# Get the top 10 categories by count\n",
    "top_10_categories = df17[\"emp_city\"].value_counts().nlargest(10)\n",
    "\n",
    "# Filter the data for the top 10 categories\n",
    "data_top_10 = df17[df17[\"emp_city\"].isin(top_10_categories.index)]\n",
    "\n",
    "# Plot a countplot of the top 10 categories\n",
    "plt.figure(figsize=(8, 6))\n",
    "sns.countplot(data=data_top_10, x= \"emp_city\", order=top_10_categories.index,)\n",
    "plt.title('Countplot of Top 10 ' + \"emp_city\")\n",
    "plt.xticks(rotation=90)\n",
    "plt.show()"
   ]
  },
  {
   "cell_type": "markdown",
   "id": "46235ca2",
   "metadata": {},
   "source": [
    "Most number of application are submitted for employers in Plano followed by New York and Chicago"
   ]
  },
  {
   "cell_type": "code",
   "execution_count": 48,
   "id": "ab98678f",
   "metadata": {},
   "outputs": [
    {
     "data": {
      "image/png": "[encoded data removed]",
      "text/plain": [
       "<Figure size 576x432 with 1 Axes>"
      ]
     },
     "metadata": {
      "needs_background": "light"
     },
     "output_type": "display_data"
    }
   ],
   "source": [
    "# Get the top 10 categories by count\n",
    "top_10_categories = df17[\"emp_state\"].value_counts().nlargest(10)\n",
    "\n",
    "# Filter the data for the top 10 categories\n",
    "data_top_10 = df17[df17[\"emp_state\"].isin(top_10_categories.index)]\n",
    "\n",
    "# Plot a countplot of the top 10 categories\n",
    "plt.figure(figsize=(8, 6))\n",
    "sns.countplot(data=data_top_10, x= \"emp_state\", order=top_10_categories.index,)\n",
    "plt.title('Countplot of Top 10 ' + \"emp_state\")\n",
    "plt.xticks(rotation=90)\n",
    "plt.show()"
   ]
  },
  {
   "cell_type": "markdown",
   "id": "2e6d9ff5",
   "metadata": {},
   "source": [
    "California, Texas, New Jersey are top states of employers to which most of the applications are being submitted"
   ]
  },
  {
   "cell_type": "code",
   "execution_count": 49,
   "id": "dde053c4",
   "metadata": {},
   "outputs": [
    {
     "data": {
      "image/png": "[encoded data removed]",
      "text/plain": [
       "<Figure size 576x432 with 1 Axes>"
      ]
     },
     "metadata": {
      "needs_background": "light"
     },
     "output_type": "display_data"
    }
   ],
   "source": [
    "# Get the top 10 categories by count\n",
    "top_10_categories = df17[\"job_title\"].value_counts().nlargest(10)\n",
    "\n",
    "# Filter the data for the top 10 categories\n",
    "data_top_10 = df17[df17[\"job_title\"].isin(top_10_categories.index)]\n",
    "\n",
    "# Plot a countplot of the top 10 categories\n",
    "plt.figure(figsize=(8, 6))\n",
    "sns.countplot(data=data_top_10, x= \"job_title\", order=top_10_categories.index,)\n",
    "plt.title('Countplot of Top 10 ' + \"Job title\")\n",
    "plt.xticks(rotation=90)\n",
    "plt.show()"
   ]
  },
  {
   "cell_type": "markdown",
   "id": "e5dfa6aa",
   "metadata": {},
   "source": [
    "Programmer Analyst is the top role of the applicants followed by Software Engineer and Software Developer"
   ]
  },
  {
   "cell_type": "code",
   "execution_count": 50,
   "id": "f8bd8ebd",
   "metadata": {},
   "outputs": [
    {
     "data": {
      "text/plain": [
       "<AxesSubplot:xlabel='full_time_position', ylabel='count'>"
      ]
     },
     "execution_count": 50,
     "metadata": {},
     "output_type": "execute_result"
    },
    {
     "data": {
      "image/png": "[encoded data removed]",
      "text/plain": [
       "<Figure size 432x288 with 1 Axes>"
      ]
     },
     "metadata": {
      "needs_background": "light"
     },
     "output_type": "display_data"
    }
   ],
   "source": [
    "sns.countplot(df17[\"full_time_position\"])"
   ]
  },
  {
   "cell_type": "markdown",
   "id": "90dac1c8",
   "metadata": {},
   "source": [
    "Most of the applications are being submitted for full time employees and the application from the other category is very minimal"
   ]
  },
  {
   "cell_type": "code",
   "execution_count": 51,
   "id": "d47f35d0",
   "metadata": {},
   "outputs": [
    {
     "data": {
      "text/plain": [
       "<AxesSubplot:xlabel='pw_level', ylabel='count'>"
      ]
     },
     "execution_count": 51,
     "metadata": {},
     "output_type": "execute_result"
    },
    {
     "data": {
      "image/png": "[encoded data removed]",
      "text/plain": [
       "<Figure size 432x288 with 1 Axes>"
      ]
     },
     "metadata": {
      "needs_background": "light"
     },
     "output_type": "display_data"
    }
   ],
   "source": [
    "sns.countplot(df17[\"pw_level\"])"
   ]
  },
  {
   "cell_type": "markdown",
   "id": "1a7a9c30",
   "metadata": {},
   "source": [
    "Most the applicants fall under prewailing wage level-1 category"
   ]
  },
  {
   "cell_type": "code",
   "execution_count": 52,
   "id": "bd0798b2",
   "metadata": {},
   "outputs": [
    {
     "data": {
      "image/png": "[encoded data removed]",
      "text/plain": [
       "<Figure size 576x432 with 1 Axes>"
      ]
     },
     "metadata": {
      "needs_background": "light"
     },
     "output_type": "display_data"
    }
   ],
   "source": [
    "# Get the top 10 categories by count\n",
    "top_10_categories = df17[\"work_city\"].value_counts().nlargest(10)\n",
    "\n",
    "# Filter the data for the top 10 categories\n",
    "data_top_10 = df17[df17[\"work_city\"].isin(top_10_categories.index)]\n",
    "\n",
    "# Plot a countplot of the top 10 categories\n",
    "plt.figure(figsize=(8, 6))\n",
    "sns.countplot(data=data_top_10, x= \"work_city\", order=top_10_categories.index,)\n",
    "plt.title('Countplot of Top 10 ' + \"work_city\")\n",
    "plt.xticks(rotation=90)\n",
    "plt.show()"
   ]
  },
  {
   "cell_type": "markdown",
   "id": "5d214433",
   "metadata": {},
   "source": [
    "Most of the applicants are applying to work in New York"
   ]
  },
  {
   "cell_type": "code",
   "execution_count": 53,
   "id": "efeb526d",
   "metadata": {},
   "outputs": [
    {
     "data": {
      "image/png": "[encoded data removed]",
      "text/plain": [
       "<Figure size 576x432 with 1 Axes>"
      ]
     },
     "metadata": {
      "needs_background": "light"
     },
     "output_type": "display_data"
    }
   ],
   "source": [
    "# Get the top 5 categories by count\n",
    "top_10_categories = df17[\"work_state\"].value_counts().nlargest(10)\n",
    "\n",
    "# Filter the data for the top 5 categories\n",
    "data_top_10 = df17[df17[\"work_state\"].isin(top_10_categories.index)]\n",
    "\n",
    "# Plot a countplot of the top 5 categories\n",
    "plt.figure(figsize=(8, 6))\n",
    "sns.countplot(data=data_top_10, x= \"work_state\", order=top_10_categories.index,)\n",
    "plt.title('Countplot of Top 10 ' + \"work_state\")\n",
    "plt.xticks(rotation=90)\n",
    "plt.show()"
   ]
  },
  {
   "cell_type": "markdown",
   "id": "a974f8d0",
   "metadata": {},
   "source": [
    "CA is the top state where most applicants prefer to work for"
   ]
  },
  {
   "cell_type": "code",
   "execution_count": 54,
   "id": "1b189603",
   "metadata": {},
   "outputs": [
    {
     "data": {
      "text/plain": [
       "<AxesSubplot:xlabel='emp_h1b_dependent', ylabel='count'>"
      ]
     },
     "execution_count": 54,
     "metadata": {},
     "output_type": "execute_result"
    },
    {
     "data": {
      "image/png": "[encoded data removed]",
      "text/plain": [
       "<Figure size 432x288 with 1 Axes>"
      ]
     },
     "metadata": {
      "needs_background": "light"
     },
     "output_type": "display_data"
    }
   ],
   "source": [
    "sns.countplot(df17[\"emp_h1b_dependent\"])"
   ]
  },
  {
   "cell_type": "markdown",
   "id": "e01c3c1d",
   "metadata": {},
   "source": [
    "Most of the employers are not H1B visa dependents i.e less than 15% of the employees of those employer is H1B visa holders"
   ]
  },
  {
   "cell_type": "code",
   "execution_count": 55,
   "id": "a1dc605e",
   "metadata": {},
   "outputs": [
    {
     "data": {
      "text/plain": [
       "<AxesSubplot:xlabel='emp_willful_violator', ylabel='count'>"
      ]
     },
     "execution_count": 55,
     "metadata": {},
     "output_type": "execute_result"
    },
    {
     "data": {
      "image/png": "[encoded data removed]",
      "text/plain": [
       "<Figure size 432x288 with 1 Axes>"
      ]
     },
     "metadata": {
      "needs_background": "light"
     },
     "output_type": "display_data"
    }
   ],
   "source": [
    "sns.countplot(df17[\"emp_willful_violator\"])"
   ]
  },
  {
   "cell_type": "markdown",
   "id": "bc68aa9e",
   "metadata": {},
   "source": [
    "Only few employers are willful violators"
   ]
  },
  {
   "cell_type": "markdown",
   "id": "5c82c384",
   "metadata": {},
   "source": [
    "### Bivariate Analysis"
   ]
  },
  {
   "cell_type": "code",
   "execution_count": 56,
   "id": "de7b5e22",
   "metadata": {},
   "outputs": [
    {
     "data": {
      "text/plain": [
       "<AxesSubplot:xlabel='prevailing_wage', ylabel='wage_from'>"
      ]
     },
     "execution_count": 56,
     "metadata": {},
     "output_type": "execute_result"
    },
    {
     "data": {
      "image/png": "[encoded data removed]",
      "text/plain": [
       "<Figure size 432x288 with 1 Axes>"
      ]
     },
     "metadata": {
      "needs_background": "light"
     },
     "output_type": "display_data"
    }
   ],
   "source": [
    "sns.scatterplot(data = df17,x = \"prevailing_wage\",y = \"wage_from\")"
   ]
  },
  {
   "cell_type": "markdown",
   "id": "53520082",
   "metadata": {},
   "source": [
    "#### Numerical vs Categorical"
   ]
  },
  {
   "cell_type": "code",
   "execution_count": 57,
   "id": "c476d07f",
   "metadata": {},
   "outputs": [
    {
     "data": {
      "text/plain": [
       "<AxesSubplot:xlabel='emp_h1b_dependent', ylabel='prevailing_wage'>"
      ]
     },
     "execution_count": 57,
     "metadata": {},
     "output_type": "execute_result"
    },
    {
     "data": {
      "image/png": "[encoded data removed]",
      "text/plain": [
       "<Figure size 432x288 with 1 Axes>"
      ]
     },
     "metadata": {
      "needs_background": "light"
     },
     "output_type": "display_data"
    }
   ],
   "source": [
    "sns.barplot(data = df17,x = \"emp_h1b_dependent\", y= \"prevailing_wage\")"
   ]
  },
  {
   "cell_type": "markdown",
   "id": "9a9ddc78",
   "metadata": {},
   "source": [
    "There is no big difference in prevailing wage of employers who are dependent on H1-B and the employers who are independent of H1-B"
   ]
  },
  {
   "cell_type": "code",
   "execution_count": 58,
   "id": "c2a9eb25",
   "metadata": {},
   "outputs": [
    {
     "data": {
      "text/plain": [
       "<AxesSubplot:xlabel='pw_level', ylabel='prevailing_wage'>"
      ]
     },
     "execution_count": 58,
     "metadata": {},
     "output_type": "execute_result"
    },
    {
     "data": {
      "image/png": "[encoded data removed]",
      "text/plain": [
       "<Figure size 432x288 with 1 Axes>"
      ]
     },
     "metadata": {
      "needs_background": "light"
     },
     "output_type": "display_data"
    }
   ],
   "source": [
    "sns.barplot(data = df17,x = \"pw_level\", y= \"prevailing_wage\")"
   ]
  },
  {
   "cell_type": "markdown",
   "id": "a8d4de75",
   "metadata": {},
   "source": [
    "PW-Level IV employees earn more than the other category"
   ]
  },
  {
   "cell_type": "code",
   "execution_count": 59,
   "id": "3f887a8f",
   "metadata": {},
   "outputs": [
    {
     "data": {
      "text/plain": [
       "<AxesSubplot:xlabel='emp_state'>"
      ]
     },
     "execution_count": 59,
     "metadata": {},
     "output_type": "execute_result"
    },
    {
     "data": {
      "image/png": "[encoded data removed]",
      "text/plain": [
       "<Figure size 1440x1080 with 1 Axes>"
      ]
     },
     "metadata": {
      "needs_background": "light"
     },
     "output_type": "display_data"
    }
   ],
   "source": [
    "plt.figure(figsize=(20,15))\n",
    "grouped = df17.groupby('emp_state')['prevailing_wage'].mean().sort_values(ascending=False)\n",
    "sns.barplot(x=grouped.index, y=grouped.values, order=grouped.index)"
   ]
  },
  {
   "cell_type": "markdown",
   "id": "4026ac85",
   "metadata": {},
   "source": [
    "Washington provides the highest prevailing wage followed by California however there is no big difference in the wage"
   ]
  },
  {
   "cell_type": "code",
   "execution_count": 60,
   "id": "c70abe9d",
   "metadata": {},
   "outputs": [
    {
     "data": {
      "text/plain": [
       "<AxesSubplot:xlabel='emp_state'>"
      ]
     },
     "execution_count": 60,
     "metadata": {},
     "output_type": "execute_result"
    },
    {
     "data": {
      "image/png": "[encoded data removed]",
      "text/plain": [
       "<Figure size 1440x1080 with 1 Axes>"
      ]
     },
     "metadata": {
      "needs_background": "light"
     },
     "output_type": "display_data"
    }
   ],
   "source": [
    "plt.figure(figsize=(20,15))\n",
    "grouped = df17.groupby('emp_state')['wage_from'].mean().sort_values(ascending=False)\n",
    "sns.barplot(x=grouped.index, y=grouped.values, order=grouped.index)"
   ]
  },
  {
   "cell_type": "markdown",
   "id": "0f4a2046",
   "metadata": {},
   "source": [
    "West virginia employers offers higher wage compared to other states"
   ]
  },
  {
   "cell_type": "code",
   "execution_count": 61,
   "id": "5d3aa88a",
   "metadata": {},
   "outputs": [
    {
     "data": {
      "text/plain": [
       "<AxesSubplot:xlabel='work_state'>"
      ]
     },
     "execution_count": 61,
     "metadata": {},
     "output_type": "execute_result"
    },
    {
     "data": {
      "image/png": "[encoded data removed]",
      "text/plain": [
       "<Figure size 1440x1080 with 1 Axes>"
      ]
     },
     "metadata": {
      "needs_background": "light"
     },
     "output_type": "display_data"
    }
   ],
   "source": [
    "plt.figure(figsize=(20,15))\n",
    "grouped = df17.groupby('work_state')['prevailing_wage'].mean().sort_values(ascending=False)\n",
    "sns.barplot(x=grouped.index, y=grouped.values, order=grouped.index)"
   ]
  },
  {
   "cell_type": "markdown",
   "id": "9c9a8a68",
   "metadata": {},
   "source": [
    "Employees who migrate to California receives a higher wage compared to other states"
   ]
  },
  {
   "cell_type": "code",
   "execution_count": 62,
   "id": "7b50c695",
   "metadata": {},
   "outputs": [
    {
     "data": {
      "text/plain": [
       "<AxesSubplot:xlabel='work_state'>"
      ]
     },
     "execution_count": 62,
     "metadata": {},
     "output_type": "execute_result"
    },
    {
     "data": {
      "image/png": "[encoded data removed]",
      "text/plain": [
       "<Figure size 1440x1080 with 1 Axes>"
      ]
     },
     "metadata": {
      "needs_background": "light"
     },
     "output_type": "display_data"
    }
   ],
   "source": [
    "plt.figure(figsize=(20,15))\n",
    "grouped = df17.groupby('work_state')['wage_from'].mean().sort_values(ascending=False)\n",
    "sns.barplot(x=grouped.index, y=grouped.values, order=grouped.index)"
   ]
  },
  {
   "cell_type": "markdown",
   "id": "33cc4231",
   "metadata": {},
   "source": [
    "West virginia employers offers higher wage compared to other states"
   ]
  },
  {
   "cell_type": "code",
   "execution_count": 63,
   "id": "ec34d147",
   "metadata": {},
   "outputs": [
    {
     "data": {
      "image/png": "[encoded data removed]",
      "text/plain": [
       "<Figure size 432x288 with 1 Axes>"
      ]
     },
     "metadata": {
      "needs_background": "light"
     },
     "output_type": "display_data"
    }
   ],
   "source": [
    "# Group the data by 'job_title' and calculate the mean wage_from for each group\n",
    "grouped = df17.groupby('job_title')['prevailing_wage'].mean()\n",
    "\n",
    "# Sort the groups in descending order based on the mean wage_from\n",
    "grouped_sorted = grouped.sort_values(ascending=False)\n",
    "\n",
    "# Select the top 10 job titles based on the sorted mean wage_from values\n",
    "top_10_job_titles = grouped_sorted[:10].index.tolist()\n",
    "\n",
    "# Filter the original data to keep only the top 10 job titles\n",
    "df_top_10 = df17[df17['job_title'].isin(top_10_job_titles)]\n",
    "\n",
    "# Group the filtered data by 'job_title' and calculate the mean wage_from for each group\n",
    "grouped_top_10 = df_top_10.groupby('job_title')['prevailing_wage'].mean().sort_values(ascending=False)\n",
    "\n",
    "# Plot the bar chart with the top 10 job titles\n",
    "sns.barplot(x=grouped_top_10.index, y=grouped_top_10.values, order=grouped_top_10.index)\n",
    "plt.xticks(rotation=90)\n",
    "plt.ylabel('Mean Salary')\n",
    "plt.show()"
   ]
  },
  {
   "cell_type": "markdown",
   "id": "abae2e5d",
   "metadata": {},
   "source": [
    "Clinical Director of Adult Medicine has the highest average salary compared to other designations"
   ]
  },
  {
   "cell_type": "markdown",
   "id": "14bb481c",
   "metadata": {},
   "source": [
    "#### Categorical vs Categorical"
   ]
  },
  {
   "cell_type": "code",
   "execution_count": 64,
   "id": "1036405f",
   "metadata": {},
   "outputs": [
    {
     "data": {
      "text/html": [
       "<div>\n",
       "<style scoped>\n",
       "    .dataframe tbody tr th:only-of-type {\n",
       "        vertical-align: middle;\n",
       "    }\n",
       "\n",
       "    .dataframe tbody tr th {\n",
       "        vertical-align: top;\n",
       "    }\n",
       "\n",
       "    .dataframe thead th {\n",
       "        text-align: right;\n",
       "    }\n",
       "</style>\n",
       "<table border=\"1\" class=\"dataframe\">\n",
       "  <thead>\n",
       "    <tr style=\"text-align: right;\">\n",
       "      <th>job_title</th>\n",
       "      <th>ASSISTANT PROFESSOR</th>\n",
       "      <th>BUSINESS ANALYST</th>\n",
       "      <th>COMPUTER PROGRAMMER</th>\n",
       "      <th>COMPUTER SYSTEMS ANALYST</th>\n",
       "      <th>DEVELOPER</th>\n",
       "      <th>PROGRAMMER ANALYST</th>\n",
       "      <th>SENIOR SOFTWARE ENGINEER</th>\n",
       "      <th>SOFTWARE DEVELOPER</th>\n",
       "      <th>SOFTWARE ENGINEER</th>\n",
       "      <th>SYSTEMS ANALYST</th>\n",
       "    </tr>\n",
       "    <tr>\n",
       "      <th>emp_h1b_dependent</th>\n",
       "      <th></th>\n",
       "      <th></th>\n",
       "      <th></th>\n",
       "      <th></th>\n",
       "      <th></th>\n",
       "      <th></th>\n",
       "      <th></th>\n",
       "      <th></th>\n",
       "      <th></th>\n",
       "      <th></th>\n",
       "    </tr>\n",
       "  </thead>\n",
       "  <tbody>\n",
       "    <tr>\n",
       "      <th>N</th>\n",
       "      <td>4655</td>\n",
       "      <td>2967</td>\n",
       "      <td>1715</td>\n",
       "      <td>2115</td>\n",
       "      <td>605</td>\n",
       "      <td>9997</td>\n",
       "      <td>5396</td>\n",
       "      <td>6309</td>\n",
       "      <td>16137</td>\n",
       "      <td>2198</td>\n",
       "    </tr>\n",
       "    <tr>\n",
       "      <th>Y</th>\n",
       "      <td>6</td>\n",
       "      <td>3938</td>\n",
       "      <td>5064</td>\n",
       "      <td>4105</td>\n",
       "      <td>4997</td>\n",
       "      <td>34281</td>\n",
       "      <td>1256</td>\n",
       "      <td>8879</td>\n",
       "      <td>10450</td>\n",
       "      <td>7933</td>\n",
       "    </tr>\n",
       "  </tbody>\n",
       "</table>\n",
       "</div>"
      ],
      "text/plain": [
       "job_title          ASSISTANT PROFESSOR  BUSINESS ANALYST  COMPUTER PROGRAMMER  \\\n",
       "emp_h1b_dependent                                                               \n",
       "N                                 4655              2967                 1715   \n",
       "Y                                    6              3938                 5064   \n",
       "\n",
       "job_title          COMPUTER SYSTEMS ANALYST  DEVELOPER  PROGRAMMER ANALYST  \\\n",
       "emp_h1b_dependent                                                            \n",
       "N                                      2115        605                9997   \n",
       "Y                                      4105       4997               34281   \n",
       "\n",
       "job_title          SENIOR SOFTWARE ENGINEER  SOFTWARE DEVELOPER  \\\n",
       "emp_h1b_dependent                                                 \n",
       "N                                      5396                6309   \n",
       "Y                                      1256                8879   \n",
       "\n",
       "job_title          SOFTWARE ENGINEER  SYSTEMS ANALYST  \n",
       "emp_h1b_dependent                                      \n",
       "N                              16137             2198  \n",
       "Y                              10450             7933  "
      ]
     },
     "execution_count": 64,
     "metadata": {},
     "output_type": "execute_result"
    }
   ],
   "source": [
    "# Get the top 10 job titles based on count\n",
    "top_10_jobs = df17['job_title'].value_counts().nlargest(10).index\n",
    "\n",
    "# Filter the DataFrame to keep only the top 10 job titles\n",
    "df_top_10_jobs = df17[df17['job_title'].isin(top_10_jobs)]\n",
    "\n",
    "# Compute the frequency table of job_title and emp_h1b_dependent columns\n",
    "freq_table = pd.crosstab(index=df_top_10_jobs['emp_h1b_dependent'], columns=df_top_10_jobs['job_title'])\n",
    "freq_table"
   ]
  },
  {
   "cell_type": "markdown",
   "id": "a6804156",
   "metadata": {},
   "source": [
    "Many of the Assistant professors are H1-B visa dependents"
   ]
  },
  {
   "cell_type": "code",
   "execution_count": 65,
   "id": "c0f909c1",
   "metadata": {},
   "outputs": [
    {
     "data": {
      "text/html": [
       "<div>\n",
       "<style scoped>\n",
       "    .dataframe tbody tr th:only-of-type {\n",
       "        vertical-align: middle;\n",
       "    }\n",
       "\n",
       "    .dataframe tbody tr th {\n",
       "        vertical-align: top;\n",
       "    }\n",
       "\n",
       "    .dataframe thead th {\n",
       "        text-align: right;\n",
       "    }\n",
       "</style>\n",
       "<table border=\"1\" class=\"dataframe\">\n",
       "  <thead>\n",
       "    <tr style=\"text-align: right;\">\n",
       "      <th>job_title</th>\n",
       "      <th>ASSISTANT PROFESSOR</th>\n",
       "      <th>BUSINESS ANALYST</th>\n",
       "      <th>COMPUTER PROGRAMMER</th>\n",
       "      <th>COMPUTER SYSTEMS ANALYST</th>\n",
       "      <th>DEVELOPER</th>\n",
       "      <th>PROGRAMMER ANALYST</th>\n",
       "      <th>SENIOR SOFTWARE ENGINEER</th>\n",
       "      <th>SOFTWARE DEVELOPER</th>\n",
       "      <th>SOFTWARE ENGINEER</th>\n",
       "      <th>SYSTEMS ANALYST</th>\n",
       "    </tr>\n",
       "    <tr>\n",
       "      <th>full_time_position</th>\n",
       "      <th></th>\n",
       "      <th></th>\n",
       "      <th></th>\n",
       "      <th></th>\n",
       "      <th></th>\n",
       "      <th></th>\n",
       "      <th></th>\n",
       "      <th></th>\n",
       "      <th></th>\n",
       "      <th></th>\n",
       "    </tr>\n",
       "  </thead>\n",
       "  <tbody>\n",
       "    <tr>\n",
       "      <th>N</th>\n",
       "      <td>155</td>\n",
       "      <td>332</td>\n",
       "      <td>138</td>\n",
       "      <td>54</td>\n",
       "      <td>0</td>\n",
       "      <td>147</td>\n",
       "      <td>5</td>\n",
       "      <td>104</td>\n",
       "      <td>187</td>\n",
       "      <td>63</td>\n",
       "    </tr>\n",
       "    <tr>\n",
       "      <th>Y</th>\n",
       "      <td>4506</td>\n",
       "      <td>6573</td>\n",
       "      <td>6641</td>\n",
       "      <td>6166</td>\n",
       "      <td>5602</td>\n",
       "      <td>44131</td>\n",
       "      <td>6647</td>\n",
       "      <td>15084</td>\n",
       "      <td>26400</td>\n",
       "      <td>10068</td>\n",
       "    </tr>\n",
       "  </tbody>\n",
       "</table>\n",
       "</div>"
      ],
      "text/plain": [
       "job_title           ASSISTANT PROFESSOR  BUSINESS ANALYST  \\\n",
       "full_time_position                                          \n",
       "N                                   155               332   \n",
       "Y                                  4506              6573   \n",
       "\n",
       "job_title           COMPUTER PROGRAMMER  COMPUTER SYSTEMS ANALYST  DEVELOPER  \\\n",
       "full_time_position                                                             \n",
       "N                                   138                        54          0   \n",
       "Y                                  6641                      6166       5602   \n",
       "\n",
       "job_title           PROGRAMMER ANALYST  SENIOR SOFTWARE ENGINEER  \\\n",
       "full_time_position                                                 \n",
       "N                                  147                         5   \n",
       "Y                                44131                      6647   \n",
       "\n",
       "job_title           SOFTWARE DEVELOPER  SOFTWARE ENGINEER  SYSTEMS ANALYST  \n",
       "full_time_position                                                          \n",
       "N                                  104                187               63  \n",
       "Y                                15084              26400            10068  "
      ]
     },
     "execution_count": 65,
     "metadata": {},
     "output_type": "execute_result"
    }
   ],
   "source": [
    "# Get the top 10 job titles based on count\n",
    "top_10_jobs = df17['job_title'].value_counts().nlargest(10).index\n",
    "\n",
    "# Filter the DataFrame to keep only the top 10 job titles\n",
    "df_top_10_jobs = df17[df17['job_title'].isin(top_10_jobs)]\n",
    "\n",
    "# Compute the frequency table of job_title and emp_h1b_dependent columns\n",
    "freq_table = pd.crosstab(index=df_top_10_jobs['full_time_position'], columns=df_top_10_jobs['job_title'])\n",
    "freq_table"
   ]
  },
  {
   "cell_type": "markdown",
   "id": "9c73d227",
   "metadata": {},
   "source": [
    "None of the developers are in part time position and full time employers are more compared to part time employers"
   ]
  },
  {
   "cell_type": "markdown",
   "id": "d682267f-db56-4d9b-a6ba-c061c2fba69e",
   "metadata": {},
   "source": [
    "### Feature Selection and Engineering"
   ]
  },
  {
   "cell_type": "code",
   "execution_count": 66,
   "id": "8c684fa2-bb3a-441f-994c-08568a4f83b2",
   "metadata": {},
   "outputs": [
    {
     "data": {
      "text/html": [
       "<div>\n",
       "<style scoped>\n",
       "    .dataframe tbody tr th:only-of-type {\n",
       "        vertical-align: middle;\n",
       "    }\n",
       "\n",
       "    .dataframe tbody tr th {\n",
       "        vertical-align: top;\n",
       "    }\n",
       "\n",
       "    .dataframe thead th {\n",
       "        text-align: right;\n",
       "    }\n",
       "</style>\n",
       "<table border=\"1\" class=\"dataframe\">\n",
       "  <thead>\n",
       "    <tr style=\"text-align: right;\">\n",
       "      <th></th>\n",
       "      <th>prevailing_wage</th>\n",
       "      <th>wage_from</th>\n",
       "      <th>wage_to</th>\n",
       "      <th>lat</th>\n",
       "      <th>lng</th>\n",
       "    </tr>\n",
       "  </thead>\n",
       "  <tbody>\n",
       "    <tr>\n",
       "      <th>0</th>\n",
       "      <td>187200.0</td>\n",
       "      <td>190000.00</td>\n",
       "      <td>0.0</td>\n",
       "      <td>34.178172</td>\n",
       "      <td>-82.379015</td>\n",
       "    </tr>\n",
       "    <tr>\n",
       "      <th>1</th>\n",
       "      <td>39957.0</td>\n",
       "      <td>47507.00</td>\n",
       "      <td>0.0</td>\n",
       "      <td>42.944078</td>\n",
       "      <td>-112.838326</td>\n",
       "    </tr>\n",
       "    <tr>\n",
       "      <th>2</th>\n",
       "      <td>59966.0</td>\n",
       "      <td>65000.00</td>\n",
       "      <td>0.0</td>\n",
       "      <td>39.509556</td>\n",
       "      <td>-76.164120</td>\n",
       "    </tr>\n",
       "    <tr>\n",
       "      <th>3</th>\n",
       "      <td>78832.0</td>\n",
       "      <td>86988.15</td>\n",
       "      <td>0.0</td>\n",
       "      <td>39.509556</td>\n",
       "      <td>-76.164120</td>\n",
       "    </tr>\n",
       "    <tr>\n",
       "      <th>4</th>\n",
       "      <td>169645.0</td>\n",
       "      <td>450000.00</td>\n",
       "      <td>0.0</td>\n",
       "      <td>45.464698</td>\n",
       "      <td>-98.486483</td>\n",
       "    </tr>\n",
       "  </tbody>\n",
       "</table>\n",
       "</div>"
      ],
      "text/plain": [
       "   prevailing_wage  wage_from  wage_to        lat         lng\n",
       "0         187200.0  190000.00      0.0  34.178172  -82.379015\n",
       "1          39957.0   47507.00      0.0  42.944078 -112.838326\n",
       "2          59966.0   65000.00      0.0  39.509556  -76.164120\n",
       "3          78832.0   86988.15      0.0  39.509556  -76.164120\n",
       "4         169645.0  450000.00      0.0  45.464698  -98.486483"
      ]
     },
     "execution_count": 66,
     "metadata": {},
     "output_type": "execute_result"
    }
   ],
   "source": [
    "df_num.head()"
   ]
  },
  {
   "cell_type": "code",
   "execution_count": 67,
   "id": "f6e13548-0b64-41b4-8294-5dd83c3b548a",
   "metadata": {},
   "outputs": [],
   "source": [
    "df_num.drop(['lat', 'lng'], axis = 1, inplace = True)"
   ]
  },
  {
   "cell_type": "markdown",
   "id": "a2c7053d-411c-4537-8560-de18bc510b58",
   "metadata": {},
   "source": [
    "Since we don't really need latitude and longitude, we can drop those columns."
   ]
  },
  {
   "cell_type": "code",
   "execution_count": 68,
   "id": "c71508d3-6e30-4262-a29d-4d46d2663307",
   "metadata": {},
   "outputs": [
    {
     "data": {
      "text/html": [
       "<div>\n",
       "<style scoped>\n",
       "    .dataframe tbody tr th:only-of-type {\n",
       "        vertical-align: middle;\n",
       "    }\n",
       "\n",
       "    .dataframe tbody tr th {\n",
       "        vertical-align: top;\n",
       "    }\n",
       "\n",
       "    .dataframe thead th {\n",
       "        text-align: right;\n",
       "    }\n",
       "</style>\n",
       "<table border=\"1\" class=\"dataframe\">\n",
       "  <thead>\n",
       "    <tr style=\"text-align: right;\">\n",
       "      <th></th>\n",
       "      <th>prevailing_wage</th>\n",
       "      <th>wage_range</th>\n",
       "    </tr>\n",
       "  </thead>\n",
       "  <tbody>\n",
       "    <tr>\n",
       "      <th>0</th>\n",
       "      <td>187200.0</td>\n",
       "      <td>190000.00</td>\n",
       "    </tr>\n",
       "    <tr>\n",
       "      <th>1</th>\n",
       "      <td>39957.0</td>\n",
       "      <td>47507.00</td>\n",
       "    </tr>\n",
       "    <tr>\n",
       "      <th>2</th>\n",
       "      <td>59966.0</td>\n",
       "      <td>65000.00</td>\n",
       "    </tr>\n",
       "    <tr>\n",
       "      <th>3</th>\n",
       "      <td>78832.0</td>\n",
       "      <td>86988.15</td>\n",
       "    </tr>\n",
       "    <tr>\n",
       "      <th>4</th>\n",
       "      <td>169645.0</td>\n",
       "      <td>450000.00</td>\n",
       "    </tr>\n",
       "  </tbody>\n",
       "</table>\n",
       "</div>"
      ],
      "text/plain": [
       "   prevailing_wage  wage_range\n",
       "0         187200.0   190000.00\n",
       "1          39957.0    47507.00\n",
       "2          59966.0    65000.00\n",
       "3          78832.0    86988.15\n",
       "4         169645.0   450000.00"
      ]
     },
     "execution_count": 68,
     "metadata": {},
     "output_type": "execute_result"
    }
   ],
   "source": [
    "df_num['wage_range'] = np.abs(df_num['wage_to'] - df_num['wage_from'])\n",
    "df_num.drop(['wage_from', 'wage_to'], axis = 1, inplace = True)\n",
    "df_num.head()"
   ]
  },
  {
   "cell_type": "code",
   "execution_count": 69,
   "id": "05ee700e",
   "metadata": {},
   "outputs": [
    {
     "data": {
      "image/png": "[encoded data removed]",
      "text/plain": [
       "<Figure size 432x288 with 1 Axes>"
      ]
     },
     "metadata": {
      "needs_background": "light"
     },
     "output_type": "display_data"
    },
    {
     "data": {
      "image/png": "[encoded data removed]",
      "text/plain": [
       "<Figure size 432x288 with 1 Axes>"
      ]
     },
     "metadata": {
      "needs_background": "light"
     },
     "output_type": "display_data"
    }
   ],
   "source": [
    "for i in df_num.columns:\n",
    "    sns.boxplot(df_num[i])\n",
    "    plt.show()"
   ]
  },
  {
   "cell_type": "code",
   "execution_count": 70,
   "id": "a0e267ac",
   "metadata": {},
   "outputs": [
    {
     "data": {
      "image/png": "[encoded data removed]",
      "text/plain": [
       "<Figure size 432x288 with 1 Axes>"
      ]
     },
     "metadata": {
      "needs_background": "light"
     },
     "output_type": "display_data"
    },
    {
     "data": {
      "image/png": "[encoded data removed]",
      "text/plain": [
       "<Figure size 432x288 with 1 Axes>"
      ]
     },
     "metadata": {
      "needs_background": "light"
     },
     "output_type": "display_data"
    }
   ],
   "source": [
    "for i in df_num.columns:\n",
    "    sns.distplot(df_num[i])\n",
    "    plt.show()"
   ]
  },
  {
   "cell_type": "markdown",
   "id": "763756d8-3e19-4962-b970-9022b36aea04",
   "metadata": {
    "tags": []
   },
   "source": [
    "### Scaling numerical columns"
   ]
  },
  {
   "cell_type": "code",
   "execution_count": 71,
   "id": "27f662ce-e26a-4f38-95ab-870ba6bf2d52",
   "metadata": {},
   "outputs": [],
   "source": [
    "ssc = StandardScaler()\n",
    "df_num = pd.DataFrame(ssc.fit_transform(df_num), columns = df_num.columns)"
   ]
  },
  {
   "cell_type": "code",
   "execution_count": 72,
   "id": "92ea4a0b-bd53-4486-b805-e811a17b7f7c",
   "metadata": {},
   "outputs": [
    {
     "data": {
      "text/html": [
       "<div>\n",
       "<style scoped>\n",
       "    .dataframe tbody tr th:only-of-type {\n",
       "        vertical-align: middle;\n",
       "    }\n",
       "\n",
       "    .dataframe tbody tr th {\n",
       "        vertical-align: top;\n",
       "    }\n",
       "\n",
       "    .dataframe thead th {\n",
       "        text-align: right;\n",
       "    }\n",
       "</style>\n",
       "<table border=\"1\" class=\"dataframe\">\n",
       "  <thead>\n",
       "    <tr style=\"text-align: right;\">\n",
       "      <th></th>\n",
       "      <th>prevailing_wage</th>\n",
       "      <th>wage_range</th>\n",
       "    </tr>\n",
       "  </thead>\n",
       "  <tbody>\n",
       "    <tr>\n",
       "      <th>count</th>\n",
       "      <td>579397.00</td>\n",
       "      <td>579397.00</td>\n",
       "    </tr>\n",
       "    <tr>\n",
       "      <th>mean</th>\n",
       "      <td>0.00</td>\n",
       "      <td>-0.00</td>\n",
       "    </tr>\n",
       "    <tr>\n",
       "      <th>std</th>\n",
       "      <td>1.00</td>\n",
       "      <td>1.00</td>\n",
       "    </tr>\n",
       "    <tr>\n",
       "      <th>min</th>\n",
       "      <td>-0.27</td>\n",
       "      <td>-1.51</td>\n",
       "    </tr>\n",
       "    <tr>\n",
       "      <th>25%</th>\n",
       "      <td>-0.06</td>\n",
       "      <td>-0.56</td>\n",
       "    </tr>\n",
       "    <tr>\n",
       "      <th>50%</th>\n",
       "      <td>-0.01</td>\n",
       "      <td>-0.02</td>\n",
       "    </tr>\n",
       "    <tr>\n",
       "      <th>75%</th>\n",
       "      <td>0.06</td>\n",
       "      <td>0.44</td>\n",
       "    </tr>\n",
       "    <tr>\n",
       "      <th>max</th>\n",
       "      <td>754.75</td>\n",
       "      <td>35.08</td>\n",
       "    </tr>\n",
       "  </tbody>\n",
       "</table>\n",
       "</div>"
      ],
      "text/plain": [
       "       prevailing_wage  wage_range\n",
       "count        579397.00   579397.00\n",
       "mean              0.00       -0.00\n",
       "std               1.00        1.00\n",
       "min              -0.27       -1.51\n",
       "25%              -0.06       -0.56\n",
       "50%              -0.01       -0.02\n",
       "75%               0.06        0.44\n",
       "max             754.75       35.08"
      ]
     },
     "execution_count": 72,
     "metadata": {},
     "output_type": "execute_result"
    }
   ],
   "source": [
    "round(df_num.describe(),2)"
   ]
  },
  {
   "cell_type": "markdown",
   "id": "14005a9e-c9be-4dab-9f45-e6e8d0e40715",
   "metadata": {},
   "source": [
    "### Merging case_submitted and decision_date into decision_time"
   ]
  },
  {
   "cell_type": "code",
   "execution_count": 73,
   "id": "480fc616-fe9c-439c-a986-53532d741e6c",
   "metadata": {},
   "outputs": [],
   "source": [
    "df_cat['case_submitted'] = pd.to_datetime(df_cat['case_submitted'])\n",
    "df_cat['decision_date'] = pd.to_datetime(df_cat['decision_date'])\n",
    "df_cat['decision_time'] = df_cat['decision_date'] - df_cat['case_submitted']"
   ]
  },
  {
   "cell_type": "code",
   "execution_count": 74,
   "id": "bfe7a25b-8444-4cbf-b120-6a444809b4b4",
   "metadata": {},
   "outputs": [
    {
     "data": {
      "text/html": [
       "<div>\n",
       "<style scoped>\n",
       "    .dataframe tbody tr th:only-of-type {\n",
       "        vertical-align: middle;\n",
       "    }\n",
       "\n",
       "    .dataframe tbody tr th {\n",
       "        vertical-align: top;\n",
       "    }\n",
       "\n",
       "    .dataframe thead th {\n",
       "        text-align: right;\n",
       "    }\n",
       "</style>\n",
       "<table border=\"1\" class=\"dataframe\">\n",
       "  <thead>\n",
       "    <tr style=\"text-align: right;\">\n",
       "      <th></th>\n",
       "      <th>case_status</th>\n",
       "      <th>case_submitted</th>\n",
       "      <th>decision_date</th>\n",
       "      <th>emp_name</th>\n",
       "      <th>emp_city</th>\n",
       "      <th>emp_state</th>\n",
       "      <th>emp_zip</th>\n",
       "      <th>emp_country</th>\n",
       "      <th>job_title</th>\n",
       "      <th>soc_code</th>\n",
       "      <th>soc_name</th>\n",
       "      <th>full_time_position</th>\n",
       "      <th>pw_unit</th>\n",
       "      <th>pw_level</th>\n",
       "      <th>wage_unit</th>\n",
       "      <th>work_city</th>\n",
       "      <th>work_state</th>\n",
       "      <th>emp_h1b_dependent</th>\n",
       "      <th>emp_willful_violator</th>\n",
       "      <th>decision_time</th>\n",
       "    </tr>\n",
       "  </thead>\n",
       "  <tbody>\n",
       "    <tr>\n",
       "      <th>0</th>\n",
       "      <td>C</td>\n",
       "      <td>2017-02-06</td>\n",
       "      <td>2017-02-10</td>\n",
       "      <td>LAKELANDS NEPHROLOGY, PA</td>\n",
       "      <td>GREENWOOD</td>\n",
       "      <td>SC</td>\n",
       "      <td>29646</td>\n",
       "      <td>USA</td>\n",
       "      <td>NEPHROLOGIST</td>\n",
       "      <td>29-1063</td>\n",
       "      <td>INTERNISTS, GENERAL</td>\n",
       "      <td>Y</td>\n",
       "      <td>Y</td>\n",
       "      <td>Level I</td>\n",
       "      <td>Y</td>\n",
       "      <td>ABBEVILLE</td>\n",
       "      <td>SC</td>\n",
       "      <td>N</td>\n",
       "      <td>N</td>\n",
       "      <td>4 days</td>\n",
       "    </tr>\n",
       "    <tr>\n",
       "      <th>1</th>\n",
       "      <td>C</td>\n",
       "      <td>2017-03-21</td>\n",
       "      <td>2017-03-27</td>\n",
       "      <td>UNIVERSITY OF IDAHO</td>\n",
       "      <td>MOSCOW</td>\n",
       "      <td>ID</td>\n",
       "      <td>83844</td>\n",
       "      <td>USA</td>\n",
       "      <td>POST DOCTORAL FELLOW</td>\n",
       "      <td>19-1013</td>\n",
       "      <td>SOIL AND PLANT SCIENTISTS</td>\n",
       "      <td>Y</td>\n",
       "      <td>Y</td>\n",
       "      <td>Level I</td>\n",
       "      <td>Y</td>\n",
       "      <td>ABERDEEN</td>\n",
       "      <td>ID</td>\n",
       "      <td>N</td>\n",
       "      <td>N</td>\n",
       "      <td>6 days</td>\n",
       "    </tr>\n",
       "    <tr>\n",
       "      <th>2</th>\n",
       "      <td>C</td>\n",
       "      <td>2017-03-17</td>\n",
       "      <td>2017-03-23</td>\n",
       "      <td>XPO SUPPLY CHAIN, INC.</td>\n",
       "      <td>HIGH POINT</td>\n",
       "      <td>NC</td>\n",
       "      <td>27265</td>\n",
       "      <td>USA</td>\n",
       "      <td>OPERATION ANALYST</td>\n",
       "      <td>15-2031</td>\n",
       "      <td>OPERATIONS RESEARCH ANALYSTS</td>\n",
       "      <td>Y</td>\n",
       "      <td>Y</td>\n",
       "      <td>Level I</td>\n",
       "      <td>Y</td>\n",
       "      <td>ABERDEEN</td>\n",
       "      <td>MD</td>\n",
       "      <td>N</td>\n",
       "      <td>N</td>\n",
       "      <td>6 days</td>\n",
       "    </tr>\n",
       "    <tr>\n",
       "      <th>3</th>\n",
       "      <td>C</td>\n",
       "      <td>2017-03-10</td>\n",
       "      <td>2017-03-16</td>\n",
       "      <td>C AND S WHOLESALE GROCERS, INC.</td>\n",
       "      <td>KEENE</td>\n",
       "      <td>NH</td>\n",
       "      <td>03431</td>\n",
       "      <td>USA</td>\n",
       "      <td>SR. INDUSTRIAL ENGINEER</td>\n",
       "      <td>17-2112</td>\n",
       "      <td>INDUSTRIAL ENGINEERS</td>\n",
       "      <td>Y</td>\n",
       "      <td>Y</td>\n",
       "      <td>Level II</td>\n",
       "      <td>Y</td>\n",
       "      <td>ABERDEEN</td>\n",
       "      <td>MD</td>\n",
       "      <td>N</td>\n",
       "      <td>N</td>\n",
       "      <td>6 days</td>\n",
       "    </tr>\n",
       "    <tr>\n",
       "      <th>4</th>\n",
       "      <td>C</td>\n",
       "      <td>2017-08-04</td>\n",
       "      <td>2017-08-10</td>\n",
       "      <td>SANFORD CLINIC</td>\n",
       "      <td>SIOUX FALLS</td>\n",
       "      <td>SD</td>\n",
       "      <td>57117</td>\n",
       "      <td>USA</td>\n",
       "      <td>HEMATOLOGIST/ONCOLOGIST</td>\n",
       "      <td>29-1069</td>\n",
       "      <td>PHYSICIANS AND SURGEONS, ALL OTHER</td>\n",
       "      <td>Y</td>\n",
       "      <td>Y</td>\n",
       "      <td>Level I</td>\n",
       "      <td>Y</td>\n",
       "      <td>ABERDEEN</td>\n",
       "      <td>SD</td>\n",
       "      <td>N</td>\n",
       "      <td>N</td>\n",
       "      <td>6 days</td>\n",
       "    </tr>\n",
       "  </tbody>\n",
       "</table>\n",
       "</div>"
      ],
      "text/plain": [
       "  case_status case_submitted decision_date                         emp_name  \\\n",
       "0           C     2017-02-06    2017-02-10         LAKELANDS NEPHROLOGY, PA   \n",
       "1           C     2017-03-21    2017-03-27              UNIVERSITY OF IDAHO   \n",
       "2           C     2017-03-17    2017-03-23           XPO SUPPLY CHAIN, INC.   \n",
       "3           C     2017-03-10    2017-03-16  C AND S WHOLESALE GROCERS, INC.   \n",
       "4           C     2017-08-04    2017-08-10                   SANFORD CLINIC   \n",
       "\n",
       "      emp_city emp_state emp_zip emp_country                job_title  \\\n",
       "0    GREENWOOD        SC   29646         USA             NEPHROLOGIST   \n",
       "1       MOSCOW        ID   83844         USA     POST DOCTORAL FELLOW   \n",
       "2   HIGH POINT        NC   27265         USA        OPERATION ANALYST   \n",
       "3        KEENE        NH   03431         USA  SR. INDUSTRIAL ENGINEER   \n",
       "4  SIOUX FALLS        SD   57117         USA  HEMATOLOGIST/ONCOLOGIST   \n",
       "\n",
       "  soc_code                            soc_name full_time_position pw_unit  \\\n",
       "0  29-1063                 INTERNISTS, GENERAL                  Y       Y   \n",
       "1  19-1013           SOIL AND PLANT SCIENTISTS                  Y       Y   \n",
       "2  15-2031        OPERATIONS RESEARCH ANALYSTS                  Y       Y   \n",
       "3  17-2112                INDUSTRIAL ENGINEERS                  Y       Y   \n",
       "4  29-1069  PHYSICIANS AND SURGEONS, ALL OTHER                  Y       Y   \n",
       "\n",
       "   pw_level wage_unit  work_city work_state emp_h1b_dependent  \\\n",
       "0   Level I         Y  ABBEVILLE         SC                 N   \n",
       "1   Level I         Y   ABERDEEN         ID                 N   \n",
       "2   Level I         Y   ABERDEEN         MD                 N   \n",
       "3  Level II         Y   ABERDEEN         MD                 N   \n",
       "4   Level I         Y   ABERDEEN         SD                 N   \n",
       "\n",
       "  emp_willful_violator decision_time  \n",
       "0                    N        4 days  \n",
       "1                    N        6 days  \n",
       "2                    N        6 days  \n",
       "3                    N        6 days  \n",
       "4                    N        6 days  "
      ]
     },
     "execution_count": 74,
     "metadata": {},
     "output_type": "execute_result"
    }
   ],
   "source": [
    "df_cat.head()"
   ]
  },
  {
   "cell_type": "code",
   "execution_count": 75,
   "id": "6ca068ee-2e06-4850-8daf-519ef3187cae",
   "metadata": {},
   "outputs": [],
   "source": [
    "df_cat.drop(['case_submitted', 'decision_date'], axis = 1, inplace = True)"
   ]
  },
  {
   "cell_type": "code",
   "execution_count": 76,
   "id": "a809a2b4-62f0-4c64-b27a-036c122aec37",
   "metadata": {},
   "outputs": [
    {
     "data": {
      "text/plain": [
       "6 days       345900\n",
       "4 days        91101\n",
       "7 days        59911\n",
       "5 days        15066\n",
       "0 days         7290\n",
       "              ...  \n",
       "1260 days         1\n",
       "1118 days         1\n",
       "1173 days         1\n",
       "1295 days         1\n",
       "1249 days         1\n",
       "Name: decision_time, Length: 1311, dtype: int64"
      ]
     },
     "execution_count": 76,
     "metadata": {},
     "output_type": "execute_result"
    }
   ],
   "source": [
    "df_cat['decision_time'].value_counts()"
   ]
  },
  {
   "cell_type": "code",
   "execution_count": 77,
   "id": "33b0a704-9129-455d-a650-59bb4cda2fb6",
   "metadata": {},
   "outputs": [
    {
     "data": {
      "text/html": [
       "<div>\n",
       "<style scoped>\n",
       "    .dataframe tbody tr th:only-of-type {\n",
       "        vertical-align: middle;\n",
       "    }\n",
       "\n",
       "    .dataframe tbody tr th {\n",
       "        vertical-align: top;\n",
       "    }\n",
       "\n",
       "    .dataframe thead th {\n",
       "        text-align: right;\n",
       "    }\n",
       "</style>\n",
       "<table border=\"1\" class=\"dataframe\">\n",
       "  <thead>\n",
       "    <tr style=\"text-align: right;\">\n",
       "      <th></th>\n",
       "      <th>case_status</th>\n",
       "      <th>emp_name</th>\n",
       "      <th>emp_city</th>\n",
       "      <th>emp_state</th>\n",
       "      <th>emp_zip</th>\n",
       "      <th>emp_country</th>\n",
       "      <th>job_title</th>\n",
       "      <th>soc_code</th>\n",
       "      <th>soc_name</th>\n",
       "      <th>full_time_position</th>\n",
       "      <th>pw_unit</th>\n",
       "      <th>pw_level</th>\n",
       "      <th>wage_unit</th>\n",
       "      <th>work_city</th>\n",
       "      <th>work_state</th>\n",
       "      <th>emp_h1b_dependent</th>\n",
       "      <th>emp_willful_violator</th>\n",
       "      <th>decision_time</th>\n",
       "    </tr>\n",
       "  </thead>\n",
       "  <tbody>\n",
       "    <tr>\n",
       "      <th>0</th>\n",
       "      <td>C</td>\n",
       "      <td>LAKELANDS NEPHROLOGY, PA</td>\n",
       "      <td>GREENWOOD</td>\n",
       "      <td>SC</td>\n",
       "      <td>29646</td>\n",
       "      <td>USA</td>\n",
       "      <td>NEPHROLOGIST</td>\n",
       "      <td>29-1063</td>\n",
       "      <td>INTERNISTS, GENERAL</td>\n",
       "      <td>Y</td>\n",
       "      <td>Y</td>\n",
       "      <td>Level I</td>\n",
       "      <td>Y</td>\n",
       "      <td>ABBEVILLE</td>\n",
       "      <td>SC</td>\n",
       "      <td>N</td>\n",
       "      <td>N</td>\n",
       "      <td>4 days</td>\n",
       "    </tr>\n",
       "    <tr>\n",
       "      <th>1</th>\n",
       "      <td>C</td>\n",
       "      <td>UNIVERSITY OF IDAHO</td>\n",
       "      <td>MOSCOW</td>\n",
       "      <td>ID</td>\n",
       "      <td>83844</td>\n",
       "      <td>USA</td>\n",
       "      <td>POST DOCTORAL FELLOW</td>\n",
       "      <td>19-1013</td>\n",
       "      <td>SOIL AND PLANT SCIENTISTS</td>\n",
       "      <td>Y</td>\n",
       "      <td>Y</td>\n",
       "      <td>Level I</td>\n",
       "      <td>Y</td>\n",
       "      <td>ABERDEEN</td>\n",
       "      <td>ID</td>\n",
       "      <td>N</td>\n",
       "      <td>N</td>\n",
       "      <td>6 days</td>\n",
       "    </tr>\n",
       "    <tr>\n",
       "      <th>2</th>\n",
       "      <td>C</td>\n",
       "      <td>XPO SUPPLY CHAIN, INC.</td>\n",
       "      <td>HIGH POINT</td>\n",
       "      <td>NC</td>\n",
       "      <td>27265</td>\n",
       "      <td>USA</td>\n",
       "      <td>OPERATION ANALYST</td>\n",
       "      <td>15-2031</td>\n",
       "      <td>OPERATIONS RESEARCH ANALYSTS</td>\n",
       "      <td>Y</td>\n",
       "      <td>Y</td>\n",
       "      <td>Level I</td>\n",
       "      <td>Y</td>\n",
       "      <td>ABERDEEN</td>\n",
       "      <td>MD</td>\n",
       "      <td>N</td>\n",
       "      <td>N</td>\n",
       "      <td>6 days</td>\n",
       "    </tr>\n",
       "    <tr>\n",
       "      <th>3</th>\n",
       "      <td>C</td>\n",
       "      <td>C AND S WHOLESALE GROCERS, INC.</td>\n",
       "      <td>KEENE</td>\n",
       "      <td>NH</td>\n",
       "      <td>03431</td>\n",
       "      <td>USA</td>\n",
       "      <td>SR. INDUSTRIAL ENGINEER</td>\n",
       "      <td>17-2112</td>\n",
       "      <td>INDUSTRIAL ENGINEERS</td>\n",
       "      <td>Y</td>\n",
       "      <td>Y</td>\n",
       "      <td>Level II</td>\n",
       "      <td>Y</td>\n",
       "      <td>ABERDEEN</td>\n",
       "      <td>MD</td>\n",
       "      <td>N</td>\n",
       "      <td>N</td>\n",
       "      <td>6 days</td>\n",
       "    </tr>\n",
       "    <tr>\n",
       "      <th>4</th>\n",
       "      <td>C</td>\n",
       "      <td>SANFORD CLINIC</td>\n",
       "      <td>SIOUX FALLS</td>\n",
       "      <td>SD</td>\n",
       "      <td>57117</td>\n",
       "      <td>USA</td>\n",
       "      <td>HEMATOLOGIST/ONCOLOGIST</td>\n",
       "      <td>29-1069</td>\n",
       "      <td>PHYSICIANS AND SURGEONS, ALL OTHER</td>\n",
       "      <td>Y</td>\n",
       "      <td>Y</td>\n",
       "      <td>Level I</td>\n",
       "      <td>Y</td>\n",
       "      <td>ABERDEEN</td>\n",
       "      <td>SD</td>\n",
       "      <td>N</td>\n",
       "      <td>N</td>\n",
       "      <td>6 days</td>\n",
       "    </tr>\n",
       "  </tbody>\n",
       "</table>\n",
       "</div>"
      ],
      "text/plain": [
       "  case_status                         emp_name     emp_city emp_state emp_zip  \\\n",
       "0           C         LAKELANDS NEPHROLOGY, PA    GREENWOOD        SC   29646   \n",
       "1           C              UNIVERSITY OF IDAHO       MOSCOW        ID   83844   \n",
       "2           C           XPO SUPPLY CHAIN, INC.   HIGH POINT        NC   27265   \n",
       "3           C  C AND S WHOLESALE GROCERS, INC.        KEENE        NH   03431   \n",
       "4           C                   SANFORD CLINIC  SIOUX FALLS        SD   57117   \n",
       "\n",
       "  emp_country                job_title soc_code  \\\n",
       "0         USA             NEPHROLOGIST  29-1063   \n",
       "1         USA     POST DOCTORAL FELLOW  19-1013   \n",
       "2         USA        OPERATION ANALYST  15-2031   \n",
       "3         USA  SR. INDUSTRIAL ENGINEER  17-2112   \n",
       "4         USA  HEMATOLOGIST/ONCOLOGIST  29-1069   \n",
       "\n",
       "                             soc_name full_time_position pw_unit  pw_level  \\\n",
       "0                 INTERNISTS, GENERAL                  Y       Y   Level I   \n",
       "1           SOIL AND PLANT SCIENTISTS                  Y       Y   Level I   \n",
       "2        OPERATIONS RESEARCH ANALYSTS                  Y       Y   Level I   \n",
       "3                INDUSTRIAL ENGINEERS                  Y       Y  Level II   \n",
       "4  PHYSICIANS AND SURGEONS, ALL OTHER                  Y       Y   Level I   \n",
       "\n",
       "  wage_unit  work_city work_state emp_h1b_dependent emp_willful_violator  \\\n",
       "0         Y  ABBEVILLE         SC                 N                    N   \n",
       "1         Y   ABERDEEN         ID                 N                    N   \n",
       "2         Y   ABERDEEN         MD                 N                    N   \n",
       "3         Y   ABERDEEN         MD                 N                    N   \n",
       "4         Y   ABERDEEN         SD                 N                    N   \n",
       "\n",
       "  decision_time  \n",
       "0        4 days  \n",
       "1        6 days  \n",
       "2        6 days  \n",
       "3        6 days  \n",
       "4        6 days  "
      ]
     },
     "execution_count": 77,
     "metadata": {},
     "output_type": "execute_result"
    }
   ],
   "source": [
    "df_cat.head()"
   ]
  },
  {
   "cell_type": "markdown",
   "id": "811e05eb-b505-432b-bbd5-3f7e29cd9ddc",
   "metadata": {},
   "source": [
    "### Encoding"
   ]
  },
  {
   "cell_type": "code",
   "execution_count": 78,
   "id": "133b4446-2e1f-4075-b276-214c309ed66e",
   "metadata": {},
   "outputs": [
    {
     "data": {
      "text/plain": [
       "array(['C', 'CW', 'D', 'W'], dtype=object)"
      ]
     },
     "execution_count": 78,
     "metadata": {},
     "output_type": "execute_result"
    }
   ],
   "source": [
    "df_cat['case_status'].unique()"
   ]
  },
  {
   "cell_type": "markdown",
   "id": "a5a65f35-3847-4a4d-ba8d-74ea403eface",
   "metadata": {},
   "source": [
    "Since CW and W convey the same information to the model, we will use W to represent both."
   ]
  },
  {
   "cell_type": "code",
   "execution_count": 79,
   "id": "37de7815-34bd-4b2b-a5db-fc7a33f806cf",
   "metadata": {},
   "outputs": [],
   "source": [
    "df_cat['case_status'].replace('CW', 'W', inplace = True)"
   ]
  },
  {
   "cell_type": "code",
   "execution_count": 80,
   "id": "54b3f387-4106-4a15-ab3a-e167574b4970",
   "metadata": {},
   "outputs": [],
   "source": [
    "le = LabelEncoder()\n",
    "df_cat['case_status'] = pd.DataFrame(le.fit_transform(np.array(df_cat['case_status']).reshape(-1,1)))"
   ]
  },
  {
   "cell_type": "code",
   "execution_count": 81,
   "id": "d9b1b293-620e-40fe-9c9e-77193746bc5e",
   "metadata": {},
   "outputs": [
    {
     "data": {
      "text/plain": [
       "array([0, 2, 1])"
      ]
     },
     "execution_count": 81,
     "metadata": {},
     "output_type": "execute_result"
    }
   ],
   "source": [
    "df_cat['case_status'].unique()"
   ]
  },
  {
   "cell_type": "code",
   "execution_count": 82,
   "id": "181d1714-3415-4228-a7b8-8593c0fa828d",
   "metadata": {},
   "outputs": [
    {
     "data": {
      "text/plain": [
       "array([0, 1, 2, 3])"
      ]
     },
     "execution_count": 82,
     "metadata": {},
     "output_type": "execute_result"
    }
   ],
   "source": [
    "df_cat['pw_level'] = pd.DataFrame(le.fit_transform(np.array(df_cat['pw_level']).reshape(-1,1)))\n",
    "df_cat['pw_level'].unique()"
   ]
  },
  {
   "cell_type": "code",
   "execution_count": 83,
   "id": "63ca83d9-1e63-45f1-9a48-5831a68829ad",
   "metadata": {},
   "outputs": [
    {
     "data": {
      "text/plain": [
       "array(['Y', 'H', 'M', 'W', 'BW'], dtype=object)"
      ]
     },
     "execution_count": 83,
     "metadata": {},
     "output_type": "execute_result"
    }
   ],
   "source": [
    "df_cat['wage_unit'].unique()"
   ]
  },
  {
   "cell_type": "code",
   "execution_count": 84,
   "id": "effa7a37-9e75-4b45-b362-68fedb5fe570",
   "metadata": {},
   "outputs": [
    {
     "data": {
      "text/plain": [
       "array([4, 1, 2, 3, 0])"
      ]
     },
     "execution_count": 84,
     "metadata": {},
     "output_type": "execute_result"
    }
   ],
   "source": [
    "df_cat['wage_unit'] = pd.DataFrame(le.fit_transform(np.array(df_cat['wage_unit']).reshape(-1,1)))\n",
    "df_cat['wage_unit'].unique()"
   ]
  },
  {
   "cell_type": "markdown",
   "id": "bc4bb08b-3e94-4de6-8cf3-3595b348d1a8",
   "metadata": {},
   "source": [
    "Since pw_unit and wage_unit convey the same information to the model, we can remove pw_unit."
   ]
  },
  {
   "cell_type": "code",
   "execution_count": 85,
   "id": "1c3881bd-3366-46b7-947b-6312dd29481a",
   "metadata": {},
   "outputs": [],
   "source": [
    "df_cat.drop('pw_unit', axis = 1, inplace = True)"
   ]
  },
  {
   "cell_type": "markdown",
   "id": "bd616e13-2ec9-43b9-9bd1-5d19ef6b83ce",
   "metadata": {},
   "source": [
    "We can drop emp_name, emp_city, emp_state, emp_zip since none of these columns determine if the application will be certified."
   ]
  },
  {
   "cell_type": "code",
   "execution_count": 86,
   "id": "e60a23ef-e8eb-4a80-9d61-aa9c762ac469",
   "metadata": {},
   "outputs": [],
   "source": [
    "df_cat.drop(['emp_name', 'emp_city', 'emp_state', 'emp_zip'], axis = 1, inplace = True)"
   ]
  },
  {
   "cell_type": "code",
   "execution_count": 87,
   "id": "143b7b0d-3959-4ef7-8162-b1cc94db9568",
   "metadata": {},
   "outputs": [
    {
     "data": {
      "text/html": [
       "<div>\n",
       "<style scoped>\n",
       "    .dataframe tbody tr th:only-of-type {\n",
       "        vertical-align: middle;\n",
       "    }\n",
       "\n",
       "    .dataframe tbody tr th {\n",
       "        vertical-align: top;\n",
       "    }\n",
       "\n",
       "    .dataframe thead th {\n",
       "        text-align: right;\n",
       "    }\n",
       "</style>\n",
       "<table border=\"1\" class=\"dataframe\">\n",
       "  <thead>\n",
       "    <tr style=\"text-align: right;\">\n",
       "      <th></th>\n",
       "      <th>case_status</th>\n",
       "      <th>emp_country</th>\n",
       "      <th>job_title</th>\n",
       "      <th>soc_code</th>\n",
       "      <th>soc_name</th>\n",
       "      <th>full_time_position</th>\n",
       "      <th>pw_level</th>\n",
       "      <th>wage_unit</th>\n",
       "      <th>work_city</th>\n",
       "      <th>work_state</th>\n",
       "      <th>emp_h1b_dependent</th>\n",
       "      <th>emp_willful_violator</th>\n",
       "      <th>decision_time</th>\n",
       "    </tr>\n",
       "  </thead>\n",
       "  <tbody>\n",
       "    <tr>\n",
       "      <th>0</th>\n",
       "      <td>0</td>\n",
       "      <td>USA</td>\n",
       "      <td>NEPHROLOGIST</td>\n",
       "      <td>29-1063</td>\n",
       "      <td>INTERNISTS, GENERAL</td>\n",
       "      <td>Y</td>\n",
       "      <td>0</td>\n",
       "      <td>4</td>\n",
       "      <td>ABBEVILLE</td>\n",
       "      <td>SC</td>\n",
       "      <td>N</td>\n",
       "      <td>N</td>\n",
       "      <td>4 days</td>\n",
       "    </tr>\n",
       "    <tr>\n",
       "      <th>1</th>\n",
       "      <td>0</td>\n",
       "      <td>USA</td>\n",
       "      <td>POST DOCTORAL FELLOW</td>\n",
       "      <td>19-1013</td>\n",
       "      <td>SOIL AND PLANT SCIENTISTS</td>\n",
       "      <td>Y</td>\n",
       "      <td>0</td>\n",
       "      <td>4</td>\n",
       "      <td>ABERDEEN</td>\n",
       "      <td>ID</td>\n",
       "      <td>N</td>\n",
       "      <td>N</td>\n",
       "      <td>6 days</td>\n",
       "    </tr>\n",
       "    <tr>\n",
       "      <th>2</th>\n",
       "      <td>0</td>\n",
       "      <td>USA</td>\n",
       "      <td>OPERATION ANALYST</td>\n",
       "      <td>15-2031</td>\n",
       "      <td>OPERATIONS RESEARCH ANALYSTS</td>\n",
       "      <td>Y</td>\n",
       "      <td>0</td>\n",
       "      <td>4</td>\n",
       "      <td>ABERDEEN</td>\n",
       "      <td>MD</td>\n",
       "      <td>N</td>\n",
       "      <td>N</td>\n",
       "      <td>6 days</td>\n",
       "    </tr>\n",
       "    <tr>\n",
       "      <th>3</th>\n",
       "      <td>0</td>\n",
       "      <td>USA</td>\n",
       "      <td>SR. INDUSTRIAL ENGINEER</td>\n",
       "      <td>17-2112</td>\n",
       "      <td>INDUSTRIAL ENGINEERS</td>\n",
       "      <td>Y</td>\n",
       "      <td>1</td>\n",
       "      <td>4</td>\n",
       "      <td>ABERDEEN</td>\n",
       "      <td>MD</td>\n",
       "      <td>N</td>\n",
       "      <td>N</td>\n",
       "      <td>6 days</td>\n",
       "    </tr>\n",
       "    <tr>\n",
       "      <th>4</th>\n",
       "      <td>0</td>\n",
       "      <td>USA</td>\n",
       "      <td>HEMATOLOGIST/ONCOLOGIST</td>\n",
       "      <td>29-1069</td>\n",
       "      <td>PHYSICIANS AND SURGEONS, ALL OTHER</td>\n",
       "      <td>Y</td>\n",
       "      <td>0</td>\n",
       "      <td>4</td>\n",
       "      <td>ABERDEEN</td>\n",
       "      <td>SD</td>\n",
       "      <td>N</td>\n",
       "      <td>N</td>\n",
       "      <td>6 days</td>\n",
       "    </tr>\n",
       "  </tbody>\n",
       "</table>\n",
       "</div>"
      ],
      "text/plain": [
       "   case_status emp_country                job_title soc_code  \\\n",
       "0            0         USA             NEPHROLOGIST  29-1063   \n",
       "1            0         USA     POST DOCTORAL FELLOW  19-1013   \n",
       "2            0         USA        OPERATION ANALYST  15-2031   \n",
       "3            0         USA  SR. INDUSTRIAL ENGINEER  17-2112   \n",
       "4            0         USA  HEMATOLOGIST/ONCOLOGIST  29-1069   \n",
       "\n",
       "                             soc_name full_time_position  pw_level  wage_unit  \\\n",
       "0                 INTERNISTS, GENERAL                  Y         0          4   \n",
       "1           SOIL AND PLANT SCIENTISTS                  Y         0          4   \n",
       "2        OPERATIONS RESEARCH ANALYSTS                  Y         0          4   \n",
       "3                INDUSTRIAL ENGINEERS                  Y         1          4   \n",
       "4  PHYSICIANS AND SURGEONS, ALL OTHER                  Y         0          4   \n",
       "\n",
       "   work_city work_state emp_h1b_dependent emp_willful_violator decision_time  \n",
       "0  ABBEVILLE         SC                 N                    N        4 days  \n",
       "1   ABERDEEN         ID                 N                    N        6 days  \n",
       "2   ABERDEEN         MD                 N                    N        6 days  \n",
       "3   ABERDEEN         MD                 N                    N        6 days  \n",
       "4   ABERDEEN         SD                 N                    N        6 days  "
      ]
     },
     "execution_count": 87,
     "metadata": {},
     "output_type": "execute_result"
    }
   ],
   "source": [
    "df_cat.head()"
   ]
  },
  {
   "cell_type": "markdown",
   "id": "e1ca01b5-65d2-4b88-b49b-3b28aed076a8",
   "metadata": {},
   "source": [
    "We can also drop work_city and work_state since they don't determine certification."
   ]
  },
  {
   "cell_type": "code",
   "execution_count": 88,
   "id": "a771361e-d1fe-40d7-b52f-358bce9f943b",
   "metadata": {},
   "outputs": [],
   "source": [
    "df_cat.drop(['work_city', 'work_state'], axis = 1, inplace = True)"
   ]
  },
  {
   "cell_type": "code",
   "execution_count": 89,
   "id": "e126cedb-40a7-4f51-a2a7-6eba64a5fe4e",
   "metadata": {},
   "outputs": [
    {
     "data": {
      "text/plain": [
       "USA          579386\n",
       "CANADA            7\n",
       "AUSTRALIA         2\n",
       "CAMBODIA          1\n",
       "CHINA             1\n",
       "Name: emp_country, dtype: int64"
      ]
     },
     "execution_count": 89,
     "metadata": {},
     "output_type": "execute_result"
    }
   ],
   "source": [
    "df_cat['emp_country'].value_counts()"
   ]
  },
  {
   "cell_type": "markdown",
   "id": "be513af3-22c4-46c8-af6e-fd214997ddee",
   "metadata": {},
   "source": [
    "Since most of the entires have emp_country as USA, we can create a new dataframe consisting of records where employers are from the USA only."
   ]
  },
  {
   "cell_type": "code",
   "execution_count": 90,
   "id": "93cde21a-8819-4e59-86fd-ee2ba4759ad0",
   "metadata": {},
   "outputs": [],
   "source": [
    "df_cat = df_cat[df_cat['emp_country'] == 'USA']"
   ]
  },
  {
   "cell_type": "code",
   "execution_count": 91,
   "id": "39edfb50-4f92-4be7-bfb6-67fb5c8b2d70",
   "metadata": {},
   "outputs": [],
   "source": [
    "df_cat.drop('emp_country', axis = 1, inplace = True)"
   ]
  },
  {
   "cell_type": "code",
   "execution_count": 92,
   "id": "09e2ea62-4ede-49d9-b43a-6f494a3c319d",
   "metadata": {},
   "outputs": [
    {
     "data": {
      "text/html": [
       "<div>\n",
       "<style scoped>\n",
       "    .dataframe tbody tr th:only-of-type {\n",
       "        vertical-align: middle;\n",
       "    }\n",
       "\n",
       "    .dataframe tbody tr th {\n",
       "        vertical-align: top;\n",
       "    }\n",
       "\n",
       "    .dataframe thead th {\n",
       "        text-align: right;\n",
       "    }\n",
       "</style>\n",
       "<table border=\"1\" class=\"dataframe\">\n",
       "  <thead>\n",
       "    <tr style=\"text-align: right;\">\n",
       "      <th></th>\n",
       "      <th>case_status</th>\n",
       "      <th>job_title</th>\n",
       "      <th>soc_code</th>\n",
       "      <th>soc_name</th>\n",
       "      <th>full_time_position</th>\n",
       "      <th>pw_level</th>\n",
       "      <th>wage_unit</th>\n",
       "      <th>emp_h1b_dependent</th>\n",
       "      <th>emp_willful_violator</th>\n",
       "      <th>decision_time</th>\n",
       "    </tr>\n",
       "  </thead>\n",
       "  <tbody>\n",
       "    <tr>\n",
       "      <th>0</th>\n",
       "      <td>0</td>\n",
       "      <td>NEPHROLOGIST</td>\n",
       "      <td>29-1063</td>\n",
       "      <td>INTERNISTS, GENERAL</td>\n",
       "      <td>Y</td>\n",
       "      <td>0</td>\n",
       "      <td>4</td>\n",
       "      <td>N</td>\n",
       "      <td>N</td>\n",
       "      <td>4 days</td>\n",
       "    </tr>\n",
       "    <tr>\n",
       "      <th>1</th>\n",
       "      <td>0</td>\n",
       "      <td>POST DOCTORAL FELLOW</td>\n",
       "      <td>19-1013</td>\n",
       "      <td>SOIL AND PLANT SCIENTISTS</td>\n",
       "      <td>Y</td>\n",
       "      <td>0</td>\n",
       "      <td>4</td>\n",
       "      <td>N</td>\n",
       "      <td>N</td>\n",
       "      <td>6 days</td>\n",
       "    </tr>\n",
       "    <tr>\n",
       "      <th>2</th>\n",
       "      <td>0</td>\n",
       "      <td>OPERATION ANALYST</td>\n",
       "      <td>15-2031</td>\n",
       "      <td>OPERATIONS RESEARCH ANALYSTS</td>\n",
       "      <td>Y</td>\n",
       "      <td>0</td>\n",
       "      <td>4</td>\n",
       "      <td>N</td>\n",
       "      <td>N</td>\n",
       "      <td>6 days</td>\n",
       "    </tr>\n",
       "    <tr>\n",
       "      <th>3</th>\n",
       "      <td>0</td>\n",
       "      <td>SR. INDUSTRIAL ENGINEER</td>\n",
       "      <td>17-2112</td>\n",
       "      <td>INDUSTRIAL ENGINEERS</td>\n",
       "      <td>Y</td>\n",
       "      <td>1</td>\n",
       "      <td>4</td>\n",
       "      <td>N</td>\n",
       "      <td>N</td>\n",
       "      <td>6 days</td>\n",
       "    </tr>\n",
       "    <tr>\n",
       "      <th>4</th>\n",
       "      <td>0</td>\n",
       "      <td>HEMATOLOGIST/ONCOLOGIST</td>\n",
       "      <td>29-1069</td>\n",
       "      <td>PHYSICIANS AND SURGEONS, ALL OTHER</td>\n",
       "      <td>Y</td>\n",
       "      <td>0</td>\n",
       "      <td>4</td>\n",
       "      <td>N</td>\n",
       "      <td>N</td>\n",
       "      <td>6 days</td>\n",
       "    </tr>\n",
       "  </tbody>\n",
       "</table>\n",
       "</div>"
      ],
      "text/plain": [
       "   case_status                job_title soc_code  \\\n",
       "0            0             NEPHROLOGIST  29-1063   \n",
       "1            0     POST DOCTORAL FELLOW  19-1013   \n",
       "2            0        OPERATION ANALYST  15-2031   \n",
       "3            0  SR. INDUSTRIAL ENGINEER  17-2112   \n",
       "4            0  HEMATOLOGIST/ONCOLOGIST  29-1069   \n",
       "\n",
       "                             soc_name full_time_position  pw_level  wage_unit  \\\n",
       "0                 INTERNISTS, GENERAL                  Y         0          4   \n",
       "1           SOIL AND PLANT SCIENTISTS                  Y         0          4   \n",
       "2        OPERATIONS RESEARCH ANALYSTS                  Y         0          4   \n",
       "3                INDUSTRIAL ENGINEERS                  Y         1          4   \n",
       "4  PHYSICIANS AND SURGEONS, ALL OTHER                  Y         0          4   \n",
       "\n",
       "  emp_h1b_dependent emp_willful_violator decision_time  \n",
       "0                 N                    N        4 days  \n",
       "1                 N                    N        6 days  \n",
       "2                 N                    N        6 days  \n",
       "3                 N                    N        6 days  \n",
       "4                 N                    N        6 days  "
      ]
     },
     "execution_count": 92,
     "metadata": {},
     "output_type": "execute_result"
    }
   ],
   "source": [
    "df_cat.head()"
   ]
  },
  {
   "cell_type": "code",
   "execution_count": 93,
   "id": "13efb329-730a-4715-b0ee-c3dfde66b0ce",
   "metadata": {},
   "outputs": [
    {
     "data": {
      "text/plain": [
       "PROGRAMMER ANALYST                                   44278\n",
       "SOFTWARE ENGINEER                                    26587\n",
       "SOFTWARE DEVELOPER                                   15187\n",
       "SYSTEMS ANALYST                                      10131\n",
       "BUSINESS ANALYST                                      6905\n",
       "                                                     ...  \n",
       "TEST DATA ARCHITECT                                      1\n",
       "ATG SOFTWARE DEVELOPER                                   1\n",
       "SENIOR WEBSPHERE ENGINEER                                1\n",
       "UNIFIED COMMUNICATIONS TECHNICAL SUPPORT ENGINEER        1\n",
       "LEAD DEVELOPER, STERLING OMS                             1\n",
       "Name: job_title, Length: 85627, dtype: int64"
      ]
     },
     "execution_count": 93,
     "metadata": {},
     "output_type": "execute_result"
    }
   ],
   "source": [
    "df_cat['job_title'].value_counts()"
   ]
  },
  {
   "cell_type": "markdown",
   "id": "ecd32107-7e24-4053-ab4d-852fffd1702f",
   "metadata": {},
   "source": [
    "There are 85627 unique values for job_title. Since encoding this would be extremely time consuming and illogical, we can drop this column."
   ]
  },
  {
   "cell_type": "code",
   "execution_count": 94,
   "id": "b19673a8-855b-4010-897e-54eb5480cac2",
   "metadata": {},
   "outputs": [],
   "source": [
    "df_cat.drop('job_title', axis = 1, inplace = True)"
   ]
  },
  {
   "cell_type": "markdown",
   "id": "09d5677a-9b73-4c5e-8d09-7d08b50ee612",
   "metadata": {},
   "source": [
    "We can also drop the soc_name since soc_name and soc_code convey the same information to the model."
   ]
  },
  {
   "cell_type": "code",
   "execution_count": 95,
   "id": "7f451ae7-e2af-4e5a-bf7e-b1f6bdf039d3",
   "metadata": {},
   "outputs": [],
   "source": [
    "df_cat.drop('soc_name', axis = 1, inplace = True)"
   ]
  },
  {
   "cell_type": "code",
   "execution_count": 96,
   "id": "fbbc2d5f-ddfc-41a3-a059-8352f83114d1",
   "metadata": {},
   "outputs": [
    {
     "data": {
      "text/html": [
       "<div>\n",
       "<style scoped>\n",
       "    .dataframe tbody tr th:only-of-type {\n",
       "        vertical-align: middle;\n",
       "    }\n",
       "\n",
       "    .dataframe tbody tr th {\n",
       "        vertical-align: top;\n",
       "    }\n",
       "\n",
       "    .dataframe thead th {\n",
       "        text-align: right;\n",
       "    }\n",
       "</style>\n",
       "<table border=\"1\" class=\"dataframe\">\n",
       "  <thead>\n",
       "    <tr style=\"text-align: right;\">\n",
       "      <th></th>\n",
       "      <th>case_status</th>\n",
       "      <th>soc_code</th>\n",
       "      <th>full_time_position</th>\n",
       "      <th>pw_level</th>\n",
       "      <th>wage_unit</th>\n",
       "      <th>emp_h1b_dependent</th>\n",
       "      <th>emp_willful_violator</th>\n",
       "      <th>decision_time</th>\n",
       "    </tr>\n",
       "  </thead>\n",
       "  <tbody>\n",
       "    <tr>\n",
       "      <th>0</th>\n",
       "      <td>0</td>\n",
       "      <td>29-1063</td>\n",
       "      <td>Y</td>\n",
       "      <td>0</td>\n",
       "      <td>4</td>\n",
       "      <td>N</td>\n",
       "      <td>N</td>\n",
       "      <td>4 days</td>\n",
       "    </tr>\n",
       "    <tr>\n",
       "      <th>1</th>\n",
       "      <td>0</td>\n",
       "      <td>19-1013</td>\n",
       "      <td>Y</td>\n",
       "      <td>0</td>\n",
       "      <td>4</td>\n",
       "      <td>N</td>\n",
       "      <td>N</td>\n",
       "      <td>6 days</td>\n",
       "    </tr>\n",
       "    <tr>\n",
       "      <th>2</th>\n",
       "      <td>0</td>\n",
       "      <td>15-2031</td>\n",
       "      <td>Y</td>\n",
       "      <td>0</td>\n",
       "      <td>4</td>\n",
       "      <td>N</td>\n",
       "      <td>N</td>\n",
       "      <td>6 days</td>\n",
       "    </tr>\n",
       "    <tr>\n",
       "      <th>3</th>\n",
       "      <td>0</td>\n",
       "      <td>17-2112</td>\n",
       "      <td>Y</td>\n",
       "      <td>1</td>\n",
       "      <td>4</td>\n",
       "      <td>N</td>\n",
       "      <td>N</td>\n",
       "      <td>6 days</td>\n",
       "    </tr>\n",
       "    <tr>\n",
       "      <th>4</th>\n",
       "      <td>0</td>\n",
       "      <td>29-1069</td>\n",
       "      <td>Y</td>\n",
       "      <td>0</td>\n",
       "      <td>4</td>\n",
       "      <td>N</td>\n",
       "      <td>N</td>\n",
       "      <td>6 days</td>\n",
       "    </tr>\n",
       "  </tbody>\n",
       "</table>\n",
       "</div>"
      ],
      "text/plain": [
       "   case_status soc_code full_time_position  pw_level  wage_unit  \\\n",
       "0            0  29-1063                  Y         0          4   \n",
       "1            0  19-1013                  Y         0          4   \n",
       "2            0  15-2031                  Y         0          4   \n",
       "3            0  17-2112                  Y         1          4   \n",
       "4            0  29-1069                  Y         0          4   \n",
       "\n",
       "  emp_h1b_dependent emp_willful_violator decision_time  \n",
       "0                 N                    N        4 days  \n",
       "1                 N                    N        6 days  \n",
       "2                 N                    N        6 days  \n",
       "3                 N                    N        6 days  \n",
       "4                 N                    N        6 days  "
      ]
     },
     "execution_count": 96,
     "metadata": {},
     "output_type": "execute_result"
    }
   ],
   "source": [
    "df_cat.head()"
   ]
  },
  {
   "cell_type": "markdown",
   "id": "876d437b-7697-40f7-8bbc-92b48778eb20",
   "metadata": {},
   "source": [
    "We can encode full_time_position, emp_h1b_dependent and emp_willful_violator using dummies encoding."
   ]
  },
  {
   "cell_type": "code",
   "execution_count": 97,
   "id": "da06914b-b7f4-4509-bb58-d37a0bbccc7b",
   "metadata": {},
   "outputs": [],
   "source": [
    "df_cat['full_time_position'] = pd.get_dummies(df_cat['full_time_position'], drop_first = True)"
   ]
  },
  {
   "cell_type": "code",
   "execution_count": 98,
   "id": "f3eb40d8-1faf-40be-804f-1ead23c2f2cb",
   "metadata": {},
   "outputs": [
    {
     "data": {
      "text/plain": [
       "array([1, 0], dtype=uint8)"
      ]
     },
     "execution_count": 98,
     "metadata": {},
     "output_type": "execute_result"
    }
   ],
   "source": [
    "df_cat['full_time_position'].unique()"
   ]
  },
  {
   "cell_type": "code",
   "execution_count": 99,
   "id": "621c5c55-c41f-43b3-9e62-c0b2938b73eb",
   "metadata": {},
   "outputs": [],
   "source": [
    "df_cat['emp_h1b_dependent'] = pd.get_dummies(df_cat['emp_h1b_dependent'], drop_first = True)"
   ]
  },
  {
   "cell_type": "code",
   "execution_count": 100,
   "id": "2b31047b-7c7b-40b2-9884-a9948851efff",
   "metadata": {},
   "outputs": [],
   "source": [
    "df_cat['emp_willful_violator'] = pd.get_dummies(df_cat['emp_willful_violator'], drop_first = True)"
   ]
  },
  {
   "cell_type": "code",
   "execution_count": 101,
   "id": "cb041f74-83f6-4e9e-9c02-48979feda32d",
   "metadata": {},
   "outputs": [
    {
     "data": {
      "text/html": [
       "<div>\n",
       "<style scoped>\n",
       "    .dataframe tbody tr th:only-of-type {\n",
       "        vertical-align: middle;\n",
       "    }\n",
       "\n",
       "    .dataframe tbody tr th {\n",
       "        vertical-align: top;\n",
       "    }\n",
       "\n",
       "    .dataframe thead th {\n",
       "        text-align: right;\n",
       "    }\n",
       "</style>\n",
       "<table border=\"1\" class=\"dataframe\">\n",
       "  <thead>\n",
       "    <tr style=\"text-align: right;\">\n",
       "      <th></th>\n",
       "      <th>case_status</th>\n",
       "      <th>soc_code</th>\n",
       "      <th>full_time_position</th>\n",
       "      <th>pw_level</th>\n",
       "      <th>wage_unit</th>\n",
       "      <th>emp_h1b_dependent</th>\n",
       "      <th>emp_willful_violator</th>\n",
       "      <th>decision_time</th>\n",
       "    </tr>\n",
       "  </thead>\n",
       "  <tbody>\n",
       "    <tr>\n",
       "      <th>0</th>\n",
       "      <td>0</td>\n",
       "      <td>29-1063</td>\n",
       "      <td>1</td>\n",
       "      <td>0</td>\n",
       "      <td>4</td>\n",
       "      <td>0</td>\n",
       "      <td>0</td>\n",
       "      <td>4 days</td>\n",
       "    </tr>\n",
       "    <tr>\n",
       "      <th>1</th>\n",
       "      <td>0</td>\n",
       "      <td>19-1013</td>\n",
       "      <td>1</td>\n",
       "      <td>0</td>\n",
       "      <td>4</td>\n",
       "      <td>0</td>\n",
       "      <td>0</td>\n",
       "      <td>6 days</td>\n",
       "    </tr>\n",
       "    <tr>\n",
       "      <th>2</th>\n",
       "      <td>0</td>\n",
       "      <td>15-2031</td>\n",
       "      <td>1</td>\n",
       "      <td>0</td>\n",
       "      <td>4</td>\n",
       "      <td>0</td>\n",
       "      <td>0</td>\n",
       "      <td>6 days</td>\n",
       "    </tr>\n",
       "    <tr>\n",
       "      <th>3</th>\n",
       "      <td>0</td>\n",
       "      <td>17-2112</td>\n",
       "      <td>1</td>\n",
       "      <td>1</td>\n",
       "      <td>4</td>\n",
       "      <td>0</td>\n",
       "      <td>0</td>\n",
       "      <td>6 days</td>\n",
       "    </tr>\n",
       "    <tr>\n",
       "      <th>4</th>\n",
       "      <td>0</td>\n",
       "      <td>29-1069</td>\n",
       "      <td>1</td>\n",
       "      <td>0</td>\n",
       "      <td>4</td>\n",
       "      <td>0</td>\n",
       "      <td>0</td>\n",
       "      <td>6 days</td>\n",
       "    </tr>\n",
       "  </tbody>\n",
       "</table>\n",
       "</div>"
      ],
      "text/plain": [
       "   case_status soc_code  full_time_position  pw_level  wage_unit  \\\n",
       "0            0  29-1063                   1         0          4   \n",
       "1            0  19-1013                   1         0          4   \n",
       "2            0  15-2031                   1         0          4   \n",
       "3            0  17-2112                   1         1          4   \n",
       "4            0  29-1069                   1         0          4   \n",
       "\n",
       "   emp_h1b_dependent  emp_willful_violator decision_time  \n",
       "0                  0                     0        4 days  \n",
       "1                  0                     0        6 days  \n",
       "2                  0                     0        6 days  \n",
       "3                  0                     0        6 days  \n",
       "4                  0                     0        6 days  "
      ]
     },
     "execution_count": 101,
     "metadata": {},
     "output_type": "execute_result"
    }
   ],
   "source": [
    "df_cat.head()"
   ]
  },
  {
   "cell_type": "code",
   "execution_count": 102,
   "id": "4d54ac02-f5e9-4e84-8812-2ebf3743351e",
   "metadata": {},
   "outputs": [
    {
     "name": "stdout",
     "output_type": "stream",
     "text": [
      "<class 'pandas.core.frame.DataFrame'>\n",
      "Int64Index: 579386 entries, 0 to 579396\n",
      "Data columns (total 8 columns):\n",
      " #   Column                Non-Null Count   Dtype          \n",
      "---  ------                --------------   -----          \n",
      " 0   case_status           579386 non-null  int32          \n",
      " 1   soc_code              579386 non-null  object         \n",
      " 2   full_time_position    579386 non-null  uint8          \n",
      " 3   pw_level              579386 non-null  int32          \n",
      " 4   wage_unit             579386 non-null  int32          \n",
      " 5   emp_h1b_dependent     579386 non-null  uint8          \n",
      " 6   emp_willful_violator  579386 non-null  uint8          \n",
      " 7   decision_time         579386 non-null  timedelta64[ns]\n",
      "dtypes: int32(3), object(1), timedelta64[ns](1), uint8(3)\n",
      "memory usage: 21.5+ MB\n"
     ]
    }
   ],
   "source": [
    "df_cat.info()"
   ]
  },
  {
   "cell_type": "code",
   "execution_count": 103,
   "id": "fe0e6a63-5d9c-4c84-a9b9-275b2cac7275",
   "metadata": {},
   "outputs": [],
   "source": [
    "df_cat['soc_code'] = df_cat['soc_code'].apply(lambda x : x.split('-')).str.join('')"
   ]
  },
  {
   "cell_type": "code",
   "execution_count": 104,
   "id": "3977e82f-60dc-4bdf-8091-d8c22c952d5f",
   "metadata": {},
   "outputs": [],
   "source": [
    "df_cat['soc_code'].replace(['SOFTWARE DEVELOPERS, APPLICATIONS', \n",
    "                            'COMPUTER OCCUPATIONS, ALL OTHER', \n",
    "                            'ELECTRICAL ENGINEERS', \n",
    "                            'ENGINEERS, ALL OTHER', \n",
    "                            'MECHANICAL ENGINEERS'], np.nan, inplace = True)"
   ]
  },
  {
   "cell_type": "code",
   "execution_count": 105,
   "id": "f79e17c8-0bd8-4a00-8f7f-3fc7b5ea21ee",
   "metadata": {},
   "outputs": [
    {
     "data": {
      "text/plain": [
       "0         291063\n",
       "1         191013\n",
       "2         152031\n",
       "3         172112\n",
       "4         291069\n",
       "           ...  \n",
       "579392    151132\n",
       "579393    419031\n",
       "579394    151199\n",
       "579395    151132\n",
       "579396    151141\n",
       "Name: soc_code, Length: 579386, dtype: object"
      ]
     },
     "execution_count": 105,
     "metadata": {},
     "output_type": "execute_result"
    }
   ],
   "source": [
    "df_cat['soc_code'].astype('object')"
   ]
  },
  {
   "cell_type": "code",
   "execution_count": 106,
   "id": "1fe7c67a-d08c-4238-ae8c-44e7f0e44b17",
   "metadata": {},
   "outputs": [
    {
     "data": {
      "text/html": [
       "<div>\n",
       "<style scoped>\n",
       "    .dataframe tbody tr th:only-of-type {\n",
       "        vertical-align: middle;\n",
       "    }\n",
       "\n",
       "    .dataframe tbody tr th {\n",
       "        vertical-align: top;\n",
       "    }\n",
       "\n",
       "    .dataframe thead th {\n",
       "        text-align: right;\n",
       "    }\n",
       "</style>\n",
       "<table border=\"1\" class=\"dataframe\">\n",
       "  <thead>\n",
       "    <tr style=\"text-align: right;\">\n",
       "      <th></th>\n",
       "      <th>case_status</th>\n",
       "      <th>soc_code</th>\n",
       "      <th>full_time_position</th>\n",
       "      <th>pw_level</th>\n",
       "      <th>wage_unit</th>\n",
       "      <th>emp_h1b_dependent</th>\n",
       "      <th>emp_willful_violator</th>\n",
       "      <th>decision_time</th>\n",
       "    </tr>\n",
       "  </thead>\n",
       "  <tbody>\n",
       "    <tr>\n",
       "      <th>0</th>\n",
       "      <td>0</td>\n",
       "      <td>291063</td>\n",
       "      <td>1</td>\n",
       "      <td>0</td>\n",
       "      <td>4</td>\n",
       "      <td>0</td>\n",
       "      <td>0</td>\n",
       "      <td>4 days</td>\n",
       "    </tr>\n",
       "    <tr>\n",
       "      <th>1</th>\n",
       "      <td>0</td>\n",
       "      <td>191013</td>\n",
       "      <td>1</td>\n",
       "      <td>0</td>\n",
       "      <td>4</td>\n",
       "      <td>0</td>\n",
       "      <td>0</td>\n",
       "      <td>6 days</td>\n",
       "    </tr>\n",
       "    <tr>\n",
       "      <th>2</th>\n",
       "      <td>0</td>\n",
       "      <td>152031</td>\n",
       "      <td>1</td>\n",
       "      <td>0</td>\n",
       "      <td>4</td>\n",
       "      <td>0</td>\n",
       "      <td>0</td>\n",
       "      <td>6 days</td>\n",
       "    </tr>\n",
       "    <tr>\n",
       "      <th>3</th>\n",
       "      <td>0</td>\n",
       "      <td>172112</td>\n",
       "      <td>1</td>\n",
       "      <td>1</td>\n",
       "      <td>4</td>\n",
       "      <td>0</td>\n",
       "      <td>0</td>\n",
       "      <td>6 days</td>\n",
       "    </tr>\n",
       "    <tr>\n",
       "      <th>4</th>\n",
       "      <td>0</td>\n",
       "      <td>291069</td>\n",
       "      <td>1</td>\n",
       "      <td>0</td>\n",
       "      <td>4</td>\n",
       "      <td>0</td>\n",
       "      <td>0</td>\n",
       "      <td>6 days</td>\n",
       "    </tr>\n",
       "  </tbody>\n",
       "</table>\n",
       "</div>"
      ],
      "text/plain": [
       "   case_status soc_code  full_time_position  pw_level  wage_unit  \\\n",
       "0            0   291063                   1         0          4   \n",
       "1            0   191013                   1         0          4   \n",
       "2            0   152031                   1         0          4   \n",
       "3            0   172112                   1         1          4   \n",
       "4            0   291069                   1         0          4   \n",
       "\n",
       "   emp_h1b_dependent  emp_willful_violator decision_time  \n",
       "0                  0                     0        4 days  \n",
       "1                  0                     0        6 days  \n",
       "2                  0                     0        6 days  \n",
       "3                  0                     0        6 days  \n",
       "4                  0                     0        6 days  "
      ]
     },
     "execution_count": 106,
     "metadata": {},
     "output_type": "execute_result"
    }
   ],
   "source": [
    "df_cat.head()"
   ]
  },
  {
   "cell_type": "code",
   "execution_count": 107,
   "id": "bf6ba8b0-3632-4a4e-bc34-95eaaa1e032d",
   "metadata": {},
   "outputs": [],
   "source": [
    "df_cat['decision_time'] = df_cat['decision_time'].dt.days"
   ]
  },
  {
   "cell_type": "code",
   "execution_count": 108,
   "id": "667cb384-35a4-4c47-8163-5f4910f620c5",
   "metadata": {},
   "outputs": [
    {
     "name": "stdout",
     "output_type": "stream",
     "text": [
      "<class 'pandas.core.frame.DataFrame'>\n",
      "Int64Index: 579386 entries, 0 to 579396\n",
      "Data columns (total 8 columns):\n",
      " #   Column                Non-Null Count   Dtype \n",
      "---  ------                --------------   ----- \n",
      " 0   case_status           579386 non-null  int32 \n",
      " 1   soc_code              579379 non-null  object\n",
      " 2   full_time_position    579386 non-null  uint8 \n",
      " 3   pw_level              579386 non-null  int32 \n",
      " 4   wage_unit             579386 non-null  int32 \n",
      " 5   emp_h1b_dependent     579386 non-null  uint8 \n",
      " 6   emp_willful_violator  579386 non-null  uint8 \n",
      " 7   decision_time         579386 non-null  int64 \n",
      "dtypes: int32(3), int64(1), object(1), uint8(3)\n",
      "memory usage: 21.5+ MB\n"
     ]
    }
   ],
   "source": [
    "df_cat.info()"
   ]
  },
  {
   "cell_type": "code",
   "execution_count": 109,
   "id": "47cb1bcf-71ec-44a7-9cde-66adcdc4d280",
   "metadata": {},
   "outputs": [],
   "source": [
    "dfs = pd.concat([df_num, df_cat], axis = 1, join = 'inner')"
   ]
  },
  {
   "cell_type": "code",
   "execution_count": 110,
   "id": "12b3eb10-ca93-4bc6-ad8e-f85fbf883855",
   "metadata": {},
   "outputs": [
    {
     "data": {
      "text/html": [
       "<div>\n",
       "<style scoped>\n",
       "    .dataframe tbody tr th:only-of-type {\n",
       "        vertical-align: middle;\n",
       "    }\n",
       "\n",
       "    .dataframe tbody tr th {\n",
       "        vertical-align: top;\n",
       "    }\n",
       "\n",
       "    .dataframe thead th {\n",
       "        text-align: right;\n",
       "    }\n",
       "</style>\n",
       "<table border=\"1\" class=\"dataframe\">\n",
       "  <thead>\n",
       "    <tr style=\"text-align: right;\">\n",
       "      <th></th>\n",
       "      <th>prevailing_wage</th>\n",
       "      <th>wage_range</th>\n",
       "      <th>case_status</th>\n",
       "      <th>soc_code</th>\n",
       "      <th>full_time_position</th>\n",
       "      <th>pw_level</th>\n",
       "      <th>wage_unit</th>\n",
       "      <th>emp_h1b_dependent</th>\n",
       "      <th>emp_willful_violator</th>\n",
       "      <th>decision_time</th>\n",
       "    </tr>\n",
       "  </thead>\n",
       "  <tbody>\n",
       "    <tr>\n",
       "      <th>0</th>\n",
       "      <td>0.426325</td>\n",
       "      <td>2.610290</td>\n",
       "      <td>0</td>\n",
       "      <td>291063</td>\n",
       "      <td>1</td>\n",
       "      <td>0</td>\n",
       "      <td>4</td>\n",
       "      <td>0</td>\n",
       "      <td>0</td>\n",
       "      <td>4</td>\n",
       "    </tr>\n",
       "    <tr>\n",
       "      <th>1</th>\n",
       "      <td>-0.125063</td>\n",
       "      <td>-0.478678</td>\n",
       "      <td>0</td>\n",
       "      <td>191013</td>\n",
       "      <td>1</td>\n",
       "      <td>0</td>\n",
       "      <td>4</td>\n",
       "      <td>0</td>\n",
       "      <td>0</td>\n",
       "      <td>6</td>\n",
       "    </tr>\n",
       "    <tr>\n",
       "      <th>2</th>\n",
       "      <td>-0.050134</td>\n",
       "      <td>-0.099464</td>\n",
       "      <td>0</td>\n",
       "      <td>152031</td>\n",
       "      <td>1</td>\n",
       "      <td>0</td>\n",
       "      <td>4</td>\n",
       "      <td>0</td>\n",
       "      <td>0</td>\n",
       "      <td>6</td>\n",
       "    </tr>\n",
       "    <tr>\n",
       "      <th>3</th>\n",
       "      <td>0.020514</td>\n",
       "      <td>0.377195</td>\n",
       "      <td>0</td>\n",
       "      <td>172112</td>\n",
       "      <td>1</td>\n",
       "      <td>1</td>\n",
       "      <td>4</td>\n",
       "      <td>0</td>\n",
       "      <td>0</td>\n",
       "      <td>6</td>\n",
       "    </tr>\n",
       "    <tr>\n",
       "      <th>4</th>\n",
       "      <td>0.360586</td>\n",
       "      <td>8.246578</td>\n",
       "      <td>0</td>\n",
       "      <td>291069</td>\n",
       "      <td>1</td>\n",
       "      <td>0</td>\n",
       "      <td>4</td>\n",
       "      <td>0</td>\n",
       "      <td>0</td>\n",
       "      <td>6</td>\n",
       "    </tr>\n",
       "  </tbody>\n",
       "</table>\n",
       "</div>"
      ],
      "text/plain": [
       "   prevailing_wage  wage_range  case_status soc_code  full_time_position  \\\n",
       "0         0.426325    2.610290            0   291063                   1   \n",
       "1        -0.125063   -0.478678            0   191013                   1   \n",
       "2        -0.050134   -0.099464            0   152031                   1   \n",
       "3         0.020514    0.377195            0   172112                   1   \n",
       "4         0.360586    8.246578            0   291069                   1   \n",
       "\n",
       "   pw_level  wage_unit  emp_h1b_dependent  emp_willful_violator  decision_time  \n",
       "0         0          4                  0                     0              4  \n",
       "1         0          4                  0                     0              6  \n",
       "2         0          4                  0                     0              6  \n",
       "3         1          4                  0                     0              6  \n",
       "4         0          4                  0                     0              6  "
      ]
     },
     "execution_count": 110,
     "metadata": {},
     "output_type": "execute_result"
    }
   ],
   "source": [
    "dfs.head()"
   ]
  },
  {
   "cell_type": "code",
   "execution_count": 111,
   "id": "2be0d51b-a593-4f1d-8995-c35928f60d72",
   "metadata": {},
   "outputs": [
    {
     "name": "stdout",
     "output_type": "stream",
     "text": [
      "<class 'pandas.core.frame.DataFrame'>\n",
      "Int64Index: 579386 entries, 0 to 579396\n",
      "Data columns (total 10 columns):\n",
      " #   Column                Non-Null Count   Dtype  \n",
      "---  ------                --------------   -----  \n",
      " 0   prevailing_wage       579386 non-null  float64\n",
      " 1   wage_range            579386 non-null  float64\n",
      " 2   case_status           579386 non-null  int32  \n",
      " 3   soc_code              579379 non-null  object \n",
      " 4   full_time_position    579386 non-null  uint8  \n",
      " 5   pw_level              579386 non-null  int32  \n",
      " 6   wage_unit             579386 non-null  int32  \n",
      " 7   emp_h1b_dependent     579386 non-null  uint8  \n",
      " 8   emp_willful_violator  579386 non-null  uint8  \n",
      " 9   decision_time         579386 non-null  int64  \n",
      "dtypes: float64(2), int32(3), int64(1), object(1), uint8(3)\n",
      "memory usage: 30.4+ MB\n"
     ]
    }
   ],
   "source": [
    "dfs.info()"
   ]
  },
  {
   "cell_type": "markdown",
   "id": "8b624022-044e-4660-8815-c921ac384816",
   "metadata": {},
   "source": [
    "Although soc_code is an important variable, it is causing issues. So we can drop it for the time being."
   ]
  },
  {
   "cell_type": "code",
   "execution_count": 112,
   "id": "1ca18871-e943-4b93-86bd-e5b990532235",
   "metadata": {},
   "outputs": [],
   "source": [
    "dfs.drop('soc_code', axis = 1, inplace = True)"
   ]
  },
  {
   "cell_type": "code",
   "execution_count": 113,
   "id": "14ed1527-0e1e-44cd-be6a-5d4b772a7c74",
   "metadata": {},
   "outputs": [
    {
     "data": {
      "text/html": [
       "<div>\n",
       "<style scoped>\n",
       "    .dataframe tbody tr th:only-of-type {\n",
       "        vertical-align: middle;\n",
       "    }\n",
       "\n",
       "    .dataframe tbody tr th {\n",
       "        vertical-align: top;\n",
       "    }\n",
       "\n",
       "    .dataframe thead th {\n",
       "        text-align: right;\n",
       "    }\n",
       "</style>\n",
       "<table border=\"1\" class=\"dataframe\">\n",
       "  <thead>\n",
       "    <tr style=\"text-align: right;\">\n",
       "      <th></th>\n",
       "      <th>prevailing_wage</th>\n",
       "      <th>wage_range</th>\n",
       "      <th>case_status</th>\n",
       "      <th>full_time_position</th>\n",
       "      <th>pw_level</th>\n",
       "      <th>wage_unit</th>\n",
       "      <th>emp_h1b_dependent</th>\n",
       "      <th>emp_willful_violator</th>\n",
       "      <th>decision_time</th>\n",
       "    </tr>\n",
       "  </thead>\n",
       "  <tbody>\n",
       "    <tr>\n",
       "      <th>0</th>\n",
       "      <td>0.426325</td>\n",
       "      <td>2.610290</td>\n",
       "      <td>0</td>\n",
       "      <td>1</td>\n",
       "      <td>0</td>\n",
       "      <td>4</td>\n",
       "      <td>0</td>\n",
       "      <td>0</td>\n",
       "      <td>4</td>\n",
       "    </tr>\n",
       "    <tr>\n",
       "      <th>1</th>\n",
       "      <td>-0.125063</td>\n",
       "      <td>-0.478678</td>\n",
       "      <td>0</td>\n",
       "      <td>1</td>\n",
       "      <td>0</td>\n",
       "      <td>4</td>\n",
       "      <td>0</td>\n",
       "      <td>0</td>\n",
       "      <td>6</td>\n",
       "    </tr>\n",
       "    <tr>\n",
       "      <th>2</th>\n",
       "      <td>-0.050134</td>\n",
       "      <td>-0.099464</td>\n",
       "      <td>0</td>\n",
       "      <td>1</td>\n",
       "      <td>0</td>\n",
       "      <td>4</td>\n",
       "      <td>0</td>\n",
       "      <td>0</td>\n",
       "      <td>6</td>\n",
       "    </tr>\n",
       "    <tr>\n",
       "      <th>3</th>\n",
       "      <td>0.020514</td>\n",
       "      <td>0.377195</td>\n",
       "      <td>0</td>\n",
       "      <td>1</td>\n",
       "      <td>1</td>\n",
       "      <td>4</td>\n",
       "      <td>0</td>\n",
       "      <td>0</td>\n",
       "      <td>6</td>\n",
       "    </tr>\n",
       "    <tr>\n",
       "      <th>4</th>\n",
       "      <td>0.360586</td>\n",
       "      <td>8.246578</td>\n",
       "      <td>0</td>\n",
       "      <td>1</td>\n",
       "      <td>0</td>\n",
       "      <td>4</td>\n",
       "      <td>0</td>\n",
       "      <td>0</td>\n",
       "      <td>6</td>\n",
       "    </tr>\n",
       "  </tbody>\n",
       "</table>\n",
       "</div>"
      ],
      "text/plain": [
       "   prevailing_wage  wage_range  case_status  full_time_position  pw_level  \\\n",
       "0         0.426325    2.610290            0                   1         0   \n",
       "1        -0.125063   -0.478678            0                   1         0   \n",
       "2        -0.050134   -0.099464            0                   1         0   \n",
       "3         0.020514    0.377195            0                   1         1   \n",
       "4         0.360586    8.246578            0                   1         0   \n",
       "\n",
       "   wage_unit  emp_h1b_dependent  emp_willful_violator  decision_time  \n",
       "0          4                  0                     0              4  \n",
       "1          4                  0                     0              6  \n",
       "2          4                  0                     0              6  \n",
       "3          4                  0                     0              6  \n",
       "4          4                  0                     0              6  "
      ]
     },
     "execution_count": 113,
     "metadata": {},
     "output_type": "execute_result"
    }
   ],
   "source": [
    "dfs.head()"
   ]
  },
  {
   "cell_type": "markdown",
   "id": "bb308ca9-4793-4fd5-a730-29f586a1606b",
   "metadata": {},
   "source": [
    "### train_test_split and Building the base model"
   ]
  },
  {
   "cell_type": "code",
   "execution_count": 114,
   "id": "207c46cc-7a0c-49d0-8265-0de824ba3f46",
   "metadata": {},
   "outputs": [
    {
     "data": {
      "text/plain": [
       "prevailing_wage         0\n",
       "wage_range              0\n",
       "case_status             0\n",
       "full_time_position      0\n",
       "pw_level                0\n",
       "wage_unit               0\n",
       "emp_h1b_dependent       0\n",
       "emp_willful_violator    0\n",
       "decision_time           0\n",
       "dtype: int64"
      ]
     },
     "execution_count": 114,
     "metadata": {},
     "output_type": "execute_result"
    }
   ],
   "source": [
    "dfs.isnull().sum()"
   ]
  },
  {
   "cell_type": "code",
   "execution_count": 115,
   "id": "c266168a-854f-4269-af5a-f04ecb2c6f26",
   "metadata": {},
   "outputs": [],
   "source": [
    "x = dfs.drop('case_status', axis = 1)\n",
    "y = dfs['case_status']"
   ]
  },
  {
   "cell_type": "code",
   "execution_count": 116,
   "id": "5e069c21-338d-41a2-b681-c10fd4b888e2",
   "metadata": {},
   "outputs": [],
   "source": [
    "xtrain, xtest, ytrain, ytest = train_test_split(x, y, train_size = 0.8, random_state = 100)"
   ]
  },
  {
   "cell_type": "code",
   "execution_count": 117,
   "id": "41fa85fd-a4f6-40ae-aa1d-2243d22cb53e",
   "metadata": {},
   "outputs": [],
   "source": [
    "log_reg_bs = LogisticRegression().fit(xtrain, ytrain)\n",
    "ypred_test_lr_bs = log_reg_bs.predict(xtest)"
   ]
  },
  {
   "cell_type": "code",
   "execution_count": 118,
   "id": "fe83fa39-715f-49e1-982c-b4188b54ec70",
   "metadata": {},
   "outputs": [
    {
     "name": "stdout",
     "output_type": "stream",
     "text": [
      "              precision    recall  f1-score   support\n",
      "\n",
      "           0       0.95      1.00      0.97    101548\n",
      "           1       1.00      0.00      0.00      1354\n",
      "           2       1.00      0.67      0.80     12976\n",
      "\n",
      "    accuracy                           0.95    115878\n",
      "   macro avg       0.98      0.56      0.59    115878\n",
      "weighted avg       0.95      0.95      0.94    115878\n",
      "\n"
     ]
    }
   ],
   "source": [
    "print(classification_report(ytest, ypred_test_lr_bs))"
   ]
  },
  {
   "cell_type": "markdown",
   "id": "7b3ea60d",
   "metadata": {},
   "source": [
    "### Performing SMOTE and comparing models"
   ]
  },
  {
   "cell_type": "code",
   "execution_count": 119,
   "id": "fcd7107f",
   "metadata": {},
   "outputs": [],
   "source": [
    "from imblearn.over_sampling import SMOTE"
   ]
  },
  {
   "cell_type": "code",
   "execution_count": 120,
   "id": "4383a750",
   "metadata": {},
   "outputs": [],
   "source": [
    "sm = SMOTE(random_state=100)"
   ]
  },
  {
   "cell_type": "code",
   "execution_count": 121,
   "id": "15446983",
   "metadata": {},
   "outputs": [],
   "source": [
    "x_res,y_res = sm.fit_resample(x,y)"
   ]
  },
  {
   "cell_type": "code",
   "execution_count": 122,
   "id": "21b7473a",
   "metadata": {},
   "outputs": [],
   "source": [
    "from sklearn.ensemble import RandomForestClassifier"
   ]
  },
  {
   "cell_type": "code",
   "execution_count": 123,
   "id": "9fb743ca",
   "metadata": {},
   "outputs": [],
   "source": [
    "xtrain, xtest, ytrain, ytest = train_test_split(x_res, y_res, train_size = 0.8, random_state = 100)"
   ]
  },
  {
   "cell_type": "code",
   "execution_count": 124,
   "id": "392a3135",
   "metadata": {},
   "outputs": [],
   "source": [
    "log_reg = LogisticRegression().fit(xtrain, ytrain)\n",
    "ypred_test_lr = log_reg.predict(xtest)"
   ]
  },
  {
   "cell_type": "code",
   "execution_count": 125,
   "id": "51366bbc",
   "metadata": {},
   "outputs": [
    {
     "name": "stdout",
     "output_type": "stream",
     "text": [
      "              precision    recall  f1-score   support\n",
      "\n",
      "           0       0.65      0.79      0.71    101397\n",
      "           1       0.62      0.68      0.65    101447\n",
      "           2       1.00      0.69      0.82    101231\n",
      "\n",
      "    accuracy                           0.72    304075\n",
      "   macro avg       0.76      0.72      0.73    304075\n",
      "weighted avg       0.76      0.72      0.73    304075\n",
      "\n"
     ]
    }
   ],
   "source": [
    "print(classification_report(ytest, ypred_test_lr))"
   ]
  },
  {
   "cell_type": "markdown",
   "id": "5f1a09b6",
   "metadata": {},
   "source": [
    "After SMOTE imbalance in the datset has reduced significantly. F1 score for class 1(Rejected) has also improved significantly. This is expected as our dataset now has a lot more data points belonging to class 1 making it easier for the model to learn the attributes  that helps the model classify when a data point belongs to class 1."
   ]
  },
  {
   "cell_type": "code",
   "execution_count": 126,
   "id": "69741464",
   "metadata": {},
   "outputs": [],
   "source": [
    "log_reg = LogisticRegression().fit(xtrain, ytrain)\n",
    "ypred_train_lr = log_reg.predict(xtrain)"
   ]
  },
  {
   "cell_type": "code",
   "execution_count": 127,
   "id": "e1090138",
   "metadata": {},
   "outputs": [
    {
     "name": "stdout",
     "output_type": "stream",
     "text": [
      "              precision    recall  f1-score   support\n",
      "\n",
      "           0       0.65      0.79      0.71    405394\n",
      "           1       0.62      0.68      0.65    405344\n",
      "           2       1.00      0.69      0.82    405560\n",
      "\n",
      "    accuracy                           0.72   1216298\n",
      "   macro avg       0.76      0.72      0.73   1216298\n",
      "weighted avg       0.76      0.72      0.73   1216298\n",
      "\n"
     ]
    }
   ],
   "source": [
    "print(classification_report(ytrain, ypred_train_lr))"
   ]
  },
  {
   "cell_type": "markdown",
   "id": "ebaee8df",
   "metadata": {},
   "source": [
    "Since we are trying to reduce the wait time of VISA application process by predicting the outcome, we will look at the precision score. This is because Precision considers False Postives and in our case applications that are falsely classified as rejected greatly increase the waiting time."
   ]
  },
  {
   "cell_type": "markdown",
   "id": "df5f6d07",
   "metadata": {},
   "source": [
    "Comparing the model's Precision score over the train and test data we can see that the scores are the same. From this we can say that the model is not overfitting."
   ]
  },
  {
   "cell_type": "code",
   "execution_count": 128,
   "id": "40d0eec7",
   "metadata": {},
   "outputs": [],
   "source": [
    "from sklearn.ensemble import AdaBoostClassifier"
   ]
  },
  {
   "cell_type": "code",
   "execution_count": 129,
   "id": "9d3005ae",
   "metadata": {},
   "outputs": [],
   "source": [
    "ada = AdaBoostClassifier()\n",
    "model_ada = ada.fit(xtrain,ytrain)\n",
    "ypred_ada_test =  model_ada.predict(xtest)"
   ]
  },
  {
   "cell_type": "code",
   "execution_count": 130,
   "id": "7d77ec3d",
   "metadata": {},
   "outputs": [
    {
     "name": "stdout",
     "output_type": "stream",
     "text": [
      "              precision    recall  f1-score   support\n",
      "\n",
      "           0       0.75      0.89      0.82    101397\n",
      "           1       0.70      0.73      0.72    101447\n",
      "           2       0.99      0.75      0.85    101231\n",
      "\n",
      "    accuracy                           0.79    304075\n",
      "   macro avg       0.81      0.79      0.80    304075\n",
      "weighted avg       0.81      0.79      0.80    304075\n",
      "\n"
     ]
    }
   ],
   "source": [
    "print(classification_report(ytest, ypred_ada_test))"
   ]
  },
  {
   "cell_type": "markdown",
   "id": "0544da0f",
   "metadata": {},
   "source": [
    "The Adaboost model performs slightly better than the logistic regression model as seen above"
   ]
  },
  {
   "cell_type": "code",
   "execution_count": 131,
   "id": "298c3a4d",
   "metadata": {},
   "outputs": [],
   "source": [
    "ada = AdaBoostClassifier()\n",
    "model_ada = ada.fit(xtrain,ytrain)\n",
    "ypred_ada_train =  model_ada.predict(xtrain)"
   ]
  },
  {
   "cell_type": "code",
   "execution_count": 132,
   "id": "e746b005",
   "metadata": {},
   "outputs": [
    {
     "name": "stdout",
     "output_type": "stream",
     "text": [
      "              precision    recall  f1-score   support\n",
      "\n",
      "           0       0.75      0.89      0.82    405394\n",
      "           1       0.70      0.73      0.72    405344\n",
      "           2       0.99      0.75      0.86    405560\n",
      "\n",
      "    accuracy                           0.79   1216298\n",
      "   macro avg       0.81      0.79      0.80   1216298\n",
      "weighted avg       0.81      0.79      0.80   1216298\n",
      "\n"
     ]
    }
   ],
   "source": [
    "print(classification_report(ytrain, ypred_ada_train))"
   ]
  },
  {
   "cell_type": "code",
   "execution_count": 133,
   "id": "30e38a9d",
   "metadata": {},
   "outputs": [],
   "source": [
    "from sklearn.ensemble import GradientBoostingClassifier"
   ]
  },
  {
   "cell_type": "code",
   "execution_count": 134,
   "id": "1c3d82f3",
   "metadata": {},
   "outputs": [],
   "source": [
    "gb = GradientBoostingClassifier()\n",
    "gb_model = gb.fit(xtrain,ytrain)\n",
    "ypred_gb_test = gb_model.predict(xtest)"
   ]
  },
  {
   "cell_type": "code",
   "execution_count": 135,
   "id": "3ef84cd8",
   "metadata": {},
   "outputs": [
    {
     "name": "stdout",
     "output_type": "stream",
     "text": [
      "              precision    recall  f1-score   support\n",
      "\n",
      "           0       0.77      0.88      0.82    101397\n",
      "           1       0.78      0.76      0.77    101447\n",
      "           2       0.99      0.86      0.92    101231\n",
      "\n",
      "    accuracy                           0.84    304075\n",
      "   macro avg       0.84      0.84      0.84    304075\n",
      "weighted avg       0.84      0.84      0.84    304075\n",
      "\n"
     ]
    }
   ],
   "source": [
    "print(classification_report(ytest, ypred_gb_test))"
   ]
  },
  {
   "cell_type": "markdown",
   "id": "e6a0e6d4",
   "metadata": {},
   "source": [
    "With gradient boosting classifier model the Precision score of class 1 and 2 has increased."
   ]
  },
  {
   "cell_type": "code",
   "execution_count": 136,
   "id": "723ac654",
   "metadata": {},
   "outputs": [],
   "source": [
    "gb = GradientBoostingClassifier()\n",
    "gb_model = gb.fit(xtrain,ytrain)\n",
    "ypred_gb_train = gb_model.predict(xtrain)"
   ]
  },
  {
   "cell_type": "code",
   "execution_count": 137,
   "id": "7acb2754",
   "metadata": {},
   "outputs": [
    {
     "name": "stdout",
     "output_type": "stream",
     "text": [
      "              precision    recall  f1-score   support\n",
      "\n",
      "           0       0.77      0.88      0.82    405394\n",
      "           1       0.78      0.76      0.77    405344\n",
      "           2       0.99      0.86      0.92    405560\n",
      "\n",
      "    accuracy                           0.84   1216298\n",
      "   macro avg       0.84      0.84      0.84   1216298\n",
      "weighted avg       0.84      0.84      0.84   1216298\n",
      "\n"
     ]
    }
   ],
   "source": [
    "print(classification_report(ytrain, ypred_gb_train))"
   ]
  },
  {
   "cell_type": "code",
   "execution_count": 138,
   "id": "31360016",
   "metadata": {},
   "outputs": [],
   "source": [
    "from xgboost import XGBClassifier"
   ]
  },
  {
   "cell_type": "code",
   "execution_count": 139,
   "id": "b3d19742",
   "metadata": {},
   "outputs": [],
   "source": [
    "xg = XGBClassifier()\n",
    "xg_model = xg.fit(xtrain,ytrain)\n",
    "ypred_xg_test = xg_model.predict(xtest) "
   ]
  },
  {
   "cell_type": "code",
   "execution_count": 140,
   "id": "e58f3033",
   "metadata": {},
   "outputs": [
    {
     "name": "stdout",
     "output_type": "stream",
     "text": [
      "              precision    recall  f1-score   support\n",
      "\n",
      "           0       0.80      0.92      0.86    101397\n",
      "           1       0.83      0.80      0.81    101447\n",
      "           2       0.99      0.88      0.93    101231\n",
      "\n",
      "    accuracy                           0.87    304075\n",
      "   macro avg       0.87      0.87      0.87    304075\n",
      "weighted avg       0.87      0.87      0.87    304075\n",
      "\n"
     ]
    }
   ],
   "source": [
    "print(classification_report(ytest, ypred_xg_test))"
   ]
  },
  {
   "cell_type": "markdown",
   "id": "c49a1b69",
   "metadata": {},
   "source": [
    "With Xgboost classifier the recall score has increased for all the classes"
   ]
  },
  {
   "cell_type": "code",
   "execution_count": 141,
   "id": "a8c08895",
   "metadata": {},
   "outputs": [],
   "source": [
    "xg = XGBClassifier()\n",
    "xg_model = xg.fit(xtrain,ytrain)\n",
    "ypred_xg_train = xg_model.predict(xtrain) "
   ]
  },
  {
   "cell_type": "code",
   "execution_count": 142,
   "id": "4fce0d8a",
   "metadata": {},
   "outputs": [
    {
     "name": "stdout",
     "output_type": "stream",
     "text": [
      "              precision    recall  f1-score   support\n",
      "\n",
      "           0       0.80      0.92      0.86    405394\n",
      "           1       0.83      0.80      0.82    405344\n",
      "           2       0.99      0.88      0.93    405560\n",
      "\n",
      "    accuracy                           0.87   1216298\n",
      "   macro avg       0.87      0.87      0.87   1216298\n",
      "weighted avg       0.87      0.87      0.87   1216298\n",
      "\n"
     ]
    }
   ],
   "source": [
    "print(classification_report(ytrain, ypred_xg_train))"
   ]
  },
  {
   "cell_type": "code",
   "execution_count": 143,
   "id": "ee97e42d",
   "metadata": {},
   "outputs": [],
   "source": [
    "from sklearn.tree import DecisionTreeClassifier"
   ]
  },
  {
   "cell_type": "code",
   "execution_count": 144,
   "id": "9213b90a",
   "metadata": {},
   "outputs": [],
   "source": [
    "dt = DecisionTreeClassifier()\n",
    "model_dt = dt.fit(xtrain,ytrain)\n",
    "ypred_dt_test = model_dt.predict(xtest)"
   ]
  },
  {
   "cell_type": "code",
   "execution_count": 145,
   "id": "61deceb9",
   "metadata": {},
   "outputs": [
    {
     "name": "stdout",
     "output_type": "stream",
     "text": [
      "              precision    recall  f1-score   support\n",
      "\n",
      "           0       0.90      0.92      0.91    101397\n",
      "           1       0.91      0.90      0.90    101447\n",
      "           2       0.95      0.95      0.95    101231\n",
      "\n",
      "    accuracy                           0.92    304075\n",
      "   macro avg       0.92      0.92      0.92    304075\n",
      "weighted avg       0.92      0.92      0.92    304075\n",
      "\n"
     ]
    }
   ],
   "source": [
    "print(classification_report(ytest, ypred_dt_test))"
   ]
  },
  {
   "cell_type": "markdown",
   "id": "8eda41f5",
   "metadata": {},
   "source": [
    "Precision score has greatly increased for class 1 when using Decision tree classifier"
   ]
  },
  {
   "cell_type": "code",
   "execution_count": 146,
   "id": "95171941",
   "metadata": {},
   "outputs": [],
   "source": [
    "dt = DecisionTreeClassifier()\n",
    "model_dt = dt.fit(xtrain,ytrain)\n",
    "ypred_dt_train = model_dt.predict(xtrain)"
   ]
  },
  {
   "cell_type": "code",
   "execution_count": 147,
   "id": "dab87428",
   "metadata": {},
   "outputs": [
    {
     "name": "stdout",
     "output_type": "stream",
     "text": [
      "              precision    recall  f1-score   support\n",
      "\n",
      "           0       0.99      1.00      1.00    405394\n",
      "           1       1.00      1.00      1.00    405344\n",
      "           2       1.00      1.00      1.00    405560\n",
      "\n",
      "    accuracy                           1.00   1216298\n",
      "   macro avg       1.00      1.00      1.00   1216298\n",
      "weighted avg       1.00      1.00      1.00   1216298\n",
      "\n"
     ]
    }
   ],
   "source": [
    "print(classification_report(ytrain, ypred_dt_train))"
   ]
  },
  {
   "cell_type": "code",
   "execution_count": 148,
   "id": "35abbd3b",
   "metadata": {},
   "outputs": [],
   "source": [
    "from sklearn.ensemble import RandomForestClassifier"
   ]
  },
  {
   "cell_type": "code",
   "execution_count": 149,
   "id": "fd1bee3e",
   "metadata": {},
   "outputs": [],
   "source": [
    "rf = RandomForestClassifier()\n",
    "model_rf = rf.fit(xtrain,ytrain)\n",
    "ypred_rf_test = model_rf.predict(xtest)"
   ]
  },
  {
   "cell_type": "code",
   "execution_count": 150,
   "id": "53d89d44",
   "metadata": {},
   "outputs": [
    {
     "name": "stdout",
     "output_type": "stream",
     "text": [
      "              precision    recall  f1-score   support\n",
      "\n",
      "           0       0.91      0.94      0.92    101397\n",
      "           1       0.92      0.93      0.92    101447\n",
      "           2       0.98      0.94      0.96    101231\n",
      "\n",
      "    accuracy                           0.93    304075\n",
      "   macro avg       0.94      0.93      0.94    304075\n",
      "weighted avg       0.94      0.93      0.94    304075\n",
      "\n"
     ]
    }
   ],
   "source": [
    "print(classification_report(ytest, ypred_rf_test))"
   ]
  },
  {
   "cell_type": "markdown",
   "id": "8a03eb46",
   "metadata": {},
   "source": [
    "There was a slight improvement in the scores and this is the best performing model compared to the others."
   ]
  },
  {
   "cell_type": "code",
   "execution_count": 151,
   "id": "29017b56",
   "metadata": {},
   "outputs": [],
   "source": [
    "rf = RandomForestClassifier()\n",
    "model_rf = rf.fit(xtrain,ytrain)\n",
    "ypred_rf_train = model_rf.predict(xtrain)"
   ]
  },
  {
   "cell_type": "code",
   "execution_count": 152,
   "id": "07af41ad",
   "metadata": {},
   "outputs": [
    {
     "name": "stdout",
     "output_type": "stream",
     "text": [
      "              precision    recall  f1-score   support\n",
      "\n",
      "           0       1.00      1.00      1.00    405394\n",
      "           1       1.00      1.00      1.00    405344\n",
      "           2       1.00      1.00      1.00    405560\n",
      "\n",
      "    accuracy                           1.00   1216298\n",
      "   macro avg       1.00      1.00      1.00   1216298\n",
      "weighted avg       1.00      1.00      1.00   1216298\n",
      "\n"
     ]
    }
   ],
   "source": [
    "print(classification_report(ytrain, ypred_rf_train))"
   ]
  },
  {
   "cell_type": "markdown",
   "id": "0dd1d4ea",
   "metadata": {},
   "source": [
    "### Hyperparameter tuning"
   ]
  },
  {
   "cell_type": "code",
   "execution_count": 153,
   "id": "d6061d20",
   "metadata": {},
   "outputs": [],
   "source": [
    "from sklearn.model_selection import RandomizedSearchCV"
   ]
  },
  {
   "cell_type": "code",
   "execution_count": 154,
   "id": "61c1e23b",
   "metadata": {},
   "outputs": [],
   "source": [
    "from scipy.stats import randint\n",
    "params = {\"n_estimators\": randint(100, 300),\n",
    "          \"max_depth\": randint(5,15),\n",
    "          \"min_samples_split\": randint(2,10),\n",
    "          \"min_samples_leaf\": randint(1,5),\n",
    "          \"max_features\": [\"sqrt\",\"log2\"]}"
   ]
  },
  {
   "cell_type": "code",
   "execution_count": 155,
   "id": "d29fbf13",
   "metadata": {},
   "outputs": [],
   "source": [
    "rs = RandomizedSearchCV(estimator=rf,param_distributions=params,n_jobs=-1,cv=5)"
   ]
  },
  {
   "cell_type": "code",
   "execution_count": 156,
   "id": "2da608a7",
   "metadata": {},
   "outputs": [
    {
     "data": {
      "text/html": [
       "<style>#sk-container-id-1 {color: black;background-color: white;}#sk-container-id-1 pre{padding: 0;}#sk-container-id-1 div.sk-toggleable {background-color: white;}#sk-container-id-1 label.sk-toggleable__label {cursor: pointer;display: block;width: 100%;margin-bottom: 0;padding: 0.3em;box-sizing: border-box;text-align: center;}#sk-container-id-1 label.sk-toggleable__label-arrow:before {content: \"▸\";float: left;margin-right: 0.25em;color: #696969;}#sk-container-id-1 label.sk-toggleable__label-arrow:hover:before {color: black;}#sk-container-id-1 div.sk-estimator:hover label.sk-toggleable__label-arrow:before {color: black;}#sk-container-id-1 div.sk-toggleable__content {max-height: 0;max-width: 0;overflow: hidden;text-align: left;background-color: #f0f8ff;}#sk-container-id-1 div.sk-toggleable__content pre {margin: 0.2em;color: black;border-radius: 0.25em;background-color: #f0f8ff;}#sk-container-id-1 input.sk-toggleable__control:checked~div.sk-toggleable__content {max-height: 200px;max-width: 100%;overflow: auto;}#sk-container-id-1 input.sk-toggleable__control:checked~label.sk-toggleable__label-arrow:before {content: \"▾\";}#sk-container-id-1 div.sk-estimator input.sk-toggleable__control:checked~label.sk-toggleable__label {background-color: #d4ebff;}#sk-container-id-1 div.sk-label input.sk-toggleable__control:checked~label.sk-toggleable__label {background-color: #d4ebff;}#sk-container-id-1 input.sk-hidden--visually {border: 0;clip: rect(1px 1px 1px 1px);clip: rect(1px, 1px, 1px, 1px);height: 1px;margin: -1px;overflow: hidden;padding: 0;position: absolute;width: 1px;}#sk-container-id-1 div.sk-estimator {font-family: monospace;background-color: #f0f8ff;border: 1px dotted black;border-radius: 0.25em;box-sizing: border-box;margin-bottom: 0.5em;}#sk-container-id-1 div.sk-estimator:hover {background-color: #d4ebff;}#sk-container-id-1 div.sk-parallel-item::after {content: \"\";width: 100%;border-bottom: 1px solid gray;flex-grow: 1;}#sk-container-id-1 div.sk-label:hover label.sk-toggleable__label {background-color: #d4ebff;}#sk-container-id-1 div.sk-serial::before {content: \"\";position: absolute;border-left: 1px solid gray;box-sizing: border-box;top: 0;bottom: 0;left: 50%;z-index: 0;}#sk-container-id-1 div.sk-serial {display: flex;flex-direction: column;align-items: center;background-color: white;padding-right: 0.2em;padding-left: 0.2em;position: relative;}#sk-container-id-1 div.sk-item {position: relative;z-index: 1;}#sk-container-id-1 div.sk-parallel {display: flex;align-items: stretch;justify-content: center;background-color: white;position: relative;}#sk-container-id-1 div.sk-item::before, #sk-container-id-1 div.sk-parallel-item::before {content: \"\";position: absolute;border-left: 1px solid gray;box-sizing: border-box;top: 0;bottom: 0;left: 50%;z-index: -1;}#sk-container-id-1 div.sk-parallel-item {display: flex;flex-direction: column;z-index: 1;position: relative;background-color: white;}#sk-container-id-1 div.sk-parallel-item:first-child::after {align-self: flex-end;width: 50%;}#sk-container-id-1 div.sk-parallel-item:last-child::after {align-self: flex-start;width: 50%;}#sk-container-id-1 div.sk-parallel-item:only-child::after {width: 0;}#sk-container-id-1 div.sk-dashed-wrapped {border: 1px dashed gray;margin: 0 0.4em 0.5em 0.4em;box-sizing: border-box;padding-bottom: 0.4em;background-color: white;}#sk-container-id-1 div.sk-label label {font-family: monospace;font-weight: bold;display: inline-block;line-height: 1.2em;}#sk-container-id-1 div.sk-label-container {text-align: center;}#sk-container-id-1 div.sk-container {/* jupyter's `normalize.less` sets `[hidden] { display: none; }` but bootstrap.min.css set `[hidden] { display: none !important; }` so we also need the `!important` here to be able to override the default hidden behavior on the sphinx rendered scikit-learn.org. See: https://github.com/scikit-learn/scikit-learn/issues/21755 */display: inline-block !important;position: relative;}#sk-container-id-1 div.sk-text-repr-fallback {display: none;}</style><div id=\"sk-container-id-1\" class=\"sk-top-container\"><div class=\"sk-text-repr-fallback\"><pre>RandomizedSearchCV(cv=5, estimator=RandomForestClassifier(), n_jobs=-1,\n",
       "                   param_distributions={&#x27;max_depth&#x27;: &lt;scipy.stats._distn_infrastructure.rv_frozen object at 0x000001CC485EFA00&gt;,\n",
       "                                        &#x27;max_features&#x27;: [&#x27;sqrt&#x27;, &#x27;log2&#x27;],\n",
       "                                        &#x27;min_samples_leaf&#x27;: &lt;scipy.stats._distn_infrastructure.rv_frozen object at 0x000001CC485EF550&gt;,\n",
       "                                        &#x27;min_samples_split&#x27;: &lt;scipy.stats._distn_infrastructure.rv_frozen object at 0x000001CC485F41F0&gt;,\n",
       "                                        &#x27;n_estimators&#x27;: &lt;scipy.stats._distn_infrastructure.rv_frozen object at 0x000001CC485F4C40&gt;})</pre><b>In a Jupyter environment, please rerun this cell to show the HTML representation or trust the notebook. <br />On GitHub, the HTML representation is unable to render, please try loading this page with nbviewer.org.</b></div><div class=\"sk-container\" hidden><div class=\"sk-item sk-dashed-wrapped\"><div class=\"sk-label-container\"><div class=\"sk-label sk-toggleable\"><input class=\"sk-toggleable__control sk-hidden--visually\" id=\"sk-estimator-id-1\" type=\"checkbox\" ><label for=\"sk-estimator-id-1\" class=\"sk-toggleable__label sk-toggleable__label-arrow\">RandomizedSearchCV</label><div class=\"sk-toggleable__content\"><pre>RandomizedSearchCV(cv=5, estimator=RandomForestClassifier(), n_jobs=-1,\n",
       "                   param_distributions={&#x27;max_depth&#x27;: &lt;scipy.stats._distn_infrastructure.rv_frozen object at 0x000001CC485EFA00&gt;,\n",
       "                                        &#x27;max_features&#x27;: [&#x27;sqrt&#x27;, &#x27;log2&#x27;],\n",
       "                                        &#x27;min_samples_leaf&#x27;: &lt;scipy.stats._distn_infrastructure.rv_frozen object at 0x000001CC485EF550&gt;,\n",
       "                                        &#x27;min_samples_split&#x27;: &lt;scipy.stats._distn_infrastructure.rv_frozen object at 0x000001CC485F41F0&gt;,\n",
       "                                        &#x27;n_estimators&#x27;: &lt;scipy.stats._distn_infrastructure.rv_frozen object at 0x000001CC485F4C40&gt;})</pre></div></div></div><div class=\"sk-parallel\"><div class=\"sk-parallel-item\"><div class=\"sk-item\"><div class=\"sk-label-container\"><div class=\"sk-label sk-toggleable\"><input class=\"sk-toggleable__control sk-hidden--visually\" id=\"sk-estimator-id-2\" type=\"checkbox\" ><label for=\"sk-estimator-id-2\" class=\"sk-toggleable__label sk-toggleable__label-arrow\">estimator: RandomForestClassifier</label><div class=\"sk-toggleable__content\"><pre>RandomForestClassifier()</pre></div></div></div><div class=\"sk-serial\"><div class=\"sk-item\"><div class=\"sk-estimator sk-toggleable\"><input class=\"sk-toggleable__control sk-hidden--visually\" id=\"sk-estimator-id-3\" type=\"checkbox\" ><label for=\"sk-estimator-id-3\" class=\"sk-toggleable__label sk-toggleable__label-arrow\">RandomForestClassifier</label><div class=\"sk-toggleable__content\"><pre>RandomForestClassifier()</pre></div></div></div></div></div></div></div></div></div></div>"
      ],
      "text/plain": [
       "RandomizedSearchCV(cv=5, estimator=RandomForestClassifier(), n_jobs=-1,\n",
       "                   param_distributions={'max_depth': <scipy.stats._distn_infrastructure.rv_frozen object at 0x000001CC485EFA00>,\n",
       "                                        'max_features': ['sqrt', 'log2'],\n",
       "                                        'min_samples_leaf': <scipy.stats._distn_infrastructure.rv_frozen object at 0x000001CC485EF550>,\n",
       "                                        'min_samples_split': <scipy.stats._distn_infrastructure.rv_frozen object at 0x000001CC485F41F0>,\n",
       "                                        'n_estimators': <scipy.stats._distn_infrastructure.rv_frozen object at 0x000001CC485F4C40>})"
      ]
     },
     "execution_count": 156,
     "metadata": {},
     "output_type": "execute_result"
    }
   ],
   "source": [
    "rs.fit(xtrain,ytrain)"
   ]
  },
  {
   "cell_type": "code",
   "execution_count": 157,
   "id": "71e30a4d",
   "metadata": {},
   "outputs": [
    {
     "data": {
      "text/plain": [
       "{'max_depth': 14,\n",
       " 'max_features': 'log2',\n",
       " 'min_samples_leaf': 3,\n",
       " 'min_samples_split': 7,\n",
       " 'n_estimators': 128}"
      ]
     },
     "execution_count": 157,
     "metadata": {},
     "output_type": "execute_result"
    }
   ],
   "source": [
    "rs.best_params_"
   ]
  },
  {
   "cell_type": "code",
   "execution_count": 158,
   "id": "f7997a64",
   "metadata": {},
   "outputs": [],
   "source": [
    "rf = RandomForestClassifier(max_depth= 14,max_features= 'log2',min_samples_leaf= 3,min_samples_split= 3,n_estimators= 135)\n",
    "model_rf_final = rf.fit(xtrain,ytrain)\n",
    "ypred_rf_final = model_rf_final.predict(xtest)"
   ]
  },
  {
   "cell_type": "code",
   "execution_count": 159,
   "id": "b34e1b87",
   "metadata": {},
   "outputs": [
    {
     "name": "stdout",
     "output_type": "stream",
     "text": [
      "              precision    recall  f1-score   support\n",
      "\n",
      "           0       0.80      0.90      0.84    101397\n",
      "           1       0.81      0.81      0.81    101447\n",
      "           2       1.00      0.87      0.93    101231\n",
      "\n",
      "    accuracy                           0.86    304075\n",
      "   macro avg       0.87      0.86      0.86    304075\n",
      "weighted avg       0.87      0.86      0.86    304075\n",
      "\n"
     ]
    }
   ],
   "source": [
    "print(classification_report(ytest, ypred_rf_final))"
   ]
  },
  {
   "cell_type": "code",
   "execution_count": 169,
   "id": "cade1c01",
   "metadata": {},
   "outputs": [],
   "source": [
    "ypred_rf_final_train = model_rf_final.predict(xtrain)"
   ]
  },
  {
   "cell_type": "code",
   "execution_count": 170,
   "id": "42bf3cec",
   "metadata": {},
   "outputs": [
    {
     "name": "stdout",
     "output_type": "stream",
     "text": [
      "              precision    recall  f1-score   support\n",
      "\n",
      "           0       0.80      0.90      0.85    405394\n",
      "           1       0.81      0.81      0.81    405344\n",
      "           2       1.00      0.88      0.93    405560\n",
      "\n",
      "    accuracy                           0.86   1216298\n",
      "   macro avg       0.87      0.86      0.86   1216298\n",
      "weighted avg       0.87      0.86      0.86   1216298\n",
      "\n"
     ]
    }
   ],
   "source": [
    "print(classification_report(ytrain, ypred_rf_final_train))"
   ]
  },
  {
   "cell_type": "code",
   "execution_count": 160,
   "id": "3903cea7",
   "metadata": {},
   "outputs": [],
   "source": [
    "from sklearn.metrics import roc_curve\n",
    "from sklearn.metrics import auc"
   ]
  },
  {
   "cell_type": "code",
   "execution_count": 161,
   "id": "2d36d3b0",
   "metadata": {},
   "outputs": [],
   "source": [
    "from yellowbrick.classifier import ROCAUC"
   ]
  },
  {
   "cell_type": "code",
   "execution_count": 162,
   "id": "0dc2a69f",
   "metadata": {},
   "outputs": [],
   "source": [
    "def plot_ROC_curve(model, xtrain, ytrain, xtest, ytest):\n",
    "\n",
    "    # Creating visualization with the readable labels\n",
    "    visualizer = ROCAUC(model, encoder={0: 'Approved', \n",
    "                                        1: 'Rejected', \n",
    "                                        2: 'Withdrawn'})\n",
    "                                        \n",
    "    # Fitting to the training data first then scoring with the test data                                    \n",
    "    visualizer.fit(xtrain, ytrain)\n",
    "    visualizer.score(xtest, ytest)\n",
    "    visualizer.show()\n",
    "    \n",
    "    return visualizer"
   ]
  },
  {
   "cell_type": "code",
   "execution_count": 163,
   "id": "e12aebba",
   "metadata": {},
   "outputs": [
    {
     "data": {
      "image/png": "[encoded data removed]",
      "text/plain": [
       "<Figure size 576x396 with 1 Axes>"
      ]
     },
     "metadata": {},
     "output_type": "display_data"
    },
    {
     "data": {
      "text/html": [
       "<style>#sk-container-id-2 {color: black;background-color: white;}#sk-container-id-2 pre{padding: 0;}#sk-container-id-2 div.sk-toggleable {background-color: white;}#sk-container-id-2 label.sk-toggleable__label {cursor: pointer;display: block;width: 100%;margin-bottom: 0;padding: 0.3em;box-sizing: border-box;text-align: center;}#sk-container-id-2 label.sk-toggleable__label-arrow:before {content: \"▸\";float: left;margin-right: 0.25em;color: #696969;}#sk-container-id-2 label.sk-toggleable__label-arrow:hover:before {color: black;}#sk-container-id-2 div.sk-estimator:hover label.sk-toggleable__label-arrow:before {color: black;}#sk-container-id-2 div.sk-toggleable__content {max-height: 0;max-width: 0;overflow: hidden;text-align: left;background-color: #f0f8ff;}#sk-container-id-2 div.sk-toggleable__content pre {margin: 0.2em;color: black;border-radius: 0.25em;background-color: #f0f8ff;}#sk-container-id-2 input.sk-toggleable__control:checked~div.sk-toggleable__content {max-height: 200px;max-width: 100%;overflow: auto;}#sk-container-id-2 input.sk-toggleable__control:checked~label.sk-toggleable__label-arrow:before {content: \"▾\";}#sk-container-id-2 div.sk-estimator input.sk-toggleable__control:checked~label.sk-toggleable__label {background-color: #d4ebff;}#sk-container-id-2 div.sk-label input.sk-toggleable__control:checked~label.sk-toggleable__label {background-color: #d4ebff;}#sk-container-id-2 input.sk-hidden--visually {border: 0;clip: rect(1px 1px 1px 1px);clip: rect(1px, 1px, 1px, 1px);height: 1px;margin: -1px;overflow: hidden;padding: 0;position: absolute;width: 1px;}#sk-container-id-2 div.sk-estimator {font-family: monospace;background-color: #f0f8ff;border: 1px dotted black;border-radius: 0.25em;box-sizing: border-box;margin-bottom: 0.5em;}#sk-container-id-2 div.sk-estimator:hover {background-color: #d4ebff;}#sk-container-id-2 div.sk-parallel-item::after {content: \"\";width: 100%;border-bottom: 1px solid gray;flex-grow: 1;}#sk-container-id-2 div.sk-label:hover label.sk-toggleable__label {background-color: #d4ebff;}#sk-container-id-2 div.sk-serial::before {content: \"\";position: absolute;border-left: 1px solid gray;box-sizing: border-box;top: 0;bottom: 0;left: 50%;z-index: 0;}#sk-container-id-2 div.sk-serial {display: flex;flex-direction: column;align-items: center;background-color: white;padding-right: 0.2em;padding-left: 0.2em;position: relative;}#sk-container-id-2 div.sk-item {position: relative;z-index: 1;}#sk-container-id-2 div.sk-parallel {display: flex;align-items: stretch;justify-content: center;background-color: white;position: relative;}#sk-container-id-2 div.sk-item::before, #sk-container-id-2 div.sk-parallel-item::before {content: \"\";position: absolute;border-left: 1px solid gray;box-sizing: border-box;top: 0;bottom: 0;left: 50%;z-index: -1;}#sk-container-id-2 div.sk-parallel-item {display: flex;flex-direction: column;z-index: 1;position: relative;background-color: white;}#sk-container-id-2 div.sk-parallel-item:first-child::after {align-self: flex-end;width: 50%;}#sk-container-id-2 div.sk-parallel-item:last-child::after {align-self: flex-start;width: 50%;}#sk-container-id-2 div.sk-parallel-item:only-child::after {width: 0;}#sk-container-id-2 div.sk-dashed-wrapped {border: 1px dashed gray;margin: 0 0.4em 0.5em 0.4em;box-sizing: border-box;padding-bottom: 0.4em;background-color: white;}#sk-container-id-2 div.sk-label label {font-family: monospace;font-weight: bold;display: inline-block;line-height: 1.2em;}#sk-container-id-2 div.sk-label-container {text-align: center;}#sk-container-id-2 div.sk-container {/* jupyter's `normalize.less` sets `[hidden] { display: none; }` but bootstrap.min.css set `[hidden] { display: none !important; }` so we also need the `!important` here to be able to override the default hidden behavior on the sphinx rendered scikit-learn.org. See: https://github.com/scikit-learn/scikit-learn/issues/21755 */display: inline-block !important;position: relative;}#sk-container-id-2 div.sk-text-repr-fallback {display: none;}</style><div id=\"sk-container-id-2\" class=\"sk-top-container\"><div class=\"sk-text-repr-fallback\"><pre>ROCAUC(ax=&lt;AxesSubplot:title={&#x27;center&#x27;:&#x27;ROC Curves for RandomForestClassifier&#x27;}, xlabel=&#x27;False Positive Rate&#x27;, ylabel=&#x27;True Positive Rate&#x27;&gt;,\n",
       "       encoder={0: &#x27;Approved&#x27;, 1: &#x27;Rejected&#x27;, 2: &#x27;Withdrawn&#x27;},\n",
       "       estimator=RandomForestClassifier())</pre><b>In a Jupyter environment, please rerun this cell to show the HTML representation or trust the notebook. <br />On GitHub, the HTML representation is unable to render, please try loading this page with nbviewer.org.</b></div><div class=\"sk-container\" hidden><div class=\"sk-item sk-dashed-wrapped\"><div class=\"sk-label-container\"><div class=\"sk-label sk-toggleable\"><input class=\"sk-toggleable__control sk-hidden--visually\" id=\"sk-estimator-id-4\" type=\"checkbox\" ><label for=\"sk-estimator-id-4\" class=\"sk-toggleable__label sk-toggleable__label-arrow\">ROCAUC</label><div class=\"sk-toggleable__content\"><pre>ROCAUC(ax=&lt;AxesSubplot:title={&#x27;center&#x27;:&#x27;ROC Curves for RandomForestClassifier&#x27;}, xlabel=&#x27;False Positive Rate&#x27;, ylabel=&#x27;True Positive Rate&#x27;&gt;,\n",
       "       encoder={0: &#x27;Approved&#x27;, 1: &#x27;Rejected&#x27;, 2: &#x27;Withdrawn&#x27;},\n",
       "       estimator=RandomForestClassifier())</pre></div></div></div><div class=\"sk-parallel\"><div class=\"sk-parallel-item\"><div class=\"sk-item\"><div class=\"sk-label-container\"><div class=\"sk-label sk-toggleable\"><input class=\"sk-toggleable__control sk-hidden--visually\" id=\"sk-estimator-id-5\" type=\"checkbox\" ><label for=\"sk-estimator-id-5\" class=\"sk-toggleable__label sk-toggleable__label-arrow\">estimator: RandomForestClassifier</label><div class=\"sk-toggleable__content\"><pre>RandomForestClassifier()</pre></div></div></div><div class=\"sk-serial\"><div class=\"sk-item\"><div class=\"sk-estimator sk-toggleable\"><input class=\"sk-toggleable__control sk-hidden--visually\" id=\"sk-estimator-id-6\" type=\"checkbox\" ><label for=\"sk-estimator-id-6\" class=\"sk-toggleable__label sk-toggleable__label-arrow\">RandomForestClassifier</label><div class=\"sk-toggleable__content\"><pre>RandomForestClassifier()</pre></div></div></div></div></div></div></div></div></div></div>"
      ],
      "text/plain": [
       "ROCAUC(ax=<AxesSubplot:title={'center':'ROC Curves for RandomForestClassifier'}, xlabel='False Positive Rate', ylabel='True Positive Rate'>,\n",
       "       encoder={0: 'Approved', 1: 'Rejected', 2: 'Withdrawn'},\n",
       "       estimator=RandomForestClassifier())"
      ]
     },
     "execution_count": 163,
     "metadata": {},
     "output_type": "execute_result"
    }
   ],
   "source": [
    "#Random forest\n",
    "plot_ROC_curve(model_rf,xtrain,ytrain,xtest,ytest)"
   ]
  },
  {
   "cell_type": "code",
   "execution_count": 164,
   "id": "b0ba56de",
   "metadata": {},
   "outputs": [
    {
     "data": {
      "image/png": "[encoded data removed]",
      "text/plain": [
       "<Figure size 576x396 with 1 Axes>"
      ]
     },
     "metadata": {},
     "output_type": "display_data"
    },
    {
     "data": {
      "text/html": [
       "<style>#sk-container-id-3 {color: black;background-color: white;}#sk-container-id-3 pre{padding: 0;}#sk-container-id-3 div.sk-toggleable {background-color: white;}#sk-container-id-3 label.sk-toggleable__label {cursor: pointer;display: block;width: 100%;margin-bottom: 0;padding: 0.3em;box-sizing: border-box;text-align: center;}#sk-container-id-3 label.sk-toggleable__label-arrow:before {content: \"▸\";float: left;margin-right: 0.25em;color: #696969;}#sk-container-id-3 label.sk-toggleable__label-arrow:hover:before {color: black;}#sk-container-id-3 div.sk-estimator:hover label.sk-toggleable__label-arrow:before {color: black;}#sk-container-id-3 div.sk-toggleable__content {max-height: 0;max-width: 0;overflow: hidden;text-align: left;background-color: #f0f8ff;}#sk-container-id-3 div.sk-toggleable__content pre {margin: 0.2em;color: black;border-radius: 0.25em;background-color: #f0f8ff;}#sk-container-id-3 input.sk-toggleable__control:checked~div.sk-toggleable__content {max-height: 200px;max-width: 100%;overflow: auto;}#sk-container-id-3 input.sk-toggleable__control:checked~label.sk-toggleable__label-arrow:before {content: \"▾\";}#sk-container-id-3 div.sk-estimator input.sk-toggleable__control:checked~label.sk-toggleable__label {background-color: #d4ebff;}#sk-container-id-3 div.sk-label input.sk-toggleable__control:checked~label.sk-toggleable__label {background-color: #d4ebff;}#sk-container-id-3 input.sk-hidden--visually {border: 0;clip: rect(1px 1px 1px 1px);clip: rect(1px, 1px, 1px, 1px);height: 1px;margin: -1px;overflow: hidden;padding: 0;position: absolute;width: 1px;}#sk-container-id-3 div.sk-estimator {font-family: monospace;background-color: #f0f8ff;border: 1px dotted black;border-radius: 0.25em;box-sizing: border-box;margin-bottom: 0.5em;}#sk-container-id-3 div.sk-estimator:hover {background-color: #d4ebff;}#sk-container-id-3 div.sk-parallel-item::after {content: \"\";width: 100%;border-bottom: 1px solid gray;flex-grow: 1;}#sk-container-id-3 div.sk-label:hover label.sk-toggleable__label {background-color: #d4ebff;}#sk-container-id-3 div.sk-serial::before {content: \"\";position: absolute;border-left: 1px solid gray;box-sizing: border-box;top: 0;bottom: 0;left: 50%;z-index: 0;}#sk-container-id-3 div.sk-serial {display: flex;flex-direction: column;align-items: center;background-color: white;padding-right: 0.2em;padding-left: 0.2em;position: relative;}#sk-container-id-3 div.sk-item {position: relative;z-index: 1;}#sk-container-id-3 div.sk-parallel {display: flex;align-items: stretch;justify-content: center;background-color: white;position: relative;}#sk-container-id-3 div.sk-item::before, #sk-container-id-3 div.sk-parallel-item::before {content: \"\";position: absolute;border-left: 1px solid gray;box-sizing: border-box;top: 0;bottom: 0;left: 50%;z-index: -1;}#sk-container-id-3 div.sk-parallel-item {display: flex;flex-direction: column;z-index: 1;position: relative;background-color: white;}#sk-container-id-3 div.sk-parallel-item:first-child::after {align-self: flex-end;width: 50%;}#sk-container-id-3 div.sk-parallel-item:last-child::after {align-self: flex-start;width: 50%;}#sk-container-id-3 div.sk-parallel-item:only-child::after {width: 0;}#sk-container-id-3 div.sk-dashed-wrapped {border: 1px dashed gray;margin: 0 0.4em 0.5em 0.4em;box-sizing: border-box;padding-bottom: 0.4em;background-color: white;}#sk-container-id-3 div.sk-label label {font-family: monospace;font-weight: bold;display: inline-block;line-height: 1.2em;}#sk-container-id-3 div.sk-label-container {text-align: center;}#sk-container-id-3 div.sk-container {/* jupyter's `normalize.less` sets `[hidden] { display: none; }` but bootstrap.min.css set `[hidden] { display: none !important; }` so we also need the `!important` here to be able to override the default hidden behavior on the sphinx rendered scikit-learn.org. See: https://github.com/scikit-learn/scikit-learn/issues/21755 */display: inline-block !important;position: relative;}#sk-container-id-3 div.sk-text-repr-fallback {display: none;}</style><div id=\"sk-container-id-3\" class=\"sk-top-container\"><div class=\"sk-text-repr-fallback\"><pre>ROCAUC(ax=&lt;AxesSubplot:title={&#x27;center&#x27;:&#x27;ROC Curves for DecisionTreeClassifier&#x27;}, xlabel=&#x27;False Positive Rate&#x27;, ylabel=&#x27;True Positive Rate&#x27;&gt;,\n",
       "       encoder={0: &#x27;Approved&#x27;, 1: &#x27;Rejected&#x27;, 2: &#x27;Withdrawn&#x27;},\n",
       "       estimator=DecisionTreeClassifier())</pre><b>In a Jupyter environment, please rerun this cell to show the HTML representation or trust the notebook. <br />On GitHub, the HTML representation is unable to render, please try loading this page with nbviewer.org.</b></div><div class=\"sk-container\" hidden><div class=\"sk-item sk-dashed-wrapped\"><div class=\"sk-label-container\"><div class=\"sk-label sk-toggleable\"><input class=\"sk-toggleable__control sk-hidden--visually\" id=\"sk-estimator-id-7\" type=\"checkbox\" ><label for=\"sk-estimator-id-7\" class=\"sk-toggleable__label sk-toggleable__label-arrow\">ROCAUC</label><div class=\"sk-toggleable__content\"><pre>ROCAUC(ax=&lt;AxesSubplot:title={&#x27;center&#x27;:&#x27;ROC Curves for DecisionTreeClassifier&#x27;}, xlabel=&#x27;False Positive Rate&#x27;, ylabel=&#x27;True Positive Rate&#x27;&gt;,\n",
       "       encoder={0: &#x27;Approved&#x27;, 1: &#x27;Rejected&#x27;, 2: &#x27;Withdrawn&#x27;},\n",
       "       estimator=DecisionTreeClassifier())</pre></div></div></div><div class=\"sk-parallel\"><div class=\"sk-parallel-item\"><div class=\"sk-item\"><div class=\"sk-label-container\"><div class=\"sk-label sk-toggleable\"><input class=\"sk-toggleable__control sk-hidden--visually\" id=\"sk-estimator-id-8\" type=\"checkbox\" ><label for=\"sk-estimator-id-8\" class=\"sk-toggleable__label sk-toggleable__label-arrow\">estimator: DecisionTreeClassifier</label><div class=\"sk-toggleable__content\"><pre>DecisionTreeClassifier()</pre></div></div></div><div class=\"sk-serial\"><div class=\"sk-item\"><div class=\"sk-estimator sk-toggleable\"><input class=\"sk-toggleable__control sk-hidden--visually\" id=\"sk-estimator-id-9\" type=\"checkbox\" ><label for=\"sk-estimator-id-9\" class=\"sk-toggleable__label sk-toggleable__label-arrow\">DecisionTreeClassifier</label><div class=\"sk-toggleable__content\"><pre>DecisionTreeClassifier()</pre></div></div></div></div></div></div></div></div></div></div>"
      ],
      "text/plain": [
       "ROCAUC(ax=<AxesSubplot:title={'center':'ROC Curves for DecisionTreeClassifier'}, xlabel='False Positive Rate', ylabel='True Positive Rate'>,\n",
       "       encoder={0: 'Approved', 1: 'Rejected', 2: 'Withdrawn'},\n",
       "       estimator=DecisionTreeClassifier())"
      ]
     },
     "execution_count": 164,
     "metadata": {},
     "output_type": "execute_result"
    }
   ],
   "source": [
    "#decision tree\n",
    "plot_ROC_curve(model_dt,xtrain,ytrain,xtest,ytest)"
   ]
  },
  {
   "cell_type": "code",
   "execution_count": 165,
   "id": "1e8733f6",
   "metadata": {},
   "outputs": [
    {
     "data": {
      "image/png": "[encoded data removed]",
      "text/plain": [
       "<Figure size 576x396 with 1 Axes>"
      ]
     },
     "metadata": {},
     "output_type": "display_data"
    },
    {
     "data": {
      "text/html": [
       "<style>#sk-container-id-4 {color: black;background-color: white;}#sk-container-id-4 pre{padding: 0;}#sk-container-id-4 div.sk-toggleable {background-color: white;}#sk-container-id-4 label.sk-toggleable__label {cursor: pointer;display: block;width: 100%;margin-bottom: 0;padding: 0.3em;box-sizing: border-box;text-align: center;}#sk-container-id-4 label.sk-toggleable__label-arrow:before {content: \"▸\";float: left;margin-right: 0.25em;color: #696969;}#sk-container-id-4 label.sk-toggleable__label-arrow:hover:before {color: black;}#sk-container-id-4 div.sk-estimator:hover label.sk-toggleable__label-arrow:before {color: black;}#sk-container-id-4 div.sk-toggleable__content {max-height: 0;max-width: 0;overflow: hidden;text-align: left;background-color: #f0f8ff;}#sk-container-id-4 div.sk-toggleable__content pre {margin: 0.2em;color: black;border-radius: 0.25em;background-color: #f0f8ff;}#sk-container-id-4 input.sk-toggleable__control:checked~div.sk-toggleable__content {max-height: 200px;max-width: 100%;overflow: auto;}#sk-container-id-4 input.sk-toggleable__control:checked~label.sk-toggleable__label-arrow:before {content: \"▾\";}#sk-container-id-4 div.sk-estimator input.sk-toggleable__control:checked~label.sk-toggleable__label {background-color: #d4ebff;}#sk-container-id-4 div.sk-label input.sk-toggleable__control:checked~label.sk-toggleable__label {background-color: #d4ebff;}#sk-container-id-4 input.sk-hidden--visually {border: 0;clip: rect(1px 1px 1px 1px);clip: rect(1px, 1px, 1px, 1px);height: 1px;margin: -1px;overflow: hidden;padding: 0;position: absolute;width: 1px;}#sk-container-id-4 div.sk-estimator {font-family: monospace;background-color: #f0f8ff;border: 1px dotted black;border-radius: 0.25em;box-sizing: border-box;margin-bottom: 0.5em;}#sk-container-id-4 div.sk-estimator:hover {background-color: #d4ebff;}#sk-container-id-4 div.sk-parallel-item::after {content: \"\";width: 100%;border-bottom: 1px solid gray;flex-grow: 1;}#sk-container-id-4 div.sk-label:hover label.sk-toggleable__label {background-color: #d4ebff;}#sk-container-id-4 div.sk-serial::before {content: \"\";position: absolute;border-left: 1px solid gray;box-sizing: border-box;top: 0;bottom: 0;left: 50%;z-index: 0;}#sk-container-id-4 div.sk-serial {display: flex;flex-direction: column;align-items: center;background-color: white;padding-right: 0.2em;padding-left: 0.2em;position: relative;}#sk-container-id-4 div.sk-item {position: relative;z-index: 1;}#sk-container-id-4 div.sk-parallel {display: flex;align-items: stretch;justify-content: center;background-color: white;position: relative;}#sk-container-id-4 div.sk-item::before, #sk-container-id-4 div.sk-parallel-item::before {content: \"\";position: absolute;border-left: 1px solid gray;box-sizing: border-box;top: 0;bottom: 0;left: 50%;z-index: -1;}#sk-container-id-4 div.sk-parallel-item {display: flex;flex-direction: column;z-index: 1;position: relative;background-color: white;}#sk-container-id-4 div.sk-parallel-item:first-child::after {align-self: flex-end;width: 50%;}#sk-container-id-4 div.sk-parallel-item:last-child::after {align-self: flex-start;width: 50%;}#sk-container-id-4 div.sk-parallel-item:only-child::after {width: 0;}#sk-container-id-4 div.sk-dashed-wrapped {border: 1px dashed gray;margin: 0 0.4em 0.5em 0.4em;box-sizing: border-box;padding-bottom: 0.4em;background-color: white;}#sk-container-id-4 div.sk-label label {font-family: monospace;font-weight: bold;display: inline-block;line-height: 1.2em;}#sk-container-id-4 div.sk-label-container {text-align: center;}#sk-container-id-4 div.sk-container {/* jupyter's `normalize.less` sets `[hidden] { display: none; }` but bootstrap.min.css set `[hidden] { display: none !important; }` so we also need the `!important` here to be able to override the default hidden behavior on the sphinx rendered scikit-learn.org. See: https://github.com/scikit-learn/scikit-learn/issues/21755 */display: inline-block !important;position: relative;}#sk-container-id-4 div.sk-text-repr-fallback {display: none;}</style><div id=\"sk-container-id-4\" class=\"sk-top-container\"><div class=\"sk-text-repr-fallback\"><pre>ROCAUC(ax=&lt;AxesSubplot:title={&#x27;center&#x27;:&#x27;ROC Curves for XGBClassifier&#x27;}, xlabel=&#x27;False Positive Rate&#x27;, ylabel=&#x27;True Positive Rate&#x27;&gt;,\n",
       "       encoder={0: &#x27;Approved&#x27;, 1: &#x27;Rejected&#x27;, 2: &#x27;Withdrawn&#x27;},\n",
       "       estimator=XGBClassifier(base_score=None, booster=None, callbacks=None,\n",
       "                               colsample_bylevel=None, colsample_bynode=None,\n",
       "                               colsample_bytree=None,\n",
       "                               early_stopping_rounds=None,\n",
       "                               enable_categoric...\n",
       "                               grow_policy=None, importance_type=None,\n",
       "                               interaction_constraints=None, learning_rate=None,\n",
       "                               max_bin=None, max_cat_threshold=None,\n",
       "                               max_cat_to_onehot=None, max_delta_step=None,\n",
       "                               max_depth=None, max_leaves=None,\n",
       "                               min_child_weight=None, missing=nan,\n",
       "                               monotone_constraints=None, n_estimators=100,\n",
       "                               n_jobs=None, num_parallel_tree=None,\n",
       "                               objective=&#x27;multi:softprob&#x27;, predictor=None, ...))</pre><b>In a Jupyter environment, please rerun this cell to show the HTML representation or trust the notebook. <br />On GitHub, the HTML representation is unable to render, please try loading this page with nbviewer.org.</b></div><div class=\"sk-container\" hidden><div class=\"sk-item sk-dashed-wrapped\"><div class=\"sk-label-container\"><div class=\"sk-label sk-toggleable\"><input class=\"sk-toggleable__control sk-hidden--visually\" id=\"sk-estimator-id-10\" type=\"checkbox\" ><label for=\"sk-estimator-id-10\" class=\"sk-toggleable__label sk-toggleable__label-arrow\">ROCAUC</label><div class=\"sk-toggleable__content\"><pre>ROCAUC(ax=&lt;AxesSubplot:title={&#x27;center&#x27;:&#x27;ROC Curves for XGBClassifier&#x27;}, xlabel=&#x27;False Positive Rate&#x27;, ylabel=&#x27;True Positive Rate&#x27;&gt;,\n",
       "       encoder={0: &#x27;Approved&#x27;, 1: &#x27;Rejected&#x27;, 2: &#x27;Withdrawn&#x27;},\n",
       "       estimator=XGBClassifier(base_score=None, booster=None, callbacks=None,\n",
       "                               colsample_bylevel=None, colsample_bynode=None,\n",
       "                               colsample_bytree=None,\n",
       "                               early_stopping_rounds=None,\n",
       "                               enable_categoric...\n",
       "                               grow_policy=None, importance_type=None,\n",
       "                               interaction_constraints=None, learning_rate=None,\n",
       "                               max_bin=None, max_cat_threshold=None,\n",
       "                               max_cat_to_onehot=None, max_delta_step=None,\n",
       "                               max_depth=None, max_leaves=None,\n",
       "                               min_child_weight=None, missing=nan,\n",
       "                               monotone_constraints=None, n_estimators=100,\n",
       "                               n_jobs=None, num_parallel_tree=None,\n",
       "                               objective=&#x27;multi:softprob&#x27;, predictor=None, ...))</pre></div></div></div><div class=\"sk-parallel\"><div class=\"sk-parallel-item\"><div class=\"sk-item\"><div class=\"sk-label-container\"><div class=\"sk-label sk-toggleable\"><input class=\"sk-toggleable__control sk-hidden--visually\" id=\"sk-estimator-id-11\" type=\"checkbox\" ><label for=\"sk-estimator-id-11\" class=\"sk-toggleable__label sk-toggleable__label-arrow\">estimator: XGBClassifier</label><div class=\"sk-toggleable__content\"><pre>XGBClassifier(base_score=None, booster=None, callbacks=None,\n",
       "              colsample_bylevel=None, colsample_bynode=None,\n",
       "              colsample_bytree=None, early_stopping_rounds=None,\n",
       "              enable_categorical=False, eval_metric=None, feature_types=None,\n",
       "              gamma=None, gpu_id=None, grow_policy=None, importance_type=None,\n",
       "              interaction_constraints=None, learning_rate=None, max_bin=None,\n",
       "              max_cat_threshold=None, max_cat_to_onehot=None,\n",
       "              max_delta_step=None, max_depth=None, max_leaves=None,\n",
       "              min_child_weight=None, missing=nan, monotone_constraints=None,\n",
       "              n_estimators=100, n_jobs=None, num_parallel_tree=None,\n",
       "              objective=&#x27;multi:softprob&#x27;, predictor=None, ...)</pre></div></div></div><div class=\"sk-serial\"><div class=\"sk-item\"><div class=\"sk-estimator sk-toggleable\"><input class=\"sk-toggleable__control sk-hidden--visually\" id=\"sk-estimator-id-12\" type=\"checkbox\" ><label for=\"sk-estimator-id-12\" class=\"sk-toggleable__label sk-toggleable__label-arrow\">XGBClassifier</label><div class=\"sk-toggleable__content\"><pre>XGBClassifier(base_score=None, booster=None, callbacks=None,\n",
       "              colsample_bylevel=None, colsample_bynode=None,\n",
       "              colsample_bytree=None, early_stopping_rounds=None,\n",
       "              enable_categorical=False, eval_metric=None, feature_types=None,\n",
       "              gamma=None, gpu_id=None, grow_policy=None, importance_type=None,\n",
       "              interaction_constraints=None, learning_rate=None, max_bin=None,\n",
       "              max_cat_threshold=None, max_cat_to_onehot=None,\n",
       "              max_delta_step=None, max_depth=None, max_leaves=None,\n",
       "              min_child_weight=None, missing=nan, monotone_constraints=None,\n",
       "              n_estimators=100, n_jobs=None, num_parallel_tree=None,\n",
       "              objective=&#x27;multi:softprob&#x27;, predictor=None, ...)</pre></div></div></div></div></div></div></div></div></div></div>"
      ],
      "text/plain": [
       "ROCAUC(ax=<AxesSubplot:title={'center':'ROC Curves for XGBClassifier'}, xlabel='False Positive Rate', ylabel='True Positive Rate'>,\n",
       "       encoder={0: 'Approved', 1: 'Rejected', 2: 'Withdrawn'},\n",
       "       estimator=XGBClassifier(base_score=None, booster=None, callbacks=None,\n",
       "                               colsample_bylevel=None, colsample_bynode=None,\n",
       "                               colsample_bytree=None,\n",
       "                               early_stopping_rounds=None,\n",
       "                               enable_categoric...\n",
       "                               grow_policy=None, importance_type=None,\n",
       "                               interaction_constraints=None, learning_rate=None,\n",
       "                               max_bin=None, max_cat_threshold=None,\n",
       "                               max_cat_to_onehot=None, max_delta_step=None,\n",
       "                               max_depth=None, max_leaves=None,\n",
       "                               min_child_weight=None, missing=nan,\n",
       "                               monotone_constraints=None, n_estimators=100,\n",
       "                               n_jobs=None, num_parallel_tree=None,\n",
       "                               objective='multi:softprob', predictor=None, ...))"
      ]
     },
     "execution_count": 165,
     "metadata": {},
     "output_type": "execute_result"
    }
   ],
   "source": [
    "#decision tree\n",
    "plot_ROC_curve(xg_model,xtrain,ytrain,xtest,ytest)"
   ]
  },
  {
   "cell_type": "code",
   "execution_count": 166,
   "id": "85166177",
   "metadata": {},
   "outputs": [
    {
     "data": {
      "image/png": "[encoded data removed]",
      "text/plain": [
       "<Figure size 576x396 with 1 Axes>"
      ]
     },
     "metadata": {},
     "output_type": "display_data"
    },
    {
     "data": {
      "text/html": [
       "<style>#sk-container-id-5 {color: black;background-color: white;}#sk-container-id-5 pre{padding: 0;}#sk-container-id-5 div.sk-toggleable {background-color: white;}#sk-container-id-5 label.sk-toggleable__label {cursor: pointer;display: block;width: 100%;margin-bottom: 0;padding: 0.3em;box-sizing: border-box;text-align: center;}#sk-container-id-5 label.sk-toggleable__label-arrow:before {content: \"▸\";float: left;margin-right: 0.25em;color: #696969;}#sk-container-id-5 label.sk-toggleable__label-arrow:hover:before {color: black;}#sk-container-id-5 div.sk-estimator:hover label.sk-toggleable__label-arrow:before {color: black;}#sk-container-id-5 div.sk-toggleable__content {max-height: 0;max-width: 0;overflow: hidden;text-align: left;background-color: #f0f8ff;}#sk-container-id-5 div.sk-toggleable__content pre {margin: 0.2em;color: black;border-radius: 0.25em;background-color: #f0f8ff;}#sk-container-id-5 input.sk-toggleable__control:checked~div.sk-toggleable__content {max-height: 200px;max-width: 100%;overflow: auto;}#sk-container-id-5 input.sk-toggleable__control:checked~label.sk-toggleable__label-arrow:before {content: \"▾\";}#sk-container-id-5 div.sk-estimator input.sk-toggleable__control:checked~label.sk-toggleable__label {background-color: #d4ebff;}#sk-container-id-5 div.sk-label input.sk-toggleable__control:checked~label.sk-toggleable__label {background-color: #d4ebff;}#sk-container-id-5 input.sk-hidden--visually {border: 0;clip: rect(1px 1px 1px 1px);clip: rect(1px, 1px, 1px, 1px);height: 1px;margin: -1px;overflow: hidden;padding: 0;position: absolute;width: 1px;}#sk-container-id-5 div.sk-estimator {font-family: monospace;background-color: #f0f8ff;border: 1px dotted black;border-radius: 0.25em;box-sizing: border-box;margin-bottom: 0.5em;}#sk-container-id-5 div.sk-estimator:hover {background-color: #d4ebff;}#sk-container-id-5 div.sk-parallel-item::after {content: \"\";width: 100%;border-bottom: 1px solid gray;flex-grow: 1;}#sk-container-id-5 div.sk-label:hover label.sk-toggleable__label {background-color: #d4ebff;}#sk-container-id-5 div.sk-serial::before {content: \"\";position: absolute;border-left: 1px solid gray;box-sizing: border-box;top: 0;bottom: 0;left: 50%;z-index: 0;}#sk-container-id-5 div.sk-serial {display: flex;flex-direction: column;align-items: center;background-color: white;padding-right: 0.2em;padding-left: 0.2em;position: relative;}#sk-container-id-5 div.sk-item {position: relative;z-index: 1;}#sk-container-id-5 div.sk-parallel {display: flex;align-items: stretch;justify-content: center;background-color: white;position: relative;}#sk-container-id-5 div.sk-item::before, #sk-container-id-5 div.sk-parallel-item::before {content: \"\";position: absolute;border-left: 1px solid gray;box-sizing: border-box;top: 0;bottom: 0;left: 50%;z-index: -1;}#sk-container-id-5 div.sk-parallel-item {display: flex;flex-direction: column;z-index: 1;position: relative;background-color: white;}#sk-container-id-5 div.sk-parallel-item:first-child::after {align-self: flex-end;width: 50%;}#sk-container-id-5 div.sk-parallel-item:last-child::after {align-self: flex-start;width: 50%;}#sk-container-id-5 div.sk-parallel-item:only-child::after {width: 0;}#sk-container-id-5 div.sk-dashed-wrapped {border: 1px dashed gray;margin: 0 0.4em 0.5em 0.4em;box-sizing: border-box;padding-bottom: 0.4em;background-color: white;}#sk-container-id-5 div.sk-label label {font-family: monospace;font-weight: bold;display: inline-block;line-height: 1.2em;}#sk-container-id-5 div.sk-label-container {text-align: center;}#sk-container-id-5 div.sk-container {/* jupyter's `normalize.less` sets `[hidden] { display: none; }` but bootstrap.min.css set `[hidden] { display: none !important; }` so we also need the `!important` here to be able to override the default hidden behavior on the sphinx rendered scikit-learn.org. See: https://github.com/scikit-learn/scikit-learn/issues/21755 */display: inline-block !important;position: relative;}#sk-container-id-5 div.sk-text-repr-fallback {display: none;}</style><div id=\"sk-container-id-5\" class=\"sk-top-container\"><div class=\"sk-text-repr-fallback\"><pre>ROCAUC(ax=&lt;AxesSubplot:title={&#x27;center&#x27;:&#x27;ROC Curves for LogisticRegression&#x27;}, xlabel=&#x27;False Positive Rate&#x27;, ylabel=&#x27;True Positive Rate&#x27;&gt;,\n",
       "       encoder={0: &#x27;Approved&#x27;, 1: &#x27;Rejected&#x27;, 2: &#x27;Withdrawn&#x27;},\n",
       "       estimator=LogisticRegression())</pre><b>In a Jupyter environment, please rerun this cell to show the HTML representation or trust the notebook. <br />On GitHub, the HTML representation is unable to render, please try loading this page with nbviewer.org.</b></div><div class=\"sk-container\" hidden><div class=\"sk-item sk-dashed-wrapped\"><div class=\"sk-label-container\"><div class=\"sk-label sk-toggleable\"><input class=\"sk-toggleable__control sk-hidden--visually\" id=\"sk-estimator-id-13\" type=\"checkbox\" ><label for=\"sk-estimator-id-13\" class=\"sk-toggleable__label sk-toggleable__label-arrow\">ROCAUC</label><div class=\"sk-toggleable__content\"><pre>ROCAUC(ax=&lt;AxesSubplot:title={&#x27;center&#x27;:&#x27;ROC Curves for LogisticRegression&#x27;}, xlabel=&#x27;False Positive Rate&#x27;, ylabel=&#x27;True Positive Rate&#x27;&gt;,\n",
       "       encoder={0: &#x27;Approved&#x27;, 1: &#x27;Rejected&#x27;, 2: &#x27;Withdrawn&#x27;},\n",
       "       estimator=LogisticRegression())</pre></div></div></div><div class=\"sk-parallel\"><div class=\"sk-parallel-item\"><div class=\"sk-item\"><div class=\"sk-label-container\"><div class=\"sk-label sk-toggleable\"><input class=\"sk-toggleable__control sk-hidden--visually\" id=\"sk-estimator-id-14\" type=\"checkbox\" ><label for=\"sk-estimator-id-14\" class=\"sk-toggleable__label sk-toggleable__label-arrow\">estimator: LogisticRegression</label><div class=\"sk-toggleable__content\"><pre>LogisticRegression()</pre></div></div></div><div class=\"sk-serial\"><div class=\"sk-item\"><div class=\"sk-estimator sk-toggleable\"><input class=\"sk-toggleable__control sk-hidden--visually\" id=\"sk-estimator-id-15\" type=\"checkbox\" ><label for=\"sk-estimator-id-15\" class=\"sk-toggleable__label sk-toggleable__label-arrow\">LogisticRegression</label><div class=\"sk-toggleable__content\"><pre>LogisticRegression()</pre></div></div></div></div></div></div></div></div></div></div>"
      ],
      "text/plain": [
       "ROCAUC(ax=<AxesSubplot:title={'center':'ROC Curves for LogisticRegression'}, xlabel='False Positive Rate', ylabel='True Positive Rate'>,\n",
       "       encoder={0: 'Approved', 1: 'Rejected', 2: 'Withdrawn'},\n",
       "       estimator=LogisticRegression())"
      ]
     },
     "execution_count": 166,
     "metadata": {},
     "output_type": "execute_result"
    }
   ],
   "source": [
    "#logistic Regression\n",
    "plot_ROC_curve(log_reg,xtrain,ytrain,xtest,ytest)"
   ]
  },
  {
   "cell_type": "code",
   "execution_count": 167,
   "id": "f6855cb7",
   "metadata": {},
   "outputs": [
    {
     "data": {
      "image/png": "[encoded data removed]",
      "text/plain": [
       "<Figure size 576x396 with 1 Axes>"
      ]
     },
     "metadata": {},
     "output_type": "display_data"
    },
    {
     "data": {
      "text/html": [
       "<style>#sk-container-id-6 {color: black;background-color: white;}#sk-container-id-6 pre{padding: 0;}#sk-container-id-6 div.sk-toggleable {background-color: white;}#sk-container-id-6 label.sk-toggleable__label {cursor: pointer;display: block;width: 100%;margin-bottom: 0;padding: 0.3em;box-sizing: border-box;text-align: center;}#sk-container-id-6 label.sk-toggleable__label-arrow:before {content: \"▸\";float: left;margin-right: 0.25em;color: #696969;}#sk-container-id-6 label.sk-toggleable__label-arrow:hover:before {color: black;}#sk-container-id-6 div.sk-estimator:hover label.sk-toggleable__label-arrow:before {color: black;}#sk-container-id-6 div.sk-toggleable__content {max-height: 0;max-width: 0;overflow: hidden;text-align: left;background-color: #f0f8ff;}#sk-container-id-6 div.sk-toggleable__content pre {margin: 0.2em;color: black;border-radius: 0.25em;background-color: #f0f8ff;}#sk-container-id-6 input.sk-toggleable__control:checked~div.sk-toggleable__content {max-height: 200px;max-width: 100%;overflow: auto;}#sk-container-id-6 input.sk-toggleable__control:checked~label.sk-toggleable__label-arrow:before {content: \"▾\";}#sk-container-id-6 div.sk-estimator input.sk-toggleable__control:checked~label.sk-toggleable__label {background-color: #d4ebff;}#sk-container-id-6 div.sk-label input.sk-toggleable__control:checked~label.sk-toggleable__label {background-color: #d4ebff;}#sk-container-id-6 input.sk-hidden--visually {border: 0;clip: rect(1px 1px 1px 1px);clip: rect(1px, 1px, 1px, 1px);height: 1px;margin: -1px;overflow: hidden;padding: 0;position: absolute;width: 1px;}#sk-container-id-6 div.sk-estimator {font-family: monospace;background-color: #f0f8ff;border: 1px dotted black;border-radius: 0.25em;box-sizing: border-box;margin-bottom: 0.5em;}#sk-container-id-6 div.sk-estimator:hover {background-color: #d4ebff;}#sk-container-id-6 div.sk-parallel-item::after {content: \"\";width: 100%;border-bottom: 1px solid gray;flex-grow: 1;}#sk-container-id-6 div.sk-label:hover label.sk-toggleable__label {background-color: #d4ebff;}#sk-container-id-6 div.sk-serial::before {content: \"\";position: absolute;border-left: 1px solid gray;box-sizing: border-box;top: 0;bottom: 0;left: 50%;z-index: 0;}#sk-container-id-6 div.sk-serial {display: flex;flex-direction: column;align-items: center;background-color: white;padding-right: 0.2em;padding-left: 0.2em;position: relative;}#sk-container-id-6 div.sk-item {position: relative;z-index: 1;}#sk-container-id-6 div.sk-parallel {display: flex;align-items: stretch;justify-content: center;background-color: white;position: relative;}#sk-container-id-6 div.sk-item::before, #sk-container-id-6 div.sk-parallel-item::before {content: \"\";position: absolute;border-left: 1px solid gray;box-sizing: border-box;top: 0;bottom: 0;left: 50%;z-index: -1;}#sk-container-id-6 div.sk-parallel-item {display: flex;flex-direction: column;z-index: 1;position: relative;background-color: white;}#sk-container-id-6 div.sk-parallel-item:first-child::after {align-self: flex-end;width: 50%;}#sk-container-id-6 div.sk-parallel-item:last-child::after {align-self: flex-start;width: 50%;}#sk-container-id-6 div.sk-parallel-item:only-child::after {width: 0;}#sk-container-id-6 div.sk-dashed-wrapped {border: 1px dashed gray;margin: 0 0.4em 0.5em 0.4em;box-sizing: border-box;padding-bottom: 0.4em;background-color: white;}#sk-container-id-6 div.sk-label label {font-family: monospace;font-weight: bold;display: inline-block;line-height: 1.2em;}#sk-container-id-6 div.sk-label-container {text-align: center;}#sk-container-id-6 div.sk-container {/* jupyter's `normalize.less` sets `[hidden] { display: none; }` but bootstrap.min.css set `[hidden] { display: none !important; }` so we also need the `!important` here to be able to override the default hidden behavior on the sphinx rendered scikit-learn.org. See: https://github.com/scikit-learn/scikit-learn/issues/21755 */display: inline-block !important;position: relative;}#sk-container-id-6 div.sk-text-repr-fallback {display: none;}</style><div id=\"sk-container-id-6\" class=\"sk-top-container\"><div class=\"sk-text-repr-fallback\"><pre>ROCAUC(ax=&lt;AxesSubplot:title={&#x27;center&#x27;:&#x27;ROC Curves for AdaBoostClassifier&#x27;}, xlabel=&#x27;False Positive Rate&#x27;, ylabel=&#x27;True Positive Rate&#x27;&gt;,\n",
       "       encoder={0: &#x27;Approved&#x27;, 1: &#x27;Rejected&#x27;, 2: &#x27;Withdrawn&#x27;},\n",
       "       estimator=AdaBoostClassifier())</pre><b>In a Jupyter environment, please rerun this cell to show the HTML representation or trust the notebook. <br />On GitHub, the HTML representation is unable to render, please try loading this page with nbviewer.org.</b></div><div class=\"sk-container\" hidden><div class=\"sk-item sk-dashed-wrapped\"><div class=\"sk-label-container\"><div class=\"sk-label sk-toggleable\"><input class=\"sk-toggleable__control sk-hidden--visually\" id=\"sk-estimator-id-16\" type=\"checkbox\" ><label for=\"sk-estimator-id-16\" class=\"sk-toggleable__label sk-toggleable__label-arrow\">ROCAUC</label><div class=\"sk-toggleable__content\"><pre>ROCAUC(ax=&lt;AxesSubplot:title={&#x27;center&#x27;:&#x27;ROC Curves for AdaBoostClassifier&#x27;}, xlabel=&#x27;False Positive Rate&#x27;, ylabel=&#x27;True Positive Rate&#x27;&gt;,\n",
       "       encoder={0: &#x27;Approved&#x27;, 1: &#x27;Rejected&#x27;, 2: &#x27;Withdrawn&#x27;},\n",
       "       estimator=AdaBoostClassifier())</pre></div></div></div><div class=\"sk-parallel\"><div class=\"sk-parallel-item\"><div class=\"sk-item\"><div class=\"sk-label-container\"><div class=\"sk-label sk-toggleable\"><input class=\"sk-toggleable__control sk-hidden--visually\" id=\"sk-estimator-id-17\" type=\"checkbox\" ><label for=\"sk-estimator-id-17\" class=\"sk-toggleable__label sk-toggleable__label-arrow\">estimator: AdaBoostClassifier</label><div class=\"sk-toggleable__content\"><pre>AdaBoostClassifier()</pre></div></div></div><div class=\"sk-serial\"><div class=\"sk-item\"><div class=\"sk-estimator sk-toggleable\"><input class=\"sk-toggleable__control sk-hidden--visually\" id=\"sk-estimator-id-18\" type=\"checkbox\" ><label for=\"sk-estimator-id-18\" class=\"sk-toggleable__label sk-toggleable__label-arrow\">AdaBoostClassifier</label><div class=\"sk-toggleable__content\"><pre>AdaBoostClassifier()</pre></div></div></div></div></div></div></div></div></div></div>"
      ],
      "text/plain": [
       "ROCAUC(ax=<AxesSubplot:title={'center':'ROC Curves for AdaBoostClassifier'}, xlabel='False Positive Rate', ylabel='True Positive Rate'>,\n",
       "       encoder={0: 'Approved', 1: 'Rejected', 2: 'Withdrawn'},\n",
       "       estimator=AdaBoostClassifier())"
      ]
     },
     "execution_count": 167,
     "metadata": {},
     "output_type": "execute_result"
    }
   ],
   "source": [
    "#Adaboost Classifier\n",
    "plot_ROC_curve(model_ada,xtrain,ytrain,xtest,ytest)"
   ]
  },
  {
   "cell_type": "code",
   "execution_count": 168,
   "id": "ef7da9e3",
   "metadata": {},
   "outputs": [
    {
     "data": {
      "image/png": "[encoded data removed]",
      "text/plain": [
       "<Figure size 576x396 with 1 Axes>"
      ]
     },
     "metadata": {},
     "output_type": "display_data"
    },
    {
     "data": {
      "text/html": [
       "<style>#sk-container-id-7 {color: black;background-color: white;}#sk-container-id-7 pre{padding: 0;}#sk-container-id-7 div.sk-toggleable {background-color: white;}#sk-container-id-7 label.sk-toggleable__label {cursor: pointer;display: block;width: 100%;margin-bottom: 0;padding: 0.3em;box-sizing: border-box;text-align: center;}#sk-container-id-7 label.sk-toggleable__label-arrow:before {content: \"▸\";float: left;margin-right: 0.25em;color: #696969;}#sk-container-id-7 label.sk-toggleable__label-arrow:hover:before {color: black;}#sk-container-id-7 div.sk-estimator:hover label.sk-toggleable__label-arrow:before {color: black;}#sk-container-id-7 div.sk-toggleable__content {max-height: 0;max-width: 0;overflow: hidden;text-align: left;background-color: #f0f8ff;}#sk-container-id-7 div.sk-toggleable__content pre {margin: 0.2em;color: black;border-radius: 0.25em;background-color: #f0f8ff;}#sk-container-id-7 input.sk-toggleable__control:checked~div.sk-toggleable__content {max-height: 200px;max-width: 100%;overflow: auto;}#sk-container-id-7 input.sk-toggleable__control:checked~label.sk-toggleable__label-arrow:before {content: \"▾\";}#sk-container-id-7 div.sk-estimator input.sk-toggleable__control:checked~label.sk-toggleable__label {background-color: #d4ebff;}#sk-container-id-7 div.sk-label input.sk-toggleable__control:checked~label.sk-toggleable__label {background-color: #d4ebff;}#sk-container-id-7 input.sk-hidden--visually {border: 0;clip: rect(1px 1px 1px 1px);clip: rect(1px, 1px, 1px, 1px);height: 1px;margin: -1px;overflow: hidden;padding: 0;position: absolute;width: 1px;}#sk-container-id-7 div.sk-estimator {font-family: monospace;background-color: #f0f8ff;border: 1px dotted black;border-radius: 0.25em;box-sizing: border-box;margin-bottom: 0.5em;}#sk-container-id-7 div.sk-estimator:hover {background-color: #d4ebff;}#sk-container-id-7 div.sk-parallel-item::after {content: \"\";width: 100%;border-bottom: 1px solid gray;flex-grow: 1;}#sk-container-id-7 div.sk-label:hover label.sk-toggleable__label {background-color: #d4ebff;}#sk-container-id-7 div.sk-serial::before {content: \"\";position: absolute;border-left: 1px solid gray;box-sizing: border-box;top: 0;bottom: 0;left: 50%;z-index: 0;}#sk-container-id-7 div.sk-serial {display: flex;flex-direction: column;align-items: center;background-color: white;padding-right: 0.2em;padding-left: 0.2em;position: relative;}#sk-container-id-7 div.sk-item {position: relative;z-index: 1;}#sk-container-id-7 div.sk-parallel {display: flex;align-items: stretch;justify-content: center;background-color: white;position: relative;}#sk-container-id-7 div.sk-item::before, #sk-container-id-7 div.sk-parallel-item::before {content: \"\";position: absolute;border-left: 1px solid gray;box-sizing: border-box;top: 0;bottom: 0;left: 50%;z-index: -1;}#sk-container-id-7 div.sk-parallel-item {display: flex;flex-direction: column;z-index: 1;position: relative;background-color: white;}#sk-container-id-7 div.sk-parallel-item:first-child::after {align-self: flex-end;width: 50%;}#sk-container-id-7 div.sk-parallel-item:last-child::after {align-self: flex-start;width: 50%;}#sk-container-id-7 div.sk-parallel-item:only-child::after {width: 0;}#sk-container-id-7 div.sk-dashed-wrapped {border: 1px dashed gray;margin: 0 0.4em 0.5em 0.4em;box-sizing: border-box;padding-bottom: 0.4em;background-color: white;}#sk-container-id-7 div.sk-label label {font-family: monospace;font-weight: bold;display: inline-block;line-height: 1.2em;}#sk-container-id-7 div.sk-label-container {text-align: center;}#sk-container-id-7 div.sk-container {/* jupyter's `normalize.less` sets `[hidden] { display: none; }` but bootstrap.min.css set `[hidden] { display: none !important; }` so we also need the `!important` here to be able to override the default hidden behavior on the sphinx rendered scikit-learn.org. See: https://github.com/scikit-learn/scikit-learn/issues/21755 */display: inline-block !important;position: relative;}#sk-container-id-7 div.sk-text-repr-fallback {display: none;}</style><div id=\"sk-container-id-7\" class=\"sk-top-container\"><div class=\"sk-text-repr-fallback\"><pre>ROCAUC(ax=&lt;AxesSubplot:title={&#x27;center&#x27;:&#x27;ROC Curves for GradientBoostingClassifier&#x27;}, xlabel=&#x27;False Positive Rate&#x27;, ylabel=&#x27;True Positive Rate&#x27;&gt;,\n",
       "       encoder={0: &#x27;Approved&#x27;, 1: &#x27;Rejected&#x27;, 2: &#x27;Withdrawn&#x27;},\n",
       "       estimator=GradientBoostingClassifier())</pre><b>In a Jupyter environment, please rerun this cell to show the HTML representation or trust the notebook. <br />On GitHub, the HTML representation is unable to render, please try loading this page with nbviewer.org.</b></div><div class=\"sk-container\" hidden><div class=\"sk-item sk-dashed-wrapped\"><div class=\"sk-label-container\"><div class=\"sk-label sk-toggleable\"><input class=\"sk-toggleable__control sk-hidden--visually\" id=\"sk-estimator-id-19\" type=\"checkbox\" ><label for=\"sk-estimator-id-19\" class=\"sk-toggleable__label sk-toggleable__label-arrow\">ROCAUC</label><div class=\"sk-toggleable__content\"><pre>ROCAUC(ax=&lt;AxesSubplot:title={&#x27;center&#x27;:&#x27;ROC Curves for GradientBoostingClassifier&#x27;}, xlabel=&#x27;False Positive Rate&#x27;, ylabel=&#x27;True Positive Rate&#x27;&gt;,\n",
       "       encoder={0: &#x27;Approved&#x27;, 1: &#x27;Rejected&#x27;, 2: &#x27;Withdrawn&#x27;},\n",
       "       estimator=GradientBoostingClassifier())</pre></div></div></div><div class=\"sk-parallel\"><div class=\"sk-parallel-item\"><div class=\"sk-item\"><div class=\"sk-label-container\"><div class=\"sk-label sk-toggleable\"><input class=\"sk-toggleable__control sk-hidden--visually\" id=\"sk-estimator-id-20\" type=\"checkbox\" ><label for=\"sk-estimator-id-20\" class=\"sk-toggleable__label sk-toggleable__label-arrow\">estimator: GradientBoostingClassifier</label><div class=\"sk-toggleable__content\"><pre>GradientBoostingClassifier()</pre></div></div></div><div class=\"sk-serial\"><div class=\"sk-item\"><div class=\"sk-estimator sk-toggleable\"><input class=\"sk-toggleable__control sk-hidden--visually\" id=\"sk-estimator-id-21\" type=\"checkbox\" ><label for=\"sk-estimator-id-21\" class=\"sk-toggleable__label sk-toggleable__label-arrow\">GradientBoostingClassifier</label><div class=\"sk-toggleable__content\"><pre>GradientBoostingClassifier()</pre></div></div></div></div></div></div></div></div></div></div>"
      ],
      "text/plain": [
       "ROCAUC(ax=<AxesSubplot:title={'center':'ROC Curves for GradientBoostingClassifier'}, xlabel='False Positive Rate', ylabel='True Positive Rate'>,\n",
       "       encoder={0: 'Approved', 1: 'Rejected', 2: 'Withdrawn'},\n",
       "       estimator=GradientBoostingClassifier())"
      ]
     },
     "execution_count": 168,
     "metadata": {},
     "output_type": "execute_result"
    }
   ],
   "source": [
    "#Gradient Boosting\n",
    "plot_ROC_curve(gb_model,xtrain,ytrain,xtest,ytest)"
   ]
  },
  {
   "cell_type": "code",
   "execution_count": null,
   "id": "eb06636c",
   "metadata": {},
   "outputs": [],
   "source": []
  }
 ],
 "metadata": {
  "kernelspec": {
   "display_name": "Python 3 (ipykernel)",
   "language": "python",
   "name": "python3"
  },
  "language_info": {
   "codemirror_mode": {
    "name": "ipython",
    "version": 3
   },
   "file_extension": ".py",
   "mimetype": "text/x-python",
   "name": "python",
   "nbconvert_exporter": "python",
   "pygments_lexer": "ipython3",
   "version": "3.9.7"
  }
 },
 "nbformat": 4,
 "nbformat_minor": 5
}
